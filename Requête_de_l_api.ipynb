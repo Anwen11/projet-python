{
 "cells": [
  {
   "attachments": {},
   "cell_type": "markdown",
   "metadata": {},
   "source": [
    "## Requêtes vers l'api [MarmitonApp](http://162.19.108.77:8000/docs)"
   ]
  },
  {
   "attachments": {},
   "cell_type": "markdown",
   "metadata": {},
   "source": [
    "## Import des biblitothèques"
   ]
  },
  {
   "cell_type": "code",
   "execution_count": 1,
   "metadata": {},
   "outputs": [],
   "source": [
    "import requests"
   ]
  },
  {
   "attachments": {},
   "cell_type": "markdown",
   "metadata": {},
   "source": [
    "## Requêtes des urls avec des noms de recettes"
   ]
  },
  {
   "cell_type": "code",
   "execution_count": 13,
   "metadata": {},
   "outputs": [
    {
     "data": {
      "text/plain": [
       "'[\"https://www.marmiton.org/recettes/recette_tarte-aux-pommes-a-l-alsacienne_11457.aspx\",\"https://www.marmiton.org/recettes/recette_tarte-aux-pommes_18588.aspx\",\"https://www.marmiton.org/recettes/recette_tarte-pommes-rapees-citrons_18437.aspx\",\"https://www.marmiton.org/recettes/recette_tarte-crumble-aux-pommes_37128.aspx\",\"https://www.marmiton.org/recettes/recette_tarte-aux-pommes-facile_92486.aspx\",\"https://www.marmiton.org/recettes/recette_tarte-pommes-amandes-et-chocolat_38664.aspx\",\"https://www.marmiton.org/recettes/recette_tarte-aux-pommes-normande-de-mag-16eme-rencontre-marmiton_35497.aspx\",\"https://www.marmiton.org/recettes/recette_tarte-aux-pommes-de-terre-et-au-roquefort_26889.aspx\",\"https://www.marmiton.org/recettes/recette_tarte-aux-pommes-miel-et-amandes_15227.aspx\",\"https://www.marmiton.org/recettes/recette_tarte-meringuee-aux-pommes-et-aux-poires_37495.aspx\",\"https://www.marmiton.org/recettes/recette_tarte-aux-pommes-et-a-la-noix-de-coco_18921.aspx\",\"https://www.marmiton.org/recettes/recette_tarte-creole-aux-pommes_20882.aspx\"]'"
      ]
     },
     "execution_count": 13,
     "metadata": {},
     "output_type": "execute_result"
    }
   ],
   "source": [
    "r = requests.post('http://162.19.108.77:8000/recipe_urls/',json={'name': 'tarte au pommes'})\n",
    "r.text"
   ]
  },
  {
   "attachments": {},
   "cell_type": "markdown",
   "metadata": {},
   "source": [
    "## Requête des ingrédients avec noms de recette"
   ]
  },
  {
   "cell_type": "code",
   "execution_count": 26,
   "metadata": {},
   "outputs": [
    {
     "data": {
      "text/plain": [
       "'[\"500\\xa0g de beaufort \",\"400\\xa0g de comté \",\"1⁄4 reblochon (facultatif)\",\"1\\xa0c.à.c de maïzena \",\"2\\xa0verres de vin blanc (vin des Abymes)\",\"300\\xa0g de tomme de Savoie\",\"1\\xa0petit verre de kirsch \",\"1\\xa0gousse d\\'ail \",\"1 pain de campagne \"]'"
      ]
     },
     "execution_count": 26,
     "metadata": {},
     "output_type": "execute_result"
    }
   ],
   "source": [
    "r = requests.post(\"http://162.19.108.77:8000/ingredients_marmiton/\", json={\"name\":\"fondue savoyarde\"})\n",
    "r.text"
   ]
  },
  {
   "attachments": {},
   "cell_type": "markdown",
   "metadata": {},
   "source": [
    "## Requête des ingrédients de la deuxième recette avec noms de recettes "
   ]
  },
  {
   "cell_type": "code",
   "execution_count": 31,
   "metadata": {},
   "outputs": [
    {
     "data": {
      "text/plain": [
       "'[\"1 oignon (facultatif)\",\"200\\xa0g de lardons \",\"1.5\\xa0kg de pomme des terre fermes\",\"40\\xa0cl de crème liquide \"]'"
      ]
     },
     "execution_count": 31,
     "metadata": {},
     "output_type": "execute_result"
    }
   ],
   "source": [
    "r = requests.post('http://162.19.108.77:8000/recipe_urls/',json={'name': 'fondue savoyarde'})\n",
    "url = r.json()[5]\n",
    "r = requests.post(\"http://162.19.108.77:8000/ingredients_marmiton/\", json={\"url\":url})\n",
    "r.text"
   ]
  },
  {
   "cell_type": "code",
   "execution_count": null,
   "metadata": {},
   "outputs": [],
   "source": []
  }
 ],
 "metadata": {
  "kernelspec": {
   "display_name": "venvprojetpython",
   "language": "python",
   "name": "python3"
  },
  "language_info": {
   "codemirror_mode": {
    "name": "ipython",
    "version": 3
   },
   "file_extension": ".py",
   "mimetype": "text/x-python",
   "name": "python",
   "nbconvert_exporter": "python",
   "pygments_lexer": "ipython3",
   "version": "3.10.11"
  },
  "orig_nbformat": 4
 },
 "nbformat": 4,
 "nbformat_minor": 2
}
