{
 "cells": [
  {
   "attachments": {},
   "cell_type": "markdown",
   "metadata": {},
   "source": [
    "# Nettoyage des données"
   ]
  },
  {
   "attachments": {},
   "cell_type": "markdown",
   "metadata": {},
   "source": [
    "## Import des bibliothèques"
   ]
  },
  {
   "cell_type": "code",
   "execution_count": 2,
   "metadata": {},
   "outputs": [],
   "source": [
    "import pandas"
   ]
  },
  {
   "attachments": {},
   "cell_type": "markdown",
   "metadata": {},
   "source": [
    "## Lecture du fichier"
   ]
  },
  {
   "cell_type": "code",
   "execution_count": 3,
   "metadata": {},
   "outputs": [],
   "source": [
    "dfsynthese = pandas.read_excel(\"data/AGRIBALYSE3.1_produits alimentaires_2.xlsm\", \"Synthese\")"
   ]
  },
  {
   "cell_type": "code",
   "execution_count": 4,
   "metadata": {},
   "outputs": [],
   "source": [
    "dfdetail_etape = pandas.read_excel(\"data/AGRIBALYSE3.1_produits alimentaires_2.xlsm\", \"Detail etape\")"
   ]
  },
  {
   "cell_type": "code",
   "execution_count": 5,
   "metadata": {},
   "outputs": [],
   "source": [
    "dfdetail_etape = pandas.read_excel(\"data/AGRIBALYSE3.1_produits alimentaires_2.xlsm\", \"Detail ingredient\")"
   ]
  },
  {
   "attachments": {},
   "cell_type": "markdown",
   "metadata": {},
   "source": [
    "## Nettoyage des noms des colonnes"
   ]
  },
  {
   "attachments": {},
   "cell_type": "markdown",
   "metadata": {},
   "source": [
    "### Récupération des noms des colonnes"
   ]
  },
  {
   "cell_type": "code",
   "execution_count": 13,
   "metadata": {},
   "outputs": [
    {
     "data": {
      "text/plain": [
       "Unnamed: 0                                                                                                                                                                                                                                                                                                                                                                                                                                                                                                                                                                                                                                                         Code\\nAGB\n",
       "Unnamed: 1                                                                                                                                                                                                                                                                                                                                                                                                                                                                                                                                                                                                                                                      Code\\nCIQUAL\n",
       "Unnamed: 2                                                                                                                                                                                                                                                                                                                                                                                                                                                                                                                                                                                                                                                  Groupe d'aliment\n",
       "Synthèse                                                                                                                                                                                                                                                                                                                                                                                                                                                                                                                                                                                                                                               Sous-groupe d'aliment\n",
       "Unnamed: 4                                                                                                                                                                                                                                                                                                                                                                                                                                                                                                                                                                                                                                        Nom du Produit en Français\n",
       "Unnamed: 5                                                                                                                                                                                                                                                                                                                                                                                                                                                                                                                                                                                                                                                          LCI Name\n",
       "Unnamed: 6                                                                                                                                                                                                                                                                                                                                                                                                                                                                                                                                                                                                                 code saison (0 : hors saison ; 1 : de saison ;...\n",
       "Unnamed: 7                                                                                                                                                                                                                                                                                                                                                                                                                                                                                                                                                                                                                                        code avion (1 : par avion)\n",
       "Unnamed: 8                                                                                                                                                                                                                                                                                                                                                                                                                                                                                                                                                                                                                                                         Livraison\n",
       "Unnamed: 9                                                                                                                                                                                                                                                                                                                                                                                                                                                                                                                                                                                                                                              Matériau d'emballage\n",
       "Unnamed: 10                                                                                                                                                                                                                                                                                                                                                                                                                                                                                                                                                                                                                                                      Préparation\n",
       "Unnamed: 11                                                                                                                                                                                                                                                                                                                                                                                                                                                                                                                                                                                                                DQR - Note de qualité de la donnée (1 excellen...\n",
       "Unnamed: 12                                                                                                                                                                                                                                                                                                                                                                                                                                                                                                                                                                                                                                                mPt/kg de produit\n",
       "Unnamed: 13                                                                                                                                                                                                                                                                                                                                                                                                                                                                                                                                                                                                                                          kg CO2 eq/kg de produit\n",
       "Unnamed: 14                                                                                                                                                                                                                                                                                                                                                                                                                                                                                                                                                                                                                                        kg CVC11 eq/kg de produit\n",
       "Unnamed: 15                                                                                                                                                                                                                                                                                                                                                                                                                                                                                                                                                                                                                                       kBq U-235 eq/kg de produit\n",
       "Unnamed: 16                                                                                                                                                                                                                                                                                                                                                                                                                                                                                                                                                                                                                                        kg NMVOC eq/kg de produit\n",
       "*Ces indicateurs représentent l’impact sur la santé lié à l’exposition de la population générale aux contaminants chimiques via les pollutions du milieu (air, eau, sol).  Ces contaminants émis dans l’environnement sont notamment des pesticides, des métaux lourds ou encore des polluants industriels. L’exposition par ingestion directe d’un aliment contenant des résidus de pesticides n’est pour l’instant pas intégrée dans les calculs d’Analyse du Cycle de Vie. Cette exposition est par ailleurs encadrée par la réglementation « Limites Maximales de Résidus (LMR) » au niveau français et européen.                             disease inc./kg de produit\n",
       "Unnamed: 18                                                                                                                                                                                                                                                                                                                                                                                                                                                                                                                                                                                                                                               CTUh/kg de produit\n",
       "Unnamed: 19                                                                                                                                                                                                                                                                                                                                                                                                                                                                                                                                                                                                                                               CTUh/kg de produit\n",
       "Unnamed: 20                                                                                                                                                                                                                                                                                                                                                                                                                                                                                                                                                                                                                                          mol H+ eq/kg de produit\n",
       "Unnamed: 21                                                                                                                                                                                                                                                                                                                                                                                                                                                                                                                                                                                                                                            kg P eq/kg de produit\n",
       "Unnamed: 22                                                                                                                                                                                                                                                                                                                                                                                                                                                                                                                                                                                                                                            kg N eq/kg de produit\n",
       "Unnamed: 23                                                                                                                                                                                                                                                                                                                                                                                                                                                                                                                                                                                                                                           mol N eq/kg de produit\n",
       "Unnamed: 24                                                                                                                                                                                                                                                                                                                                                                                                                                                                                                                                                                                                                                               CTUe/kg de produit\n",
       "Unnamed: 25                                                                                                                                                                                                                                                                                                                                                                                                                                                                                                                                                                                                                                                 Pt/kg de produit\n",
       "Unnamed: 26                                                                                                                                                                                                                                                                                                                                                                                                                                                                                                                                                                                                                                         m3 depriv./kg de produit\n",
       "Unnamed: 27                                                                                                                                                                                                                                                                                                                                                                                                                                                                                                                                                                                                                                                 MJ/kg de produit\n",
       "Unnamed: 28                                                                                                                                                                                                                                                                                                                                                                                                                                                                                                                                                                                                                                           kg Sb eq/kg de produit\n",
       "Name: 1, dtype: object"
      ]
     },
     "execution_count": 13,
     "metadata": {},
     "output_type": "execute_result"
    }
   ],
   "source": [
    "colonnes_synthese = dfsynthese.iloc[1]\n",
    "colonnes_synthese"
   ]
  },
  {
   "attachments": {},
   "cell_type": "markdown",
   "metadata": {},
   "source": [
    "### Suppression des 3 premières lignes"
   ]
  },
  {
   "cell_type": "code",
   "execution_count": 18,
   "metadata": {},
   "outputs": [],
   "source": [
    "dfsynthese.drop([0,1,2], axis=0, inplace=True)"
   ]
  },
  {
   "attachments": {},
   "cell_type": "markdown",
   "metadata": {},
   "source": [
    "### Mettre le nouveau nom des colonnes"
   ]
  },
  {
   "cell_type": "code",
   "execution_count": 21,
   "metadata": {},
   "outputs": [],
   "source": [
    "dfsynthese.columns=colonnes_synthese"
   ]
  },
  {
   "cell_type": "code",
   "execution_count": 22,
   "metadata": {},
   "outputs": [
    {
     "data": {
      "text/html": [
       "<div>\n",
       "<style scoped>\n",
       "    .dataframe tbody tr th:only-of-type {\n",
       "        vertical-align: middle;\n",
       "    }\n",
       "\n",
       "    .dataframe tbody tr th {\n",
       "        vertical-align: top;\n",
       "    }\n",
       "\n",
       "    .dataframe thead th {\n",
       "        text-align: right;\n",
       "    }\n",
       "</style>\n",
       "<table border=\"1\" class=\"dataframe\">\n",
       "  <thead>\n",
       "    <tr style=\"text-align: right;\">\n",
       "      <th>1</th>\n",
       "      <th>Code\\nAGB</th>\n",
       "      <th>Code\\nCIQUAL</th>\n",
       "      <th>Groupe d'aliment</th>\n",
       "      <th>Sous-groupe d'aliment</th>\n",
       "      <th>Nom du Produit en Français</th>\n",
       "      <th>LCI Name</th>\n",
       "      <th>code saison (0 : hors saison ; 1 : de saison ; 2 : mix de consommation FR)</th>\n",
       "      <th>code avion (1 : par avion)</th>\n",
       "      <th>Livraison</th>\n",
       "      <th>Matériau d'emballage</th>\n",
       "      <th>...</th>\n",
       "      <th>CTUh/kg de produit</th>\n",
       "      <th>mol H+ eq/kg de produit</th>\n",
       "      <th>kg P eq/kg de produit</th>\n",
       "      <th>kg N eq/kg de produit</th>\n",
       "      <th>mol N eq/kg de produit</th>\n",
       "      <th>CTUe/kg de produit</th>\n",
       "      <th>Pt/kg de produit</th>\n",
       "      <th>m3 depriv./kg de produit</th>\n",
       "      <th>MJ/kg de produit</th>\n",
       "      <th>kg Sb eq/kg de produit</th>\n",
       "    </tr>\n",
       "  </thead>\n",
       "  <tbody>\n",
       "    <tr>\n",
       "      <th>3</th>\n",
       "      <td>11023</td>\n",
       "      <td>11023</td>\n",
       "      <td>aides culinaires et ingrédients divers</td>\n",
       "      <td>herbes</td>\n",
       "      <td>Ail séché, poudre</td>\n",
       "      <td>Garlic, powder, dried</td>\n",
       "      <td>2</td>\n",
       "      <td>0</td>\n",
       "      <td>Ambiant (long)</td>\n",
       "      <td>Verre</td>\n",
       "      <td>...</td>\n",
       "      <td>0.0</td>\n",
       "      <td>0.006222</td>\n",
       "      <td>0.000124</td>\n",
       "      <td>0.00232</td>\n",
       "      <td>0.012695</td>\n",
       "      <td>5.83212</td>\n",
       "      <td>20.223652</td>\n",
       "      <td>2.520528</td>\n",
       "      <td>12.665447</td>\n",
       "      <td>0.000007</td>\n",
       "    </tr>\n",
       "    <tr>\n",
       "      <th>4</th>\n",
       "      <td>11000</td>\n",
       "      <td>11000</td>\n",
       "      <td>aides culinaires et ingrédients divers</td>\n",
       "      <td>herbes</td>\n",
       "      <td>Ail, cru</td>\n",
       "      <td>Garlic, fresh</td>\n",
       "      <td>2</td>\n",
       "      <td>0</td>\n",
       "      <td>Ambiant (long)</td>\n",
       "      <td>Pas d'emballage</td>\n",
       "      <td>...</td>\n",
       "      <td>0.0</td>\n",
       "      <td>0.002005</td>\n",
       "      <td>0.000068</td>\n",
       "      <td>0.002123</td>\n",
       "      <td>0.006281</td>\n",
       "      <td>4.092332</td>\n",
       "      <td>18.454615</td>\n",
       "      <td>3.021753</td>\n",
       "      <td>6.230187</td>\n",
       "      <td>0.000004</td>\n",
       "    </tr>\n",
       "    <tr>\n",
       "      <th>5</th>\n",
       "      <td>11093</td>\n",
       "      <td>11093</td>\n",
       "      <td>aides culinaires et ingrédients divers</td>\n",
       "      <td>herbes</td>\n",
       "      <td>Aneth, frais</td>\n",
       "      <td>Dill, fresh</td>\n",
       "      <td>2</td>\n",
       "      <td>0</td>\n",
       "      <td>Ambiant (long)</td>\n",
       "      <td>LDPE</td>\n",
       "      <td>...</td>\n",
       "      <td>0.0</td>\n",
       "      <td>0.008112</td>\n",
       "      <td>0.000203</td>\n",
       "      <td>0.00405</td>\n",
       "      <td>0.031181</td>\n",
       "      <td>5.681342</td>\n",
       "      <td>36.373722</td>\n",
       "      <td>5.292121</td>\n",
       "      <td>12.553109</td>\n",
       "      <td>0.000005</td>\n",
       "    </tr>\n",
       "    <tr>\n",
       "      <th>6</th>\n",
       "      <td>20995</td>\n",
       "      <td>20995</td>\n",
       "      <td>aides culinaires et ingrédients divers</td>\n",
       "      <td>algues</td>\n",
       "      <td>Ao-nori (Enteromorpha sp.), séchée ou déshydratée</td>\n",
       "      <td>Sea lettuce (Enteromorpha sp.), dried or dehyd...</td>\n",
       "      <td>2</td>\n",
       "      <td>0</td>\n",
       "      <td>Ambiant (long)</td>\n",
       "      <td>LDPE</td>\n",
       "      <td>...</td>\n",
       "      <td>0.0</td>\n",
       "      <td>0.099733</td>\n",
       "      <td>0.001868</td>\n",
       "      <td>0.01328</td>\n",
       "      <td>0.12735</td>\n",
       "      <td>44.555153</td>\n",
       "      <td>26.47619</td>\n",
       "      <td>3.102487</td>\n",
       "      <td>315.05717</td>\n",
       "      <td>0.000088</td>\n",
       "    </tr>\n",
       "    <tr>\n",
       "      <th>7</th>\n",
       "      <td>20998</td>\n",
       "      <td>20998</td>\n",
       "      <td>aides culinaires et ingrédients divers</td>\n",
       "      <td>algues</td>\n",
       "      <td>Ascophylle noueux ou goémon noir (Ascophyllum ...</td>\n",
       "      <td>North Atlantic rockweed (Ascophyllum nodosum),...</td>\n",
       "      <td>2</td>\n",
       "      <td>0</td>\n",
       "      <td>Ambiant (long)</td>\n",
       "      <td>LDPE</td>\n",
       "      <td>...</td>\n",
       "      <td>0.0</td>\n",
       "      <td>0.094211</td>\n",
       "      <td>0.001859</td>\n",
       "      <td>0.011912</td>\n",
       "      <td>0.112157</td>\n",
       "      <td>43.830394</td>\n",
       "      <td>25.977462</td>\n",
       "      <td>3.098913</td>\n",
       "      <td>312.63228</td>\n",
       "      <td>0.000087</td>\n",
       "    </tr>\n",
       "  </tbody>\n",
       "</table>\n",
       "<p>5 rows × 29 columns</p>\n",
       "</div>"
      ],
      "text/plain": [
       "1 Code\\nAGB Code\\nCIQUAL                        Groupe d'aliment  \\\n",
       "3     11023        11023  aides culinaires et ingrédients divers   \n",
       "4     11000        11000  aides culinaires et ingrédients divers   \n",
       "5     11093        11093  aides culinaires et ingrédients divers   \n",
       "6     20995        20995  aides culinaires et ingrédients divers   \n",
       "7     20998        20998  aides culinaires et ingrédients divers   \n",
       "\n",
       "1 Sous-groupe d'aliment                         Nom du Produit en Français  \\\n",
       "3                herbes                                  Ail séché, poudre   \n",
       "4                herbes                                           Ail, cru   \n",
       "5                herbes                                       Aneth, frais   \n",
       "6                algues  Ao-nori (Enteromorpha sp.), séchée ou déshydratée   \n",
       "7                algues  Ascophylle noueux ou goémon noir (Ascophyllum ...   \n",
       "\n",
       "1                                           LCI Name  \\\n",
       "3                              Garlic, powder, dried   \n",
       "4                                      Garlic, fresh   \n",
       "5                                        Dill, fresh   \n",
       "6  Sea lettuce (Enteromorpha sp.), dried or dehyd...   \n",
       "7  North Atlantic rockweed (Ascophyllum nodosum),...   \n",
       "\n",
       "1 code saison (0 : hors saison ; 1 : de saison ; 2 : mix de consommation FR)  \\\n",
       "3                                                  2                           \n",
       "4                                                  2                           \n",
       "5                                                  2                           \n",
       "6                                                  2                           \n",
       "7                                                  2                           \n",
       "\n",
       "1 code avion (1 : par avion)       Livraison Matériau d'emballage  ...  \\\n",
       "3                          0  Ambiant (long)                Verre  ...   \n",
       "4                          0  Ambiant (long)      Pas d'emballage  ...   \n",
       "5                          0  Ambiant (long)                 LDPE  ...   \n",
       "6                          0  Ambiant (long)                 LDPE  ...   \n",
       "7                          0  Ambiant (long)                 LDPE  ...   \n",
       "\n",
       "1 CTUh/kg de produit mol H+ eq/kg de produit kg P eq/kg de produit  \\\n",
       "3                0.0                0.006222              0.000124   \n",
       "4                0.0                0.002005              0.000068   \n",
       "5                0.0                0.008112              0.000203   \n",
       "6                0.0                0.099733              0.001868   \n",
       "7                0.0                0.094211              0.001859   \n",
       "\n",
       "1 kg N eq/kg de produit mol N eq/kg de produit CTUe/kg de produit  \\\n",
       "3               0.00232               0.012695            5.83212   \n",
       "4              0.002123               0.006281           4.092332   \n",
       "5               0.00405               0.031181           5.681342   \n",
       "6               0.01328                0.12735          44.555153   \n",
       "7              0.011912               0.112157          43.830394   \n",
       "\n",
       "1 Pt/kg de produit m3 depriv./kg de produit MJ/kg de produit  \\\n",
       "3        20.223652                 2.520528        12.665447   \n",
       "4        18.454615                 3.021753         6.230187   \n",
       "5        36.373722                 5.292121        12.553109   \n",
       "6         26.47619                 3.102487        315.05717   \n",
       "7        25.977462                 3.098913        312.63228   \n",
       "\n",
       "1 kg Sb eq/kg de produit  \n",
       "3               0.000007  \n",
       "4               0.000004  \n",
       "5               0.000005  \n",
       "6               0.000088  \n",
       "7               0.000087  \n",
       "\n",
       "[5 rows x 29 columns]"
      ]
     },
     "execution_count": 22,
     "metadata": {},
     "output_type": "execute_result"
    }
   ],
   "source": [
    "dfsynthese.head()"
   ]
  },
  {
   "cell_type": "code",
   "execution_count": null,
   "metadata": {},
   "outputs": [],
   "source": []
  }
 ],
 "metadata": {
  "kernelspec": {
   "display_name": "venvprojetpython",
   "language": "python",
   "name": "python3"
  },
  "language_info": {
   "codemirror_mode": {
    "name": "ipython",
    "version": 3
   },
   "file_extension": ".py",
   "mimetype": "text/x-python",
   "name": "python",
   "nbconvert_exporter": "python",
   "pygments_lexer": "ipython3",
   "version": "3.10.11"
  },
  "orig_nbformat": 4
 },
 "nbformat": 4,
 "nbformat_minor": 2
}
