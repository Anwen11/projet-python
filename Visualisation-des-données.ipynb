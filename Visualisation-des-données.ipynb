{
 "cells": [
  {
   "attachments": {},
   "cell_type": "markdown",
   "metadata": {},
   "source": [
    "# Visualisations des données synthèse"
   ]
  },
  {
   "attachments": {},
   "cell_type": "markdown",
   "metadata": {},
   "source": [
    "## Import des bibliothèques"
   ]
  },
  {
   "cell_type": "code",
   "execution_count": 142,
   "metadata": {},
   "outputs": [],
   "source": [
    "import pandas as pd\n",
    "import re\n",
    "from plotly.offline import iplot\n",
    "import plotly.graph_objs as go\n",
    "from plotly import subplots\n",
    "import numpy as np"
   ]
  },
  {
   "attachments": {},
   "cell_type": "markdown",
   "metadata": {},
   "source": [
    "## Lecture du fichier csv"
   ]
  },
  {
   "cell_type": "code",
   "execution_count": 143,
   "metadata": {},
   "outputs": [
    {
     "data": {
      "text/html": [
       "<div>\n",
       "<style scoped>\n",
       "    .dataframe tbody tr th:only-of-type {\n",
       "        vertical-align: middle;\n",
       "    }\n",
       "\n",
       "    .dataframe tbody tr th {\n",
       "        vertical-align: top;\n",
       "    }\n",
       "\n",
       "    .dataframe thead th {\n",
       "        text-align: right;\n",
       "    }\n",
       "</style>\n",
       "<table border=\"1\" class=\"dataframe\">\n",
       "  <thead>\n",
       "    <tr style=\"text-align: right;\">\n",
       "      <th></th>\n",
       "      <th>Code\\nAGB</th>\n",
       "      <th>Code\\nCIQUAL</th>\n",
       "      <th>Groupe d'aliment</th>\n",
       "      <th>Sous-groupe d'aliment</th>\n",
       "      <th>Nom du Produit en Français</th>\n",
       "      <th>LCI Name</th>\n",
       "      <th>code saison (0 : hors saison ; 1 : de saison ; 2 : mix de consommation FR)</th>\n",
       "      <th>code avion (1 : par avion)</th>\n",
       "      <th>Livraison</th>\n",
       "      <th>Matériau d'emballage</th>\n",
       "      <th>...</th>\n",
       "      <th>Effets toxicologiques sur la santé humaine : substances cancérogènes</th>\n",
       "      <th>Acidification terrestre et eaux douces</th>\n",
       "      <th>Eutrophisation eaux douces</th>\n",
       "      <th>Eutrophisation marine</th>\n",
       "      <th>Eutrophisation terrestre</th>\n",
       "      <th>Écotoxicité pour écosystèmes aquatiques d'eau douce</th>\n",
       "      <th>Utilisation du sol</th>\n",
       "      <th>Épuisement des ressources eau</th>\n",
       "      <th>Épuisement des ressources énergétiques</th>\n",
       "      <th>Épuisement des ressources minéraux</th>\n",
       "    </tr>\n",
       "  </thead>\n",
       "  <tbody>\n",
       "    <tr>\n",
       "      <th>0</th>\n",
       "      <td>11084</td>\n",
       "      <td>11084</td>\n",
       "      <td>aides culinaires et ingrédients divers</td>\n",
       "      <td>algues</td>\n",
       "      <td>Agar (algue), cru</td>\n",
       "      <td>Seaweed, agar, raw</td>\n",
       "      <td>2</td>\n",
       "      <td>0</td>\n",
       "      <td>Ambiant (long)</td>\n",
       "      <td>LDPE</td>\n",
       "      <td>...</td>\n",
       "      <td>6.482667e-09</td>\n",
       "      <td>0.099733</td>\n",
       "      <td>0.001868</td>\n",
       "      <td>0.013280</td>\n",
       "      <td>0.127350</td>\n",
       "      <td>44.555153</td>\n",
       "      <td>26.476190</td>\n",
       "      <td>3.102487</td>\n",
       "      <td>315.057170</td>\n",
       "      <td>0.000088</td>\n",
       "    </tr>\n",
       "    <tr>\n",
       "      <th>1</th>\n",
       "      <td>11023</td>\n",
       "      <td>11023</td>\n",
       "      <td>aides culinaires et ingrédients divers</td>\n",
       "      <td>herbes</td>\n",
       "      <td>Ail séché, poudre</td>\n",
       "      <td>Garlic, powder, dried</td>\n",
       "      <td>2</td>\n",
       "      <td>0</td>\n",
       "      <td>Ambiant (long)</td>\n",
       "      <td>Verre</td>\n",
       "      <td>...</td>\n",
       "      <td>4.662163e-10</td>\n",
       "      <td>0.006222</td>\n",
       "      <td>0.000124</td>\n",
       "      <td>0.002320</td>\n",
       "      <td>0.012695</td>\n",
       "      <td>5.832120</td>\n",
       "      <td>20.223652</td>\n",
       "      <td>2.520528</td>\n",
       "      <td>12.665447</td>\n",
       "      <td>0.000007</td>\n",
       "    </tr>\n",
       "    <tr>\n",
       "      <th>2</th>\n",
       "      <td>11000</td>\n",
       "      <td>11000</td>\n",
       "      <td>aides culinaires et ingrédients divers</td>\n",
       "      <td>herbes</td>\n",
       "      <td>Ail, cru</td>\n",
       "      <td>Garlic, fresh</td>\n",
       "      <td>2</td>\n",
       "      <td>0</td>\n",
       "      <td>Ambiant (long)</td>\n",
       "      <td>Pas d'emballage</td>\n",
       "      <td>...</td>\n",
       "      <td>2.984758e-10</td>\n",
       "      <td>0.002005</td>\n",
       "      <td>0.000068</td>\n",
       "      <td>0.002123</td>\n",
       "      <td>0.006281</td>\n",
       "      <td>4.092332</td>\n",
       "      <td>18.454615</td>\n",
       "      <td>3.021753</td>\n",
       "      <td>6.230187</td>\n",
       "      <td>0.000004</td>\n",
       "    </tr>\n",
       "    <tr>\n",
       "      <th>3</th>\n",
       "      <td>11093</td>\n",
       "      <td>11093</td>\n",
       "      <td>aides culinaires et ingrédients divers</td>\n",
       "      <td>herbes</td>\n",
       "      <td>Aneth, frais</td>\n",
       "      <td>Dill, fresh</td>\n",
       "      <td>2</td>\n",
       "      <td>0</td>\n",
       "      <td>Ambiant (long)</td>\n",
       "      <td>LDPE</td>\n",
       "      <td>...</td>\n",
       "      <td>6.189716e-10</td>\n",
       "      <td>0.008112</td>\n",
       "      <td>0.000203</td>\n",
       "      <td>0.004050</td>\n",
       "      <td>0.031181</td>\n",
       "      <td>5.681342</td>\n",
       "      <td>36.373722</td>\n",
       "      <td>5.292121</td>\n",
       "      <td>12.553109</td>\n",
       "      <td>0.000005</td>\n",
       "    </tr>\n",
       "    <tr>\n",
       "      <th>4</th>\n",
       "      <td>20995</td>\n",
       "      <td>20995</td>\n",
       "      <td>aides culinaires et ingrédients divers</td>\n",
       "      <td>algues</td>\n",
       "      <td>Ao-nori (Enteromorpha sp.), séchée ou déshydratée</td>\n",
       "      <td>Sea lettuce (Enteromorpha sp.), dried or dehyd...</td>\n",
       "      <td>2</td>\n",
       "      <td>0</td>\n",
       "      <td>Ambiant (long)</td>\n",
       "      <td>LDPE</td>\n",
       "      <td>...</td>\n",
       "      <td>6.482667e-09</td>\n",
       "      <td>0.099733</td>\n",
       "      <td>0.001868</td>\n",
       "      <td>0.013280</td>\n",
       "      <td>0.127350</td>\n",
       "      <td>44.555153</td>\n",
       "      <td>26.476190</td>\n",
       "      <td>3.102487</td>\n",
       "      <td>315.057170</td>\n",
       "      <td>0.000088</td>\n",
       "    </tr>\n",
       "    <tr>\n",
       "      <th>...</th>\n",
       "      <td>...</td>\n",
       "      <td>...</td>\n",
       "      <td>...</td>\n",
       "      <td>...</td>\n",
       "      <td>...</td>\n",
       "      <td>...</td>\n",
       "      <td>...</td>\n",
       "      <td>...</td>\n",
       "      <td>...</td>\n",
       "      <td>...</td>\n",
       "      <td>...</td>\n",
       "      <td>...</td>\n",
       "      <td>...</td>\n",
       "      <td>...</td>\n",
       "      <td>...</td>\n",
       "      <td>...</td>\n",
       "      <td>...</td>\n",
       "      <td>...</td>\n",
       "      <td>...</td>\n",
       "      <td>...</td>\n",
       "      <td>...</td>\n",
       "    </tr>\n",
       "    <tr>\n",
       "      <th>2512</th>\n",
       "      <td>6535</td>\n",
       "      <td>6535</td>\n",
       "      <td>viandes, œufs, poissons</td>\n",
       "      <td>viandes crues</td>\n",
       "      <td>Veau, steak haché 20% MG, cru</td>\n",
       "      <td>Veal, minced steak, 20% fat, raw</td>\n",
       "      <td>2</td>\n",
       "      <td>0</td>\n",
       "      <td>Glacé</td>\n",
       "      <td>PS</td>\n",
       "      <td>...</td>\n",
       "      <td>1.083839e-08</td>\n",
       "      <td>0.224717</td>\n",
       "      <td>0.002212</td>\n",
       "      <td>0.155523</td>\n",
       "      <td>0.960260</td>\n",
       "      <td>192.779240</td>\n",
       "      <td>1521.149300</td>\n",
       "      <td>6.276344</td>\n",
       "      <td>111.478480</td>\n",
       "      <td>0.000038</td>\n",
       "    </tr>\n",
       "    <tr>\n",
       "      <th>2513</th>\n",
       "      <td>6582</td>\n",
       "      <td>6582</td>\n",
       "      <td>viandes, œufs, poissons</td>\n",
       "      <td>viandes cuites</td>\n",
       "      <td>Veau, tête, bouillie/cuite à l'eau</td>\n",
       "      <td>Calf, head, boiled/cooked in water</td>\n",
       "      <td>2</td>\n",
       "      <td>0</td>\n",
       "      <td>Glacé</td>\n",
       "      <td>PS</td>\n",
       "      <td>...</td>\n",
       "      <td>1.123270e-08</td>\n",
       "      <td>0.232137</td>\n",
       "      <td>0.002296</td>\n",
       "      <td>0.160360</td>\n",
       "      <td>0.990430</td>\n",
       "      <td>200.367930</td>\n",
       "      <td>1566.700800</td>\n",
       "      <td>6.517015</td>\n",
       "      <td>115.625970</td>\n",
       "      <td>0.000041</td>\n",
       "    </tr>\n",
       "    <tr>\n",
       "      <th>2514</th>\n",
       "      <td>26146</td>\n",
       "      <td>26146</td>\n",
       "      <td>viandes, œufs, poissons</td>\n",
       "      <td>poissons crus</td>\n",
       "      <td>Vivaneau, cru</td>\n",
       "      <td>Snapper, raw</td>\n",
       "      <td>2</td>\n",
       "      <td>0</td>\n",
       "      <td>Glacé</td>\n",
       "      <td>PS</td>\n",
       "      <td>...</td>\n",
       "      <td>4.015680e-09</td>\n",
       "      <td>0.095432</td>\n",
       "      <td>0.000677</td>\n",
       "      <td>0.022499</td>\n",
       "      <td>0.244290</td>\n",
       "      <td>24.102134</td>\n",
       "      <td>14.699972</td>\n",
       "      <td>0.559311</td>\n",
       "      <td>60.601249</td>\n",
       "      <td>0.000163</td>\n",
       "    </tr>\n",
       "    <tr>\n",
       "      <th>2515</th>\n",
       "      <td>26147</td>\n",
       "      <td>26147</td>\n",
       "      <td>viandes, œufs, poissons</td>\n",
       "      <td>poissons cuits</td>\n",
       "      <td>Vivaneau, cuit</td>\n",
       "      <td>Snapper, cooked</td>\n",
       "      <td>2</td>\n",
       "      <td>0</td>\n",
       "      <td>Glacé</td>\n",
       "      <td>PP</td>\n",
       "      <td>...</td>\n",
       "      <td>5.002364e-09</td>\n",
       "      <td>0.116709</td>\n",
       "      <td>0.000867</td>\n",
       "      <td>0.027545</td>\n",
       "      <td>0.298742</td>\n",
       "      <td>29.317396</td>\n",
       "      <td>18.678957</td>\n",
       "      <td>0.642664</td>\n",
       "      <td>86.252396</td>\n",
       "      <td>0.000203</td>\n",
       "    </tr>\n",
       "    <tr>\n",
       "      <th>2516</th>\n",
       "      <td>25512</td>\n",
       "      <td>25512</td>\n",
       "      <td>viandes, œufs, poissons</td>\n",
       "      <td>autres produits à base de viande</td>\n",
       "      <td>Volaille, croquette panée ou nuggets</td>\n",
       "      <td>Poultry nuggets</td>\n",
       "      <td>2</td>\n",
       "      <td>0</td>\n",
       "      <td>Glacé</td>\n",
       "      <td>PS</td>\n",
       "      <td>...</td>\n",
       "      <td>4.905220e-09</td>\n",
       "      <td>0.102578</td>\n",
       "      <td>0.000987</td>\n",
       "      <td>0.026625</td>\n",
       "      <td>0.436752</td>\n",
       "      <td>86.087428</td>\n",
       "      <td>342.123720</td>\n",
       "      <td>4.029214</td>\n",
       "      <td>96.404511</td>\n",
       "      <td>0.000025</td>\n",
       "    </tr>\n",
       "  </tbody>\n",
       "</table>\n",
       "<p>2517 rows × 29 columns</p>\n",
       "</div>"
      ],
      "text/plain": [
       "     Code\\nAGB  Code\\nCIQUAL                        Groupe d'aliment  \\\n",
       "0        11084         11084  aides culinaires et ingrédients divers   \n",
       "1        11023         11023  aides culinaires et ingrédients divers   \n",
       "2        11000         11000  aides culinaires et ingrédients divers   \n",
       "3        11093         11093  aides culinaires et ingrédients divers   \n",
       "4        20995         20995  aides culinaires et ingrédients divers   \n",
       "...        ...           ...                                     ...   \n",
       "2512      6535          6535                 viandes, œufs, poissons   \n",
       "2513      6582          6582                 viandes, œufs, poissons   \n",
       "2514     26146         26146                 viandes, œufs, poissons   \n",
       "2515     26147         26147                 viandes, œufs, poissons   \n",
       "2516     25512         25512                 viandes, œufs, poissons   \n",
       "\n",
       "                 Sous-groupe d'aliment  \\\n",
       "0                               algues   \n",
       "1                               herbes   \n",
       "2                               herbes   \n",
       "3                               herbes   \n",
       "4                               algues   \n",
       "...                                ...   \n",
       "2512                     viandes crues   \n",
       "2513                    viandes cuites   \n",
       "2514                     poissons crus   \n",
       "2515                    poissons cuits   \n",
       "2516  autres produits à base de viande   \n",
       "\n",
       "                             Nom du Produit en Français  \\\n",
       "0                                     Agar (algue), cru   \n",
       "1                                     Ail séché, poudre   \n",
       "2                                              Ail, cru   \n",
       "3                                          Aneth, frais   \n",
       "4     Ao-nori (Enteromorpha sp.), séchée ou déshydratée   \n",
       "...                                                 ...   \n",
       "2512                      Veau, steak haché 20% MG, cru   \n",
       "2513                 Veau, tête, bouillie/cuite à l'eau   \n",
       "2514                                      Vivaneau, cru   \n",
       "2515                                     Vivaneau, cuit   \n",
       "2516               Volaille, croquette panée ou nuggets   \n",
       "\n",
       "                                               LCI Name  \\\n",
       "0                                    Seaweed, agar, raw   \n",
       "1                                 Garlic, powder, dried   \n",
       "2                                         Garlic, fresh   \n",
       "3                                           Dill, fresh   \n",
       "4     Sea lettuce (Enteromorpha sp.), dried or dehyd...   \n",
       "...                                                 ...   \n",
       "2512                   Veal, minced steak, 20% fat, raw   \n",
       "2513                 Calf, head, boiled/cooked in water   \n",
       "2514                                       Snapper, raw   \n",
       "2515                                    Snapper, cooked   \n",
       "2516                                    Poultry nuggets   \n",
       "\n",
       "      code saison (0 : hors saison ; 1 : de saison ; 2 : mix de consommation FR)  \\\n",
       "0                                                     2                            \n",
       "1                                                     2                            \n",
       "2                                                     2                            \n",
       "3                                                     2                            \n",
       "4                                                     2                            \n",
       "...                                                 ...                            \n",
       "2512                                                  2                            \n",
       "2513                                                  2                            \n",
       "2514                                                  2                            \n",
       "2515                                                  2                            \n",
       "2516                                                  2                            \n",
       "\n",
       "      code avion (1 : par avion)       Livraison Matériau d'emballage  ...  \\\n",
       "0                              0  Ambiant (long)                 LDPE  ...   \n",
       "1                              0  Ambiant (long)                Verre  ...   \n",
       "2                              0  Ambiant (long)      Pas d'emballage  ...   \n",
       "3                              0  Ambiant (long)                 LDPE  ...   \n",
       "4                              0  Ambiant (long)                 LDPE  ...   \n",
       "...                          ...             ...                  ...  ...   \n",
       "2512                           0           Glacé                   PS  ...   \n",
       "2513                           0           Glacé                   PS  ...   \n",
       "2514                           0           Glacé                   PS  ...   \n",
       "2515                           0           Glacé                   PP  ...   \n",
       "2516                           0           Glacé                   PS  ...   \n",
       "\n",
       "     Effets toxicologiques sur la santé humaine : substances cancérogènes  \\\n",
       "0                                          6.482667e-09                     \n",
       "1                                          4.662163e-10                     \n",
       "2                                          2.984758e-10                     \n",
       "3                                          6.189716e-10                     \n",
       "4                                          6.482667e-09                     \n",
       "...                                                 ...                     \n",
       "2512                                       1.083839e-08                     \n",
       "2513                                       1.123270e-08                     \n",
       "2514                                       4.015680e-09                     \n",
       "2515                                       5.002364e-09                     \n",
       "2516                                       4.905220e-09                     \n",
       "\n",
       "      Acidification terrestre et eaux douces  Eutrophisation eaux douces  \\\n",
       "0                                   0.099733                    0.001868   \n",
       "1                                   0.006222                    0.000124   \n",
       "2                                   0.002005                    0.000068   \n",
       "3                                   0.008112                    0.000203   \n",
       "4                                   0.099733                    0.001868   \n",
       "...                                      ...                         ...   \n",
       "2512                                0.224717                    0.002212   \n",
       "2513                                0.232137                    0.002296   \n",
       "2514                                0.095432                    0.000677   \n",
       "2515                                0.116709                    0.000867   \n",
       "2516                                0.102578                    0.000987   \n",
       "\n",
       "      Eutrophisation marine  Eutrophisation terrestre  \\\n",
       "0                  0.013280                  0.127350   \n",
       "1                  0.002320                  0.012695   \n",
       "2                  0.002123                  0.006281   \n",
       "3                  0.004050                  0.031181   \n",
       "4                  0.013280                  0.127350   \n",
       "...                     ...                       ...   \n",
       "2512               0.155523                  0.960260   \n",
       "2513               0.160360                  0.990430   \n",
       "2514               0.022499                  0.244290   \n",
       "2515               0.027545                  0.298742   \n",
       "2516               0.026625                  0.436752   \n",
       "\n",
       "      Écotoxicité pour écosystèmes aquatiques d'eau douce  Utilisation du sol  \\\n",
       "0                                             44.555153             26.476190   \n",
       "1                                              5.832120             20.223652   \n",
       "2                                              4.092332             18.454615   \n",
       "3                                              5.681342             36.373722   \n",
       "4                                             44.555153             26.476190   \n",
       "...                                                 ...                   ...   \n",
       "2512                                         192.779240           1521.149300   \n",
       "2513                                         200.367930           1566.700800   \n",
       "2514                                          24.102134             14.699972   \n",
       "2515                                          29.317396             18.678957   \n",
       "2516                                          86.087428            342.123720   \n",
       "\n",
       "      Épuisement des ressources eau  Épuisement des ressources énergétiques  \\\n",
       "0                          3.102487                              315.057170   \n",
       "1                          2.520528                               12.665447   \n",
       "2                          3.021753                                6.230187   \n",
       "3                          5.292121                               12.553109   \n",
       "4                          3.102487                              315.057170   \n",
       "...                             ...                                     ...   \n",
       "2512                       6.276344                              111.478480   \n",
       "2513                       6.517015                              115.625970   \n",
       "2514                       0.559311                               60.601249   \n",
       "2515                       0.642664                               86.252396   \n",
       "2516                       4.029214                               96.404511   \n",
       "\n",
       "      Épuisement des ressources minéraux  \n",
       "0                               0.000088  \n",
       "1                               0.000007  \n",
       "2                               0.000004  \n",
       "3                               0.000005  \n",
       "4                               0.000088  \n",
       "...                                  ...  \n",
       "2512                            0.000038  \n",
       "2513                            0.000041  \n",
       "2514                            0.000163  \n",
       "2515                            0.000203  \n",
       "2516                            0.000025  \n",
       "\n",
       "[2517 rows x 29 columns]"
      ]
     },
     "execution_count": 143,
     "metadata": {},
     "output_type": "execute_result"
    }
   ],
   "source": [
    "dfsynthese = pd.read_csv(\"data/Synthèse nettoyé.csv\")\n",
    "dfsynthese"
   ]
  },
  {
   "cell_type": "code",
   "execution_count": 144,
   "metadata": {},
   "outputs": [
    {
     "data": {
      "text/html": [
       "<div>\n",
       "<style scoped>\n",
       "    .dataframe tbody tr th:only-of-type {\n",
       "        vertical-align: middle;\n",
       "    }\n",
       "\n",
       "    .dataframe tbody tr th {\n",
       "        vertical-align: top;\n",
       "    }\n",
       "\n",
       "    .dataframe thead th {\n",
       "        text-align: right;\n",
       "    }\n",
       "</style>\n",
       "<table border=\"1\" class=\"dataframe\">\n",
       "  <thead>\n",
       "    <tr style=\"text-align: right;\">\n",
       "      <th></th>\n",
       "      <th>Code AGB</th>\n",
       "      <th>Code CIQUAL</th>\n",
       "      <th>Groupe d'aliment</th>\n",
       "      <th>Sous-groupe d'aliment</th>\n",
       "      <th>Nom du Produit en Français</th>\n",
       "      <th>LCI Name</th>\n",
       "      <th>Agriculture</th>\n",
       "      <th>Transformation</th>\n",
       "      <th>Emballage</th>\n",
       "      <th>Transport</th>\n",
       "      <th>Supermarché et distribution</th>\n",
       "      <th>Consommation</th>\n",
       "      <th>Total</th>\n",
       "    </tr>\n",
       "  </thead>\n",
       "  <tbody>\n",
       "    <tr>\n",
       "      <th>0</th>\n",
       "      <td>11084</td>\n",
       "      <td>11084</td>\n",
       "      <td>aides culinaires et ingrédients divers</td>\n",
       "      <td>algues</td>\n",
       "      <td>Agar (algue), cru</td>\n",
       "      <td>Seaweed, agar, raw</td>\n",
       "      <td>4.569259</td>\n",
       "      <td>1.492415</td>\n",
       "      <td>0.290252</td>\n",
       "      <td>0.384404</td>\n",
       "      <td>0.020135</td>\n",
       "      <td>0.009943</td>\n",
       "      <td>6.766407</td>\n",
       "    </tr>\n",
       "    <tr>\n",
       "      <th>1</th>\n",
       "      <td>11023</td>\n",
       "      <td>11023</td>\n",
       "      <td>aides culinaires et ingrédients divers</td>\n",
       "      <td>herbes</td>\n",
       "      <td>Ail séché, poudre</td>\n",
       "      <td>Garlic, powder, dried</td>\n",
       "      <td>0.066043</td>\n",
       "      <td>0.000000</td>\n",
       "      <td>0.478390</td>\n",
       "      <td>0.189268</td>\n",
       "      <td>0.015709</td>\n",
       "      <td>0.000000</td>\n",
       "      <td>0.749409</td>\n",
       "    </tr>\n",
       "    <tr>\n",
       "      <th>2</th>\n",
       "      <td>11000</td>\n",
       "      <td>11000</td>\n",
       "      <td>aides culinaires et ingrédients divers</td>\n",
       "      <td>herbes</td>\n",
       "      <td>Ail, cru</td>\n",
       "      <td>Garlic, fresh</td>\n",
       "      <td>0.082554</td>\n",
       "      <td>0.000000</td>\n",
       "      <td>0.000000</td>\n",
       "      <td>0.173563</td>\n",
       "      <td>0.019636</td>\n",
       "      <td>0.080370</td>\n",
       "      <td>0.356122</td>\n",
       "    </tr>\n",
       "    <tr>\n",
       "      <th>3</th>\n",
       "      <td>11093</td>\n",
       "      <td>11093</td>\n",
       "      <td>aides culinaires et ingrédients divers</td>\n",
       "      <td>herbes</td>\n",
       "      <td>Aneth, frais</td>\n",
       "      <td>Dill, fresh</td>\n",
       "      <td>0.222514</td>\n",
       "      <td>0.000000</td>\n",
       "      <td>0.329456</td>\n",
       "      <td>0.162968</td>\n",
       "      <td>0.019636</td>\n",
       "      <td>0.080370</td>\n",
       "      <td>0.814944</td>\n",
       "    </tr>\n",
       "    <tr>\n",
       "      <th>4</th>\n",
       "      <td>20995</td>\n",
       "      <td>20995</td>\n",
       "      <td>aides culinaires et ingrédients divers</td>\n",
       "      <td>algues</td>\n",
       "      <td>Ao-nori (Enteromorpha sp.), séchée ou déshydratée</td>\n",
       "      <td>Sea lettuce (Enteromorpha sp.), dried or dehyd...</td>\n",
       "      <td>4.569259</td>\n",
       "      <td>1.492415</td>\n",
       "      <td>0.290252</td>\n",
       "      <td>0.384404</td>\n",
       "      <td>0.020135</td>\n",
       "      <td>0.009943</td>\n",
       "      <td>6.766407</td>\n",
       "    </tr>\n",
       "    <tr>\n",
       "      <th>...</th>\n",
       "      <td>...</td>\n",
       "      <td>...</td>\n",
       "      <td>...</td>\n",
       "      <td>...</td>\n",
       "      <td>...</td>\n",
       "      <td>...</td>\n",
       "      <td>...</td>\n",
       "      <td>...</td>\n",
       "      <td>...</td>\n",
       "      <td>...</td>\n",
       "      <td>...</td>\n",
       "      <td>...</td>\n",
       "      <td>...</td>\n",
       "    </tr>\n",
       "    <tr>\n",
       "      <th>2512</th>\n",
       "      <td>6535</td>\n",
       "      <td>6535</td>\n",
       "      <td>viandes, œufs, poissons</td>\n",
       "      <td>viandes crues</td>\n",
       "      <td>Veau, steak haché 20% MG, cru</td>\n",
       "      <td>Veal, minced steak, 20% fat, raw</td>\n",
       "      <td>21.683172</td>\n",
       "      <td>0.241985</td>\n",
       "      <td>0.275642</td>\n",
       "      <td>0.205100</td>\n",
       "      <td>0.036974</td>\n",
       "      <td>0.006688</td>\n",
       "      <td>22.449561</td>\n",
       "    </tr>\n",
       "    <tr>\n",
       "      <th>2513</th>\n",
       "      <td>6582</td>\n",
       "      <td>6582</td>\n",
       "      <td>viandes, œufs, poissons</td>\n",
       "      <td>viandes cuites</td>\n",
       "      <td>Veau, tête, bouillie/cuite à l'eau</td>\n",
       "      <td>Calf, head, boiled/cooked in water</td>\n",
       "      <td>22.327031</td>\n",
       "      <td>0.074157</td>\n",
       "      <td>0.435259</td>\n",
       "      <td>0.315136</td>\n",
       "      <td>0.058385</td>\n",
       "      <td>0.344055</td>\n",
       "      <td>23.554023</td>\n",
       "    </tr>\n",
       "    <tr>\n",
       "      <th>2514</th>\n",
       "      <td>26146</td>\n",
       "      <td>26146</td>\n",
       "      <td>viandes, œufs, poissons</td>\n",
       "      <td>poissons crus</td>\n",
       "      <td>Vivaneau, cru</td>\n",
       "      <td>Snapper, raw</td>\n",
       "      <td>3.143568</td>\n",
       "      <td>0.000000</td>\n",
       "      <td>0.275642</td>\n",
       "      <td>0.787359</td>\n",
       "      <td>0.036974</td>\n",
       "      <td>0.006688</td>\n",
       "      <td>4.250231</td>\n",
       "    </tr>\n",
       "    <tr>\n",
       "      <th>2515</th>\n",
       "      <td>26147</td>\n",
       "      <td>26147</td>\n",
       "      <td>viandes, œufs, poissons</td>\n",
       "      <td>poissons cuits</td>\n",
       "      <td>Vivaneau, cuit</td>\n",
       "      <td>Snapper, cooked</td>\n",
       "      <td>3.838479</td>\n",
       "      <td>0.000000</td>\n",
       "      <td>0.225346</td>\n",
       "      <td>0.961411</td>\n",
       "      <td>0.045148</td>\n",
       "      <td>0.094235</td>\n",
       "      <td>5.164618</td>\n",
       "    </tr>\n",
       "    <tr>\n",
       "      <th>2516</th>\n",
       "      <td>25512</td>\n",
       "      <td>25512</td>\n",
       "      <td>viandes, œufs, poissons</td>\n",
       "      <td>autres produits à base de viande</td>\n",
       "      <td>Volaille, croquette panée ou nuggets</td>\n",
       "      <td>Poultry nuggets</td>\n",
       "      <td>4.633708</td>\n",
       "      <td>0.589396</td>\n",
       "      <td>0.476451</td>\n",
       "      <td>0.207977</td>\n",
       "      <td>0.037393</td>\n",
       "      <td>0.092757</td>\n",
       "      <td>6.037682</td>\n",
       "    </tr>\n",
       "  </tbody>\n",
       "</table>\n",
       "<p>2517 rows × 13 columns</p>\n",
       "</div>"
      ],
      "text/plain": [
       "     Code AGB  Code CIQUAL                        Groupe d'aliment  \\\n",
       "0       11084        11084  aides culinaires et ingrédients divers   \n",
       "1       11023        11023  aides culinaires et ingrédients divers   \n",
       "2       11000        11000  aides culinaires et ingrédients divers   \n",
       "3       11093        11093  aides culinaires et ingrédients divers   \n",
       "4       20995        20995  aides culinaires et ingrédients divers   \n",
       "...       ...          ...                                     ...   \n",
       "2512     6535         6535                 viandes, œufs, poissons   \n",
       "2513     6582         6582                 viandes, œufs, poissons   \n",
       "2514    26146        26146                 viandes, œufs, poissons   \n",
       "2515    26147        26147                 viandes, œufs, poissons   \n",
       "2516    25512        25512                 viandes, œufs, poissons   \n",
       "\n",
       "                 Sous-groupe d'aliment  \\\n",
       "0                               algues   \n",
       "1                               herbes   \n",
       "2                               herbes   \n",
       "3                               herbes   \n",
       "4                               algues   \n",
       "...                                ...   \n",
       "2512                     viandes crues   \n",
       "2513                    viandes cuites   \n",
       "2514                     poissons crus   \n",
       "2515                    poissons cuits   \n",
       "2516  autres produits à base de viande   \n",
       "\n",
       "                             Nom du Produit en Français  \\\n",
       "0                                     Agar (algue), cru   \n",
       "1                                     Ail séché, poudre   \n",
       "2                                              Ail, cru   \n",
       "3                                          Aneth, frais   \n",
       "4     Ao-nori (Enteromorpha sp.), séchée ou déshydratée   \n",
       "...                                                 ...   \n",
       "2512                      Veau, steak haché 20% MG, cru   \n",
       "2513                 Veau, tête, bouillie/cuite à l'eau   \n",
       "2514                                      Vivaneau, cru   \n",
       "2515                                     Vivaneau, cuit   \n",
       "2516               Volaille, croquette panée ou nuggets   \n",
       "\n",
       "                                               LCI Name  Agriculture  \\\n",
       "0                                    Seaweed, agar, raw     4.569259   \n",
       "1                                 Garlic, powder, dried     0.066043   \n",
       "2                                         Garlic, fresh     0.082554   \n",
       "3                                           Dill, fresh     0.222514   \n",
       "4     Sea lettuce (Enteromorpha sp.), dried or dehyd...     4.569259   \n",
       "...                                                 ...          ...   \n",
       "2512                   Veal, minced steak, 20% fat, raw    21.683172   \n",
       "2513                 Calf, head, boiled/cooked in water    22.327031   \n",
       "2514                                       Snapper, raw     3.143568   \n",
       "2515                                    Snapper, cooked     3.838479   \n",
       "2516                                    Poultry nuggets     4.633708   \n",
       "\n",
       "      Transformation  Emballage  Transport  Supermarché et distribution  \\\n",
       "0           1.492415   0.290252   0.384404                     0.020135   \n",
       "1           0.000000   0.478390   0.189268                     0.015709   \n",
       "2           0.000000   0.000000   0.173563                     0.019636   \n",
       "3           0.000000   0.329456   0.162968                     0.019636   \n",
       "4           1.492415   0.290252   0.384404                     0.020135   \n",
       "...              ...        ...        ...                          ...   \n",
       "2512        0.241985   0.275642   0.205100                     0.036974   \n",
       "2513        0.074157   0.435259   0.315136                     0.058385   \n",
       "2514        0.000000   0.275642   0.787359                     0.036974   \n",
       "2515        0.000000   0.225346   0.961411                     0.045148   \n",
       "2516        0.589396   0.476451   0.207977                     0.037393   \n",
       "\n",
       "      Consommation      Total  \n",
       "0         0.009943   6.766407  \n",
       "1         0.000000   0.749409  \n",
       "2         0.080370   0.356122  \n",
       "3         0.080370   0.814944  \n",
       "4         0.009943   6.766407  \n",
       "...            ...        ...  \n",
       "2512      0.006688  22.449561  \n",
       "2513      0.344055  23.554023  \n",
       "2514      0.006688   4.250231  \n",
       "2515      0.094235   5.164618  \n",
       "2516      0.092757   6.037682  \n",
       "\n",
       "[2517 rows x 13 columns]"
      ]
     },
     "execution_count": 144,
     "metadata": {},
     "output_type": "execute_result"
    }
   ],
   "source": [
    "dfdetail = pd.read_csv(\"data/detail etape.csv\")\n",
    "dfdetail"
   ]
  },
  {
   "attachments": {},
   "cell_type": "markdown",
   "metadata": {},
   "source": [
    "### Comparez l'impact moyen sur le changement climatique en fonction de l'étape de production pour chaque catégorie d'aliment"
   ]
  },
  {
   "cell_type": "code",
   "execution_count": 145,
   "metadata": {},
   "outputs": [
    {
     "data": {
      "text/html": [
       "<div>\n",
       "<style scoped>\n",
       "    .dataframe tbody tr th:only-of-type {\n",
       "        vertical-align: middle;\n",
       "    }\n",
       "\n",
       "    .dataframe tbody tr th {\n",
       "        vertical-align: top;\n",
       "    }\n",
       "\n",
       "    .dataframe thead th {\n",
       "        text-align: right;\n",
       "    }\n",
       "</style>\n",
       "<table border=\"1\" class=\"dataframe\">\n",
       "  <thead>\n",
       "    <tr style=\"text-align: right;\">\n",
       "      <th></th>\n",
       "      <th>Agriculture</th>\n",
       "      <th>Transformation</th>\n",
       "      <th>Emballage</th>\n",
       "      <th>Transport</th>\n",
       "      <th>Supermarché et distribution</th>\n",
       "      <th>Consommation</th>\n",
       "      <th>Total</th>\n",
       "    </tr>\n",
       "    <tr>\n",
       "      <th>Groupe d'aliment</th>\n",
       "      <th></th>\n",
       "      <th></th>\n",
       "      <th></th>\n",
       "      <th></th>\n",
       "      <th></th>\n",
       "      <th></th>\n",
       "      <th></th>\n",
       "    </tr>\n",
       "  </thead>\n",
       "  <tbody>\n",
       "    <tr>\n",
       "      <th>aides culinaires et ingrédients divers</th>\n",
       "      <td>2.031066</td>\n",
       "      <td>0.538959</td>\n",
       "      <td>0.299062</td>\n",
       "      <td>0.235792</td>\n",
       "      <td>0.025990</td>\n",
       "      <td>0.011558</td>\n",
       "      <td>3.142427</td>\n",
       "    </tr>\n",
       "    <tr>\n",
       "      <th>aliments infantiles</th>\n",
       "      <td>1.620546</td>\n",
       "      <td>0.413626</td>\n",
       "      <td>0.180929</td>\n",
       "      <td>0.161804</td>\n",
       "      <td>0.019906</td>\n",
       "      <td>0.006430</td>\n",
       "      <td>2.403242</td>\n",
       "    </tr>\n",
       "    <tr>\n",
       "      <th>boissons</th>\n",
       "      <td>0.605000</td>\n",
       "      <td>0.517809</td>\n",
       "      <td>0.208404</td>\n",
       "      <td>0.170390</td>\n",
       "      <td>0.020806</td>\n",
       "      <td>0.004367</td>\n",
       "      <td>1.526776</td>\n",
       "    </tr>\n",
       "    <tr>\n",
       "      <th>entrées et plats composés</th>\n",
       "      <td>3.659338</td>\n",
       "      <td>0.354920</td>\n",
       "      <td>0.193881</td>\n",
       "      <td>0.284142</td>\n",
       "      <td>0.031671</td>\n",
       "      <td>0.040799</td>\n",
       "      <td>4.564751</td>\n",
       "    </tr>\n",
       "    <tr>\n",
       "      <th>fruits, légumes, légumineuses et oléagineux</th>\n",
       "      <td>0.657662</td>\n",
       "      <td>0.114214</td>\n",
       "      <td>0.180453</td>\n",
       "      <td>0.318938</td>\n",
       "      <td>0.034118</td>\n",
       "      <td>0.080976</td>\n",
       "      <td>1.386362</td>\n",
       "    </tr>\n",
       "    <tr>\n",
       "      <th>glaces et sorbets</th>\n",
       "      <td>0.995903</td>\n",
       "      <td>0.298704</td>\n",
       "      <td>0.183951</td>\n",
       "      <td>0.206351</td>\n",
       "      <td>0.064524</td>\n",
       "      <td>0.025304</td>\n",
       "      <td>1.774739</td>\n",
       "    </tr>\n",
       "    <tr>\n",
       "      <th>lait et produits laitiers</th>\n",
       "      <td>3.431258</td>\n",
       "      <td>0.412786</td>\n",
       "      <td>0.220547</td>\n",
       "      <td>0.210364</td>\n",
       "      <td>0.033761</td>\n",
       "      <td>0.006088</td>\n",
       "      <td>4.314804</td>\n",
       "    </tr>\n",
       "    <tr>\n",
       "      <th>matières grasses</th>\n",
       "      <td>2.830651</td>\n",
       "      <td>0.624718</td>\n",
       "      <td>0.188152</td>\n",
       "      <td>0.285022</td>\n",
       "      <td>0.029667</td>\n",
       "      <td>0.004060</td>\n",
       "      <td>3.962271</td>\n",
       "    </tr>\n",
       "    <tr>\n",
       "      <th>produits céréaliers</th>\n",
       "      <td>1.513876</td>\n",
       "      <td>0.591245</td>\n",
       "      <td>0.195568</td>\n",
       "      <td>0.165044</td>\n",
       "      <td>0.017868</td>\n",
       "      <td>0.009669</td>\n",
       "      <td>2.493270</td>\n",
       "    </tr>\n",
       "    <tr>\n",
       "      <th>produits sucrés</th>\n",
       "      <td>1.674982</td>\n",
       "      <td>4.609929</td>\n",
       "      <td>0.184307</td>\n",
       "      <td>0.222138</td>\n",
       "      <td>0.017757</td>\n",
       "      <td>0.000883</td>\n",
       "      <td>6.709996</td>\n",
       "    </tr>\n",
       "    <tr>\n",
       "      <th>viandes, œufs, poissons</th>\n",
       "      <td>11.332831</td>\n",
       "      <td>0.428253</td>\n",
       "      <td>0.402606</td>\n",
       "      <td>0.538952</td>\n",
       "      <td>0.042495</td>\n",
       "      <td>0.081368</td>\n",
       "      <td>12.826505</td>\n",
       "    </tr>\n",
       "  </tbody>\n",
       "</table>\n",
       "</div>"
      ],
      "text/plain": [
       "                                             Agriculture  Transformation  \\\n",
       "Groupe d'aliment                                                           \n",
       "aides culinaires et ingrédients divers          2.031066        0.538959   \n",
       "aliments infantiles                             1.620546        0.413626   \n",
       "boissons                                        0.605000        0.517809   \n",
       "entrées et plats composés                       3.659338        0.354920   \n",
       "fruits, légumes, légumineuses et oléagineux     0.657662        0.114214   \n",
       "glaces et sorbets                               0.995903        0.298704   \n",
       "lait et produits laitiers                       3.431258        0.412786   \n",
       "matières grasses                                2.830651        0.624718   \n",
       "produits céréaliers                             1.513876        0.591245   \n",
       "produits sucrés                                 1.674982        4.609929   \n",
       "viandes, œufs, poissons                        11.332831        0.428253   \n",
       "\n",
       "                                             Emballage  Transport  \\\n",
       "Groupe d'aliment                                                    \n",
       "aides culinaires et ingrédients divers        0.299062   0.235792   \n",
       "aliments infantiles                           0.180929   0.161804   \n",
       "boissons                                      0.208404   0.170390   \n",
       "entrées et plats composés                     0.193881   0.284142   \n",
       "fruits, légumes, légumineuses et oléagineux   0.180453   0.318938   \n",
       "glaces et sorbets                             0.183951   0.206351   \n",
       "lait et produits laitiers                     0.220547   0.210364   \n",
       "matières grasses                              0.188152   0.285022   \n",
       "produits céréaliers                           0.195568   0.165044   \n",
       "produits sucrés                               0.184307   0.222138   \n",
       "viandes, œufs, poissons                       0.402606   0.538952   \n",
       "\n",
       "                                             Supermarché et distribution  \\\n",
       "Groupe d'aliment                                                           \n",
       "aides culinaires et ingrédients divers                          0.025990   \n",
       "aliments infantiles                                             0.019906   \n",
       "boissons                                                        0.020806   \n",
       "entrées et plats composés                                       0.031671   \n",
       "fruits, légumes, légumineuses et oléagineux                     0.034118   \n",
       "glaces et sorbets                                               0.064524   \n",
       "lait et produits laitiers                                       0.033761   \n",
       "matières grasses                                                0.029667   \n",
       "produits céréaliers                                             0.017868   \n",
       "produits sucrés                                                 0.017757   \n",
       "viandes, œufs, poissons                                         0.042495   \n",
       "\n",
       "                                             Consommation      Total  \n",
       "Groupe d'aliment                                                      \n",
       "aides culinaires et ingrédients divers           0.011558   3.142427  \n",
       "aliments infantiles                              0.006430   2.403242  \n",
       "boissons                                         0.004367   1.526776  \n",
       "entrées et plats composés                        0.040799   4.564751  \n",
       "fruits, légumes, légumineuses et oléagineux      0.080976   1.386362  \n",
       "glaces et sorbets                                0.025304   1.774739  \n",
       "lait et produits laitiers                        0.006088   4.314804  \n",
       "matières grasses                                 0.004060   3.962271  \n",
       "produits céréaliers                              0.009669   2.493270  \n",
       "produits sucrés                                  0.000883   6.709996  \n",
       "viandes, œufs, poissons                          0.081368  12.826505  "
      ]
     },
     "execution_count": 145,
     "metadata": {},
     "output_type": "execute_result"
    }
   ],
   "source": [
    "etape_production_groupe = dfdetail.groupby(\"Groupe d'aliment\")[[\"Agriculture\", \"Transformation\", \"Emballage\", \"Transport\", \"Supermarché et distribution\", \"Consommation\", \"Total\"]].mean()\n",
    "etape_production_groupe"
   ]
  },
  {
   "attachments": {},
   "cell_type": "markdown",
   "metadata": {},
   "source": [
    "#### Visualisation"
   ]
  },
  {
   "cell_type": "code",
   "execution_count": 238,
   "metadata": {},
   "outputs": [
    {
     "data": {
      "application/vnd.plotly.v1+json": {
       "config": {
        "linkText": "Export to plot.ly",
        "plotlyServerURL": "https://plot.ly",
        "showLink": false
       },
       "data": [
        {
         "name": "Agriculture",
         "orientation": "h",
         "type": "bar",
         "x": [
          2.0310656756250003,
          1.620546050969697,
          0.6049996588732457,
          3.6593377774044518,
          0.6576618040640845,
          0.9959032292,
          3.4312579463228703,
          2.8306507560714285,
          1.5138756528191488,
          1.6749821133962266,
          11.332830680500775
         ],
         "xaxis": "x",
         "y": [
          "aides culinaires et ingrédients divers",
          "aliments infantiles",
          "boissons",
          "entrées et plats composés",
          "fruits, légumes, légumineuses et oléagineux",
          "glaces et sorbets",
          "lait et produits laitiers",
          "matières grasses",
          "produits céréaliers",
          "produits sucrés",
          "viandes, œufs, poissons"
         ],
         "yaxis": "y"
        },
        {
         "name": "Transformation",
         "orientation": "h",
         "type": "bar",
         "x": [
          0.5389585740051875,
          0.4136260186969697,
          0.517808697631579,
          0.3549203766632192,
          0.11421412822394367,
          0.2987041836,
          0.4127855908834081,
          0.6247184898571428,
          0.5912451626962766,
          4.6099286756603775,
          0.42825317144155034
         ],
         "xaxis": "x2",
         "y": [
          "aides culinaires et ingrédients divers",
          "aliments infantiles",
          "boissons",
          "entrées et plats composés",
          "fruits, légumes, légumineuses et oléagineux",
          "glaces et sorbets",
          "lait et produits laitiers",
          "matières grasses",
          "produits céréaliers",
          "produits sucrés",
          "viandes, œufs, poissons"
         ],
         "yaxis": "y2"
        },
        {
         "name": "Emballage",
         "orientation": "h",
         "type": "bar",
         "x": [
          0.29906204338500003,
          0.18092949151515153,
          0.20840449558245616,
          0.19388097526917808,
          0.1804531436338028,
          0.18395141159999998,
          0.22054682839461884,
          0.18815171125,
          0.19556825934840424,
          0.18430741724528302,
          0.4026064527937984
         ],
         "xaxis": "x3",
         "y": [
          "aides culinaires et ingrédients divers",
          "aliments infantiles",
          "boissons",
          "entrées et plats composés",
          "fruits, légumes, légumineuses et oléagineux",
          "glaces et sorbets",
          "lait et produits laitiers",
          "matières grasses",
          "produits céréaliers",
          "produits sucrés",
          "viandes, œufs, poissons"
         ],
         "yaxis": "y3"
        },
        {
         "name": "Transport",
         "orientation": "h",
         "type": "bar",
         "x": [
          0.23579175886249998,
          0.1618040887878788,
          0.17038965313070173,
          0.2841422032260274,
          0.31893820478403756,
          0.20635114719999997,
          0.21036399080717488,
          0.28502200642857145,
          0.16504401318085107,
          0.2221376445283019,
          0.5389515373736434
         ],
         "xaxis": "x4",
         "y": [
          "aides culinaires et ingrédients divers",
          "aliments infantiles",
          "boissons",
          "entrées et plats composés",
          "fruits, légumes, légumineuses et oléagineux",
          "glaces et sorbets",
          "lait et produits laitiers",
          "matières grasses",
          "produits céréaliers",
          "produits sucrés",
          "viandes, œufs, poissons"
         ],
         "yaxis": "y4"
        },
        {
         "name": "Supermarché et distribution",
         "orientation": "h",
         "type": "bar",
         "x": [
          0.02599043673125,
          0.01990635312121212,
          0.020805867288464914,
          0.031670828579931504,
          0.034118292438967135,
          0.064524479,
          0.033761437878923765,
          0.029667305714285715,
          0.017867600551063827,
          0.017756749471698113,
          0.04249509249085271
         ],
         "xaxis": "x5",
         "y": [
          "aides culinaires et ingrédients divers",
          "aliments infantiles",
          "boissons",
          "entrées et plats composés",
          "fruits, légumes, légumineuses et oléagineux",
          "glaces et sorbets",
          "lait et produits laitiers",
          "matières grasses",
          "produits céréaliers",
          "produits sucrés",
          "viandes, œufs, poissons"
         ],
         "yaxis": "y5"
        },
        {
         "name": "Consommation",
         "orientation": "h",
         "type": "bar",
         "x": [
          0.011558024015,
          0.006430137503030303,
          0.004367418379342105,
          0.04079851814075342,
          0.08097638607464788,
          0.025304288,
          0.0060877804726457395,
          0.004060305378571429,
          0.009668880585106383,
          0.000883262879245283,
          0.08136811428852712
         ],
         "xaxis": "x6",
         "y": [
          "aides culinaires et ingrédients divers",
          "aliments infantiles",
          "boissons",
          "entrées et plats composés",
          "fruits, légumes, légumineuses et oléagineux",
          "glaces et sorbets",
          "lait et produits laitiers",
          "matières grasses",
          "produits céréaliers",
          "produits sucrés",
          "viandes, œufs, poissons"
         ],
         "yaxis": "y6"
        }
       ],
       "layout": {
        "annotations": [
         {
          "font": {
           "size": 16
          },
          "showarrow": false,
          "text": "Agriculture",
          "x": 0.14444444444444446,
          "xanchor": "center",
          "xref": "paper",
          "y": 1,
          "yanchor": "bottom",
          "yref": "paper"
         },
         {
          "font": {
           "size": 16
          },
          "showarrow": false,
          "text": "Transformation",
          "x": 0.5,
          "xanchor": "center",
          "xref": "paper",
          "y": 1,
          "yanchor": "bottom",
          "yref": "paper"
         },
         {
          "font": {
           "size": 16
          },
          "showarrow": false,
          "text": "Emballage",
          "x": 0.8555555555555556,
          "xanchor": "center",
          "xref": "paper",
          "y": 1,
          "yanchor": "bottom",
          "yref": "paper"
         },
         {
          "font": {
           "size": 16
          },
          "showarrow": false,
          "text": "Transport",
          "x": 0.14444444444444446,
          "xanchor": "center",
          "xref": "paper",
          "y": 0.375,
          "yanchor": "bottom",
          "yref": "paper"
         },
         {
          "font": {
           "size": 16
          },
          "showarrow": false,
          "text": "Supermarché et distribution",
          "x": 0.5,
          "xanchor": "center",
          "xref": "paper",
          "y": 0.375,
          "yanchor": "bottom",
          "yref": "paper"
         },
         {
          "font": {
           "size": 16
          },
          "showarrow": false,
          "text": "Consommation",
          "x": 0.8555555555555556,
          "xanchor": "center",
          "xref": "paper",
          "y": 0.375,
          "yanchor": "bottom",
          "yref": "paper"
         }
        ],
        "font": {
         "size": 9
        },
        "height": 550,
        "showlegend": false,
        "template": {
         "data": {
          "bar": [
           {
            "error_x": {
             "color": "#2a3f5f"
            },
            "error_y": {
             "color": "#2a3f5f"
            },
            "marker": {
             "line": {
              "color": "#E5ECF6",
              "width": 0.5
             },
             "pattern": {
              "fillmode": "overlay",
              "size": 10,
              "solidity": 0.2
             }
            },
            "type": "bar"
           }
          ],
          "barpolar": [
           {
            "marker": {
             "line": {
              "color": "#E5ECF6",
              "width": 0.5
             },
             "pattern": {
              "fillmode": "overlay",
              "size": 10,
              "solidity": 0.2
             }
            },
            "type": "barpolar"
           }
          ],
          "carpet": [
           {
            "aaxis": {
             "endlinecolor": "#2a3f5f",
             "gridcolor": "white",
             "linecolor": "white",
             "minorgridcolor": "white",
             "startlinecolor": "#2a3f5f"
            },
            "baxis": {
             "endlinecolor": "#2a3f5f",
             "gridcolor": "white",
             "linecolor": "white",
             "minorgridcolor": "white",
             "startlinecolor": "#2a3f5f"
            },
            "type": "carpet"
           }
          ],
          "choropleth": [
           {
            "colorbar": {
             "outlinewidth": 0,
             "ticks": ""
            },
            "type": "choropleth"
           }
          ],
          "contour": [
           {
            "colorbar": {
             "outlinewidth": 0,
             "ticks": ""
            },
            "colorscale": [
             [
              0,
              "#0d0887"
             ],
             [
              0.1111111111111111,
              "#46039f"
             ],
             [
              0.2222222222222222,
              "#7201a8"
             ],
             [
              0.3333333333333333,
              "#9c179e"
             ],
             [
              0.4444444444444444,
              "#bd3786"
             ],
             [
              0.5555555555555556,
              "#d8576b"
             ],
             [
              0.6666666666666666,
              "#ed7953"
             ],
             [
              0.7777777777777778,
              "#fb9f3a"
             ],
             [
              0.8888888888888888,
              "#fdca26"
             ],
             [
              1,
              "#f0f921"
             ]
            ],
            "type": "contour"
           }
          ],
          "contourcarpet": [
           {
            "colorbar": {
             "outlinewidth": 0,
             "ticks": ""
            },
            "type": "contourcarpet"
           }
          ],
          "heatmap": [
           {
            "colorbar": {
             "outlinewidth": 0,
             "ticks": ""
            },
            "colorscale": [
             [
              0,
              "#0d0887"
             ],
             [
              0.1111111111111111,
              "#46039f"
             ],
             [
              0.2222222222222222,
              "#7201a8"
             ],
             [
              0.3333333333333333,
              "#9c179e"
             ],
             [
              0.4444444444444444,
              "#bd3786"
             ],
             [
              0.5555555555555556,
              "#d8576b"
             ],
             [
              0.6666666666666666,
              "#ed7953"
             ],
             [
              0.7777777777777778,
              "#fb9f3a"
             ],
             [
              0.8888888888888888,
              "#fdca26"
             ],
             [
              1,
              "#f0f921"
             ]
            ],
            "type": "heatmap"
           }
          ],
          "heatmapgl": [
           {
            "colorbar": {
             "outlinewidth": 0,
             "ticks": ""
            },
            "colorscale": [
             [
              0,
              "#0d0887"
             ],
             [
              0.1111111111111111,
              "#46039f"
             ],
             [
              0.2222222222222222,
              "#7201a8"
             ],
             [
              0.3333333333333333,
              "#9c179e"
             ],
             [
              0.4444444444444444,
              "#bd3786"
             ],
             [
              0.5555555555555556,
              "#d8576b"
             ],
             [
              0.6666666666666666,
              "#ed7953"
             ],
             [
              0.7777777777777778,
              "#fb9f3a"
             ],
             [
              0.8888888888888888,
              "#fdca26"
             ],
             [
              1,
              "#f0f921"
             ]
            ],
            "type": "heatmapgl"
           }
          ],
          "histogram": [
           {
            "marker": {
             "pattern": {
              "fillmode": "overlay",
              "size": 10,
              "solidity": 0.2
             }
            },
            "type": "histogram"
           }
          ],
          "histogram2d": [
           {
            "colorbar": {
             "outlinewidth": 0,
             "ticks": ""
            },
            "colorscale": [
             [
              0,
              "#0d0887"
             ],
             [
              0.1111111111111111,
              "#46039f"
             ],
             [
              0.2222222222222222,
              "#7201a8"
             ],
             [
              0.3333333333333333,
              "#9c179e"
             ],
             [
              0.4444444444444444,
              "#bd3786"
             ],
             [
              0.5555555555555556,
              "#d8576b"
             ],
             [
              0.6666666666666666,
              "#ed7953"
             ],
             [
              0.7777777777777778,
              "#fb9f3a"
             ],
             [
              0.8888888888888888,
              "#fdca26"
             ],
             [
              1,
              "#f0f921"
             ]
            ],
            "type": "histogram2d"
           }
          ],
          "histogram2dcontour": [
           {
            "colorbar": {
             "outlinewidth": 0,
             "ticks": ""
            },
            "colorscale": [
             [
              0,
              "#0d0887"
             ],
             [
              0.1111111111111111,
              "#46039f"
             ],
             [
              0.2222222222222222,
              "#7201a8"
             ],
             [
              0.3333333333333333,
              "#9c179e"
             ],
             [
              0.4444444444444444,
              "#bd3786"
             ],
             [
              0.5555555555555556,
              "#d8576b"
             ],
             [
              0.6666666666666666,
              "#ed7953"
             ],
             [
              0.7777777777777778,
              "#fb9f3a"
             ],
             [
              0.8888888888888888,
              "#fdca26"
             ],
             [
              1,
              "#f0f921"
             ]
            ],
            "type": "histogram2dcontour"
           }
          ],
          "mesh3d": [
           {
            "colorbar": {
             "outlinewidth": 0,
             "ticks": ""
            },
            "type": "mesh3d"
           }
          ],
          "parcoords": [
           {
            "line": {
             "colorbar": {
              "outlinewidth": 0,
              "ticks": ""
             }
            },
            "type": "parcoords"
           }
          ],
          "pie": [
           {
            "automargin": true,
            "type": "pie"
           }
          ],
          "scatter": [
           {
            "fillpattern": {
             "fillmode": "overlay",
             "size": 10,
             "solidity": 0.2
            },
            "type": "scatter"
           }
          ],
          "scatter3d": [
           {
            "line": {
             "colorbar": {
              "outlinewidth": 0,
              "ticks": ""
             }
            },
            "marker": {
             "colorbar": {
              "outlinewidth": 0,
              "ticks": ""
             }
            },
            "type": "scatter3d"
           }
          ],
          "scattercarpet": [
           {
            "marker": {
             "colorbar": {
              "outlinewidth": 0,
              "ticks": ""
             }
            },
            "type": "scattercarpet"
           }
          ],
          "scattergeo": [
           {
            "marker": {
             "colorbar": {
              "outlinewidth": 0,
              "ticks": ""
             }
            },
            "type": "scattergeo"
           }
          ],
          "scattergl": [
           {
            "marker": {
             "colorbar": {
              "outlinewidth": 0,
              "ticks": ""
             }
            },
            "type": "scattergl"
           }
          ],
          "scattermapbox": [
           {
            "marker": {
             "colorbar": {
              "outlinewidth": 0,
              "ticks": ""
             }
            },
            "type": "scattermapbox"
           }
          ],
          "scatterpolar": [
           {
            "marker": {
             "colorbar": {
              "outlinewidth": 0,
              "ticks": ""
             }
            },
            "type": "scatterpolar"
           }
          ],
          "scatterpolargl": [
           {
            "marker": {
             "colorbar": {
              "outlinewidth": 0,
              "ticks": ""
             }
            },
            "type": "scatterpolargl"
           }
          ],
          "scatterternary": [
           {
            "marker": {
             "colorbar": {
              "outlinewidth": 0,
              "ticks": ""
             }
            },
            "type": "scatterternary"
           }
          ],
          "surface": [
           {
            "colorbar": {
             "outlinewidth": 0,
             "ticks": ""
            },
            "colorscale": [
             [
              0,
              "#0d0887"
             ],
             [
              0.1111111111111111,
              "#46039f"
             ],
             [
              0.2222222222222222,
              "#7201a8"
             ],
             [
              0.3333333333333333,
              "#9c179e"
             ],
             [
              0.4444444444444444,
              "#bd3786"
             ],
             [
              0.5555555555555556,
              "#d8576b"
             ],
             [
              0.6666666666666666,
              "#ed7953"
             ],
             [
              0.7777777777777778,
              "#fb9f3a"
             ],
             [
              0.8888888888888888,
              "#fdca26"
             ],
             [
              1,
              "#f0f921"
             ]
            ],
            "type": "surface"
           }
          ],
          "table": [
           {
            "cells": {
             "fill": {
              "color": "#EBF0F8"
             },
             "line": {
              "color": "white"
             }
            },
            "header": {
             "fill": {
              "color": "#C8D4E3"
             },
             "line": {
              "color": "white"
             }
            },
            "type": "table"
           }
          ]
         },
         "layout": {
          "annotationdefaults": {
           "arrowcolor": "#2a3f5f",
           "arrowhead": 0,
           "arrowwidth": 1
          },
          "autotypenumbers": "strict",
          "coloraxis": {
           "colorbar": {
            "outlinewidth": 0,
            "ticks": ""
           }
          },
          "colorscale": {
           "diverging": [
            [
             0,
             "#8e0152"
            ],
            [
             0.1,
             "#c51b7d"
            ],
            [
             0.2,
             "#de77ae"
            ],
            [
             0.3,
             "#f1b6da"
            ],
            [
             0.4,
             "#fde0ef"
            ],
            [
             0.5,
             "#f7f7f7"
            ],
            [
             0.6,
             "#e6f5d0"
            ],
            [
             0.7,
             "#b8e186"
            ],
            [
             0.8,
             "#7fbc41"
            ],
            [
             0.9,
             "#4d9221"
            ],
            [
             1,
             "#276419"
            ]
           ],
           "sequential": [
            [
             0,
             "#0d0887"
            ],
            [
             0.1111111111111111,
             "#46039f"
            ],
            [
             0.2222222222222222,
             "#7201a8"
            ],
            [
             0.3333333333333333,
             "#9c179e"
            ],
            [
             0.4444444444444444,
             "#bd3786"
            ],
            [
             0.5555555555555556,
             "#d8576b"
            ],
            [
             0.6666666666666666,
             "#ed7953"
            ],
            [
             0.7777777777777778,
             "#fb9f3a"
            ],
            [
             0.8888888888888888,
             "#fdca26"
            ],
            [
             1,
             "#f0f921"
            ]
           ],
           "sequentialminus": [
            [
             0,
             "#0d0887"
            ],
            [
             0.1111111111111111,
             "#46039f"
            ],
            [
             0.2222222222222222,
             "#7201a8"
            ],
            [
             0.3333333333333333,
             "#9c179e"
            ],
            [
             0.4444444444444444,
             "#bd3786"
            ],
            [
             0.5555555555555556,
             "#d8576b"
            ],
            [
             0.6666666666666666,
             "#ed7953"
            ],
            [
             0.7777777777777778,
             "#fb9f3a"
            ],
            [
             0.8888888888888888,
             "#fdca26"
            ],
            [
             1,
             "#f0f921"
            ]
           ]
          },
          "colorway": [
           "#636efa",
           "#EF553B",
           "#00cc96",
           "#ab63fa",
           "#FFA15A",
           "#19d3f3",
           "#FF6692",
           "#B6E880",
           "#FF97FF",
           "#FECB52"
          ],
          "font": {
           "color": "#2a3f5f"
          },
          "geo": {
           "bgcolor": "white",
           "lakecolor": "white",
           "landcolor": "#E5ECF6",
           "showlakes": true,
           "showland": true,
           "subunitcolor": "white"
          },
          "hoverlabel": {
           "align": "left"
          },
          "hovermode": "closest",
          "mapbox": {
           "style": "light"
          },
          "paper_bgcolor": "white",
          "plot_bgcolor": "#E5ECF6",
          "polar": {
           "angularaxis": {
            "gridcolor": "white",
            "linecolor": "white",
            "ticks": ""
           },
           "bgcolor": "#E5ECF6",
           "radialaxis": {
            "gridcolor": "white",
            "linecolor": "white",
            "ticks": ""
           }
          },
          "scene": {
           "xaxis": {
            "backgroundcolor": "#E5ECF6",
            "gridcolor": "white",
            "gridwidth": 2,
            "linecolor": "white",
            "showbackground": true,
            "ticks": "",
            "zerolinecolor": "white"
           },
           "yaxis": {
            "backgroundcolor": "#E5ECF6",
            "gridcolor": "white",
            "gridwidth": 2,
            "linecolor": "white",
            "showbackground": true,
            "ticks": "",
            "zerolinecolor": "white"
           },
           "zaxis": {
            "backgroundcolor": "#E5ECF6",
            "gridcolor": "white",
            "gridwidth": 2,
            "linecolor": "white",
            "showbackground": true,
            "ticks": "",
            "zerolinecolor": "white"
           }
          },
          "shapedefaults": {
           "line": {
            "color": "#2a3f5f"
           }
          },
          "ternary": {
           "aaxis": {
            "gridcolor": "white",
            "linecolor": "white",
            "ticks": ""
           },
           "baxis": {
            "gridcolor": "white",
            "linecolor": "white",
            "ticks": ""
           },
           "bgcolor": "#E5ECF6",
           "caxis": {
            "gridcolor": "white",
            "linecolor": "white",
            "ticks": ""
           }
          },
          "title": {
           "x": 0.05
          },
          "xaxis": {
           "automargin": true,
           "gridcolor": "white",
           "linecolor": "white",
           "ticks": "",
           "title": {
            "standoff": 15
           },
           "zerolinecolor": "white",
           "zerolinewidth": 2
          },
          "yaxis": {
           "automargin": true,
           "gridcolor": "white",
           "linecolor": "white",
           "ticks": "",
           "title": {
            "standoff": 15
           },
           "zerolinecolor": "white",
           "zerolinewidth": 2
          }
         }
        },
        "title": {
         "text": "Impact sur le changement climatique des aliments selon le groupe d'aliment et l'étape de production"
        },
        "width": 1200,
        "xaxis": {
         "anchor": "y",
         "domain": [
          0,
          0.2
         ]
        },
        "xaxis2": {
         "anchor": "y2",
         "domain": [
          0.4,
          0.6
         ]
        },
        "xaxis3": {
         "anchor": "y3",
         "domain": [
          0.8,
          1
         ]
        },
        "xaxis4": {
         "anchor": "y4",
         "domain": [
          0,
          0.2
         ]
        },
        "xaxis5": {
         "anchor": "y5",
         "domain": [
          0.4,
          0.6
         ]
        },
        "xaxis6": {
         "anchor": "y6",
         "domain": [
          0.8,
          1
         ]
        },
        "yaxis": {
         "anchor": "x",
         "domain": [
          0.625,
          1
         ]
        },
        "yaxis2": {
         "anchor": "x2",
         "domain": [
          0.625,
          1
         ]
        },
        "yaxis3": {
         "anchor": "x3",
         "domain": [
          0.625,
          1
         ]
        },
        "yaxis4": {
         "anchor": "x4",
         "domain": [
          0,
          0.375
         ]
        },
        "yaxis5": {
         "anchor": "x5",
         "domain": [
          0,
          0.375
         ]
        },
        "yaxis6": {
         "anchor": "x6",
         "domain": [
          0,
          0.375
         ]
        }
       }
      }
     },
     "metadata": {},
     "output_type": "display_data"
    }
   ],
   "source": [
    "indicateurs = etape_production_groupe.columns[0:6]\n",
    "\n",
    "separation_graphique = subplots.make_subplots(rows=2, cols=3, subplot_titles=indicateurs)\n",
    "\n",
    "plot = 0\n",
    "\n",
    "for indi in indicateurs:\n",
    "    ligne = np.unravel_index(plot, (2, 3))[0] + 1\n",
    "    colonne = np.unravel_index(plot, (2, 3))[1] + 1\n",
    "    indi = go.Bar(y=etape_production_groupe.index, x=etape_production_groupe[indi], name=indi, orientation=\"h\")\n",
    "    separation_graphique.append_trace(indi, ligne, colonne)\n",
    "    plot += 1\n",
    "\n",
    "separation_graphique.update_layout(\n",
    "    height=550, width=1200,\n",
    "    title_text=\"Impact sur le changement climatique des aliments selon le groupe d'aliment et l'étape de production\",\n",
    "    showlegend=False,\n",
    "    font=dict(size=9)\n",
    ")\n",
    "\n",
    "# Ajuster la position horizontale des sous-graphiques\n",
    "separation_graphique.update_xaxes(domain=[0, 0.20], row=1, col=1)\n",
    "separation_graphique.update_xaxes(domain=[0.40, 0.60], row=1, col=2)\n",
    "separation_graphique.update_xaxes(domain=[0.80, 1], row=1, col=3)\n",
    "separation_graphique.update_xaxes(domain=[0, 0.20], row=2, col=1)\n",
    "separation_graphique.update_xaxes(domain=[0.40, 0.60], row=2, col=2)\n",
    "separation_graphique.update_xaxes(domain=[0.80, 1], row=2, col=3)\n",
    "\n",
    "iplot(separation_graphique)"
   ]
  },
  {
   "attachments": {},
   "cell_type": "markdown",
   "metadata": {},
   "source": [
    "### Ecart-type moyen au sein des groupes d'aliments"
   ]
  },
  {
   "cell_type": "code",
   "execution_count": 147,
   "metadata": {},
   "outputs": [
    {
     "data": {
      "text/html": [
       "<div>\n",
       "<style scoped>\n",
       "    .dataframe tbody tr th:only-of-type {\n",
       "        vertical-align: middle;\n",
       "    }\n",
       "\n",
       "    .dataframe tbody tr th {\n",
       "        vertical-align: top;\n",
       "    }\n",
       "\n",
       "    .dataframe thead th {\n",
       "        text-align: right;\n",
       "    }\n",
       "</style>\n",
       "<table border=\"1\" class=\"dataframe\">\n",
       "  <thead>\n",
       "    <tr style=\"text-align: right;\">\n",
       "      <th></th>\n",
       "      <th>Agriculture</th>\n",
       "      <th>Transformation</th>\n",
       "      <th>Emballage</th>\n",
       "      <th>Transport</th>\n",
       "      <th>Supermarché et distribution</th>\n",
       "      <th>Consommation</th>\n",
       "      <th>Total</th>\n",
       "    </tr>\n",
       "    <tr>\n",
       "      <th>Groupe d'aliment</th>\n",
       "      <th></th>\n",
       "      <th></th>\n",
       "      <th></th>\n",
       "      <th></th>\n",
       "      <th></th>\n",
       "      <th></th>\n",
       "      <th></th>\n",
       "    </tr>\n",
       "  </thead>\n",
       "  <tbody>\n",
       "    <tr>\n",
       "      <th>aides culinaires et ingrédients divers</th>\n",
       "      <td>2.441324</td>\n",
       "      <td>1.081707</td>\n",
       "      <td>0.223228</td>\n",
       "      <td>0.083529</td>\n",
       "      <td>0.010890</td>\n",
       "      <td>0.018703</td>\n",
       "      <td>2.803268</td>\n",
       "    </tr>\n",
       "    <tr>\n",
       "      <th>aliments infantiles</th>\n",
       "      <td>3.375453</td>\n",
       "      <td>0.997646</td>\n",
       "      <td>0.033386</td>\n",
       "      <td>0.044379</td>\n",
       "      <td>0.004285</td>\n",
       "      <td>0.005365</td>\n",
       "      <td>3.431455</td>\n",
       "    </tr>\n",
       "    <tr>\n",
       "      <th>boissons</th>\n",
       "      <td>2.311834</td>\n",
       "      <td>2.613026</td>\n",
       "      <td>0.154466</td>\n",
       "      <td>0.095845</td>\n",
       "      <td>0.011783</td>\n",
       "      <td>0.011533</td>\n",
       "      <td>4.525577</td>\n",
       "    </tr>\n",
       "    <tr>\n",
       "      <th>entrées et plats composés</th>\n",
       "      <td>4.886019</td>\n",
       "      <td>0.209878</td>\n",
       "      <td>0.104008</td>\n",
       "      <td>0.220444</td>\n",
       "      <td>0.013166</td>\n",
       "      <td>0.041087</td>\n",
       "      <td>4.954365</td>\n",
       "    </tr>\n",
       "    <tr>\n",
       "      <th>fruits, légumes, légumineuses et oléagineux</th>\n",
       "      <td>0.933562</td>\n",
       "      <td>0.341393</td>\n",
       "      <td>0.159757</td>\n",
       "      <td>0.580183</td>\n",
       "      <td>0.033206</td>\n",
       "      <td>0.104824</td>\n",
       "      <td>1.312605</td>\n",
       "    </tr>\n",
       "    <tr>\n",
       "      <th>glaces et sorbets</th>\n",
       "      <td>0.302727</td>\n",
       "      <td>0.356981</td>\n",
       "      <td>0.016435</td>\n",
       "      <td>0.029532</td>\n",
       "      <td>0.000000</td>\n",
       "      <td>0.000000</td>\n",
       "      <td>0.488751</td>\n",
       "    </tr>\n",
       "    <tr>\n",
       "      <th>lait et produits laitiers</th>\n",
       "      <td>2.335918</td>\n",
       "      <td>0.817965</td>\n",
       "      <td>0.046028</td>\n",
       "      <td>0.036947</td>\n",
       "      <td>0.006305</td>\n",
       "      <td>0.001915</td>\n",
       "      <td>2.440263</td>\n",
       "    </tr>\n",
       "    <tr>\n",
       "      <th>matières grasses</th>\n",
       "      <td>2.309400</td>\n",
       "      <td>2.549584</td>\n",
       "      <td>0.065021</td>\n",
       "      <td>0.106950</td>\n",
       "      <td>0.010423</td>\n",
       "      <td>0.003296</td>\n",
       "      <td>3.777839</td>\n",
       "    </tr>\n",
       "    <tr>\n",
       "      <th>produits céréaliers</th>\n",
       "      <td>0.989220</td>\n",
       "      <td>1.053258</td>\n",
       "      <td>0.100257</td>\n",
       "      <td>0.058114</td>\n",
       "      <td>0.009450</td>\n",
       "      <td>0.030934</td>\n",
       "      <td>1.661558</td>\n",
       "    </tr>\n",
       "    <tr>\n",
       "      <th>produits sucrés</th>\n",
       "      <td>1.422639</td>\n",
       "      <td>5.064157</td>\n",
       "      <td>0.150490</td>\n",
       "      <td>0.067513</td>\n",
       "      <td>0.001492</td>\n",
       "      <td>0.002286</td>\n",
       "      <td>5.792033</td>\n",
       "    </tr>\n",
       "    <tr>\n",
       "      <th>viandes, œufs, poissons</th>\n",
       "      <td>11.385244</td>\n",
       "      <td>0.682679</td>\n",
       "      <td>0.601109</td>\n",
       "      <td>0.704628</td>\n",
       "      <td>0.017533</td>\n",
       "      <td>0.159496</td>\n",
       "      <td>11.259289</td>\n",
       "    </tr>\n",
       "  </tbody>\n",
       "</table>\n",
       "</div>"
      ],
      "text/plain": [
       "                                             Agriculture  Transformation  \\\n",
       "Groupe d'aliment                                                           \n",
       "aides culinaires et ingrédients divers          2.441324        1.081707   \n",
       "aliments infantiles                             3.375453        0.997646   \n",
       "boissons                                        2.311834        2.613026   \n",
       "entrées et plats composés                       4.886019        0.209878   \n",
       "fruits, légumes, légumineuses et oléagineux     0.933562        0.341393   \n",
       "glaces et sorbets                               0.302727        0.356981   \n",
       "lait et produits laitiers                       2.335918        0.817965   \n",
       "matières grasses                                2.309400        2.549584   \n",
       "produits céréaliers                             0.989220        1.053258   \n",
       "produits sucrés                                 1.422639        5.064157   \n",
       "viandes, œufs, poissons                        11.385244        0.682679   \n",
       "\n",
       "                                             Emballage  Transport  \\\n",
       "Groupe d'aliment                                                    \n",
       "aides culinaires et ingrédients divers        0.223228   0.083529   \n",
       "aliments infantiles                           0.033386   0.044379   \n",
       "boissons                                      0.154466   0.095845   \n",
       "entrées et plats composés                     0.104008   0.220444   \n",
       "fruits, légumes, légumineuses et oléagineux   0.159757   0.580183   \n",
       "glaces et sorbets                             0.016435   0.029532   \n",
       "lait et produits laitiers                     0.046028   0.036947   \n",
       "matières grasses                              0.065021   0.106950   \n",
       "produits céréaliers                           0.100257   0.058114   \n",
       "produits sucrés                               0.150490   0.067513   \n",
       "viandes, œufs, poissons                       0.601109   0.704628   \n",
       "\n",
       "                                             Supermarché et distribution  \\\n",
       "Groupe d'aliment                                                           \n",
       "aides culinaires et ingrédients divers                          0.010890   \n",
       "aliments infantiles                                             0.004285   \n",
       "boissons                                                        0.011783   \n",
       "entrées et plats composés                                       0.013166   \n",
       "fruits, légumes, légumineuses et oléagineux                     0.033206   \n",
       "glaces et sorbets                                               0.000000   \n",
       "lait et produits laitiers                                       0.006305   \n",
       "matières grasses                                                0.010423   \n",
       "produits céréaliers                                             0.009450   \n",
       "produits sucrés                                                 0.001492   \n",
       "viandes, œufs, poissons                                         0.017533   \n",
       "\n",
       "                                             Consommation      Total  \n",
       "Groupe d'aliment                                                      \n",
       "aides culinaires et ingrédients divers           0.018703   2.803268  \n",
       "aliments infantiles                              0.005365   3.431455  \n",
       "boissons                                         0.011533   4.525577  \n",
       "entrées et plats composés                        0.041087   4.954365  \n",
       "fruits, légumes, légumineuses et oléagineux      0.104824   1.312605  \n",
       "glaces et sorbets                                0.000000   0.488751  \n",
       "lait et produits laitiers                        0.001915   2.440263  \n",
       "matières grasses                                 0.003296   3.777839  \n",
       "produits céréaliers                              0.030934   1.661558  \n",
       "produits sucrés                                  0.002286   5.792033  \n",
       "viandes, œufs, poissons                          0.159496  11.259289  "
      ]
     },
     "execution_count": 147,
     "metadata": {},
     "output_type": "execute_result"
    }
   ],
   "source": [
    "dfdetail.groupby(\"Groupe d'aliment\")[[\"Agriculture\", \"Transformation\", \"Emballage\", \"Transport\", \"Supermarché et distribution\", \"Consommation\", \"Total\"]].std()"
   ]
  },
  {
   "attachments": {},
   "cell_type": "markdown",
   "metadata": {},
   "source": [
    "### Zoom sur la catégorie viande, oeufs, poisson"
   ]
  },
  {
   "cell_type": "code",
   "execution_count": 148,
   "metadata": {},
   "outputs": [],
   "source": [
    "dfcategorie = dfdetail[dfdetail[\"Groupe d'aliment\"]==\"viandes, œufs, poissons\"]"
   ]
  },
  {
   "cell_type": "code",
   "execution_count": 172,
   "metadata": {},
   "outputs": [
    {
     "data": {
      "text/html": [
       "<div>\n",
       "<style scoped>\n",
       "    .dataframe tbody tr th:only-of-type {\n",
       "        vertical-align: middle;\n",
       "    }\n",
       "\n",
       "    .dataframe tbody tr th {\n",
       "        vertical-align: top;\n",
       "    }\n",
       "\n",
       "    .dataframe thead th {\n",
       "        text-align: right;\n",
       "    }\n",
       "</style>\n",
       "<table border=\"1\" class=\"dataframe\">\n",
       "  <thead>\n",
       "    <tr style=\"text-align: right;\">\n",
       "      <th></th>\n",
       "      <th>Agriculture</th>\n",
       "      <th>Transformation</th>\n",
       "      <th>Emballage</th>\n",
       "      <th>Transport</th>\n",
       "      <th>Supermarché et distribution</th>\n",
       "      <th>Consommation</th>\n",
       "      <th>Total</th>\n",
       "    </tr>\n",
       "    <tr>\n",
       "      <th>Sous-groupe d'aliment</th>\n",
       "      <th></th>\n",
       "      <th></th>\n",
       "      <th></th>\n",
       "      <th></th>\n",
       "      <th></th>\n",
       "      <th></th>\n",
       "      <th></th>\n",
       "    </tr>\n",
       "  </thead>\n",
       "  <tbody>\n",
       "    <tr>\n",
       "      <th>autres produits à base de viande</th>\n",
       "      <td>13.410348</td>\n",
       "      <td>0.618804</td>\n",
       "      <td>0.367419</td>\n",
       "      <td>0.252284</td>\n",
       "      <td>0.040035</td>\n",
       "      <td>0.081207</td>\n",
       "      <td>14.770097</td>\n",
       "    </tr>\n",
       "    <tr>\n",
       "      <th>charcuteries</th>\n",
       "      <td>7.979284</td>\n",
       "      <td>0.705757</td>\n",
       "      <td>0.348060</td>\n",
       "      <td>0.216974</td>\n",
       "      <td>0.036181</td>\n",
       "      <td>0.048119</td>\n",
       "      <td>9.334374</td>\n",
       "    </tr>\n",
       "    <tr>\n",
       "      <th>mollusques et crustacés crus</th>\n",
       "      <td>5.240872</td>\n",
       "      <td>0.515398</td>\n",
       "      <td>0.834828</td>\n",
       "      <td>2.012283</td>\n",
       "      <td>0.097364</td>\n",
       "      <td>0.516238</td>\n",
       "      <td>9.216983</td>\n",
       "    </tr>\n",
       "    <tr>\n",
       "      <th>mollusques et crustacés cuits</th>\n",
       "      <td>9.115566</td>\n",
       "      <td>2.013600</td>\n",
       "      <td>0.424037</td>\n",
       "      <td>2.939638</td>\n",
       "      <td>0.099687</td>\n",
       "      <td>0.847110</td>\n",
       "      <td>15.439637</td>\n",
       "    </tr>\n",
       "    <tr>\n",
       "      <th>poissons crus</th>\n",
       "      <td>6.323861</td>\n",
       "      <td>0.015013</td>\n",
       "      <td>0.276016</td>\n",
       "      <td>1.009893</td>\n",
       "      <td>0.037993</td>\n",
       "      <td>0.008213</td>\n",
       "      <td>7.670988</td>\n",
       "    </tr>\n",
       "    <tr>\n",
       "      <th>poissons cuits</th>\n",
       "      <td>7.457509</td>\n",
       "      <td>0.013503</td>\n",
       "      <td>0.223108</td>\n",
       "      <td>1.183527</td>\n",
       "      <td>0.043237</td>\n",
       "      <td>0.079903</td>\n",
       "      <td>9.000786</td>\n",
       "    </tr>\n",
       "    <tr>\n",
       "      <th>produits à base de poissons et produits de la mer</th>\n",
       "      <td>3.966566</td>\n",
       "      <td>0.403394</td>\n",
       "      <td>1.282060</td>\n",
       "      <td>0.750448</td>\n",
       "      <td>0.032097</td>\n",
       "      <td>0.045616</td>\n",
       "      <td>6.480181</td>\n",
       "    </tr>\n",
       "    <tr>\n",
       "      <th>substituts de charcuterie</th>\n",
       "      <td>0.358867</td>\n",
       "      <td>0.563007</td>\n",
       "      <td>0.205520</td>\n",
       "      <td>0.210652</td>\n",
       "      <td>0.039201</td>\n",
       "      <td>0.059074</td>\n",
       "      <td>1.436322</td>\n",
       "    </tr>\n",
       "    <tr>\n",
       "      <th>substituts de viande</th>\n",
       "      <td>0.249814</td>\n",
       "      <td>0.564942</td>\n",
       "      <td>0.141232</td>\n",
       "      <td>0.168553</td>\n",
       "      <td>0.024434</td>\n",
       "      <td>0.052544</td>\n",
       "      <td>1.201519</td>\n",
       "    </tr>\n",
       "    <tr>\n",
       "      <th>viandes crues</th>\n",
       "      <td>15.446147</td>\n",
       "      <td>0.448245</td>\n",
       "      <td>0.327706</td>\n",
       "      <td>0.233050</td>\n",
       "      <td>0.040732</td>\n",
       "      <td>0.039900</td>\n",
       "      <td>16.535780</td>\n",
       "    </tr>\n",
       "    <tr>\n",
       "      <th>viandes cuites</th>\n",
       "      <td>23.527420</td>\n",
       "      <td>0.499570</td>\n",
       "      <td>0.410694</td>\n",
       "      <td>0.300600</td>\n",
       "      <td>0.052769</td>\n",
       "      <td>0.146746</td>\n",
       "      <td>24.937798</td>\n",
       "    </tr>\n",
       "    <tr>\n",
       "      <th>œufs</th>\n",
       "      <td>2.946377</td>\n",
       "      <td>0.255308</td>\n",
       "      <td>0.151841</td>\n",
       "      <td>0.217559</td>\n",
       "      <td>0.037715</td>\n",
       "      <td>0.125641</td>\n",
       "      <td>3.734441</td>\n",
       "    </tr>\n",
       "  </tbody>\n",
       "</table>\n",
       "</div>"
      ],
      "text/plain": [
       "                                                   Agriculture  \\\n",
       "Sous-groupe d'aliment                                            \n",
       "autres produits à base de viande                     13.410348   \n",
       "charcuteries                                          7.979284   \n",
       "mollusques et crustacés crus                          5.240872   \n",
       "mollusques et crustacés cuits                         9.115566   \n",
       "poissons crus                                         6.323861   \n",
       "poissons cuits                                        7.457509   \n",
       "produits à base de poissons et produits de la mer     3.966566   \n",
       "substituts de charcuterie                             0.358867   \n",
       "substituts de viande                                  0.249814   \n",
       "viandes crues                                        15.446147   \n",
       "viandes cuites                                       23.527420   \n",
       "œufs                                                  2.946377   \n",
       "\n",
       "                                                   Transformation  Emballage  \\\n",
       "Sous-groupe d'aliment                                                          \n",
       "autres produits à base de viande                         0.618804   0.367419   \n",
       "charcuteries                                             0.705757   0.348060   \n",
       "mollusques et crustacés crus                             0.515398   0.834828   \n",
       "mollusques et crustacés cuits                            2.013600   0.424037   \n",
       "poissons crus                                            0.015013   0.276016   \n",
       "poissons cuits                                           0.013503   0.223108   \n",
       "produits à base de poissons et produits de la mer        0.403394   1.282060   \n",
       "substituts de charcuterie                                0.563007   0.205520   \n",
       "substituts de viande                                     0.564942   0.141232   \n",
       "viandes crues                                            0.448245   0.327706   \n",
       "viandes cuites                                           0.499570   0.410694   \n",
       "œufs                                                     0.255308   0.151841   \n",
       "\n",
       "                                                   Transport  \\\n",
       "Sous-groupe d'aliment                                          \n",
       "autres produits à base de viande                    0.252284   \n",
       "charcuteries                                        0.216974   \n",
       "mollusques et crustacés crus                        2.012283   \n",
       "mollusques et crustacés cuits                       2.939638   \n",
       "poissons crus                                       1.009893   \n",
       "poissons cuits                                      1.183527   \n",
       "produits à base de poissons et produits de la mer   0.750448   \n",
       "substituts de charcuterie                           0.210652   \n",
       "substituts de viande                                0.168553   \n",
       "viandes crues                                       0.233050   \n",
       "viandes cuites                                      0.300600   \n",
       "œufs                                                0.217559   \n",
       "\n",
       "                                                   Supermarché et distribution  \\\n",
       "Sous-groupe d'aliment                                                            \n",
       "autres produits à base de viande                                      0.040035   \n",
       "charcuteries                                                          0.036181   \n",
       "mollusques et crustacés crus                                          0.097364   \n",
       "mollusques et crustacés cuits                                         0.099687   \n",
       "poissons crus                                                         0.037993   \n",
       "poissons cuits                                                        0.043237   \n",
       "produits à base de poissons et produits de la mer                     0.032097   \n",
       "substituts de charcuterie                                             0.039201   \n",
       "substituts de viande                                                  0.024434   \n",
       "viandes crues                                                         0.040732   \n",
       "viandes cuites                                                        0.052769   \n",
       "œufs                                                                  0.037715   \n",
       "\n",
       "                                                   Consommation      Total  \n",
       "Sous-groupe d'aliment                                                       \n",
       "autres produits à base de viande                       0.081207  14.770097  \n",
       "charcuteries                                           0.048119   9.334374  \n",
       "mollusques et crustacés crus                           0.516238   9.216983  \n",
       "mollusques et crustacés cuits                          0.847110  15.439637  \n",
       "poissons crus                                          0.008213   7.670988  \n",
       "poissons cuits                                         0.079903   9.000786  \n",
       "produits à base de poissons et produits de la mer      0.045616   6.480181  \n",
       "substituts de charcuterie                              0.059074   1.436322  \n",
       "substituts de viande                                   0.052544   1.201519  \n",
       "viandes crues                                          0.039900  16.535780  \n",
       "viandes cuites                                         0.146746  24.937798  \n",
       "œufs                                                   0.125641   3.734441  "
      ]
     },
     "execution_count": 172,
     "metadata": {},
     "output_type": "execute_result"
    }
   ],
   "source": [
    "sous_groupe = dfcategorie.groupby(\"Sous-groupe d'aliment\")[[\"Agriculture\", \"Transformation\", \"Emballage\", \"Transport\", \"Supermarché et distribution\", \"Consommation\", \"Total\"]].mean()\n",
    "sous_groupe"
   ]
  },
  {
   "attachments": {},
   "cell_type": "markdown",
   "metadata": {},
   "source": [
    "#### Visualisation"
   ]
  },
  {
   "cell_type": "code",
   "execution_count": 236,
   "metadata": {},
   "outputs": [
    {
     "data": {
      "application/vnd.plotly.v1+json": {
       "config": {
        "linkText": "Export to plot.ly",
        "plotlyServerURL": "https://plot.ly",
        "showLink": false
       },
       "data": [
        {
         "name": "Agriculture",
         "orientation": "h",
         "type": "bar",
         "x": [
          13.410348053333333,
          7.979283723888888,
          5.240871692857143,
          9.115565642857144,
          6.323860868617022,
          7.457508735272728,
          3.966565902826087,
          0.35886749,
          0.2498138686,
          15.446146652941176,
          23.527419855238094,
          2.9463768404761903
         ],
         "xaxis": "x",
         "y": [
          "autres produits à base de viande",
          "charcuteries",
          "mollusques et crustacés crus",
          "mollusques et crustacés cuits",
          "poissons crus",
          "poissons cuits",
          "produits à base de poissons et produits de la mer",
          "substituts de charcuterie",
          "substituts de viande",
          "viandes crues",
          "viandes cuites",
          "œufs"
         ],
         "yaxis": "y"
        },
        {
         "name": "Transformation",
         "orientation": "h",
         "type": "bar",
         "x": [
          0.618804072,
          0.7057571929305556,
          0.5153983378571428,
          2.0135998956714287,
          0.01501302470212766,
          0.01350299604,
          0.4033941776608696,
          0.5630068866666667,
          0.56494181,
          0.44824501186764704,
          0.49957026639999996,
          0.2553081974047619
         ],
         "xaxis": "x2",
         "y": [
          "autres produits à base de viande",
          "charcuteries",
          "mollusques et crustacés crus",
          "mollusques et crustacés cuits",
          "poissons crus",
          "poissons cuits",
          "produits à base de poissons et produits de la mer",
          "substituts de charcuterie",
          "substituts de viande",
          "viandes crues",
          "viandes cuites",
          "œufs"
         ],
         "yaxis": "y2"
        },
        {
         "name": "Emballage",
         "orientation": "h",
         "type": "bar",
         "x": [
          0.36741940733333334,
          0.34805962767361115,
          0.8348280821428571,
          0.4240367657142857,
          0.2760156253191489,
          0.22310753254545454,
          1.2820600693478261,
          0.20552005333333334,
          0.1412322674,
          0.32770627786764706,
          0.4106938157142857,
          0.15184104047619046
         ],
         "xaxis": "x3",
         "y": [
          "autres produits à base de viande",
          "charcuteries",
          "mollusques et crustacés crus",
          "mollusques et crustacés cuits",
          "poissons crus",
          "poissons cuits",
          "produits à base de poissons et produits de la mer",
          "substituts de charcuterie",
          "substituts de viande",
          "viandes crues",
          "viandes cuites",
          "œufs"
         ],
         "yaxis": "y3"
        },
        {
         "name": "Transport",
         "orientation": "h",
         "type": "bar",
         "x": [
          0.2522836846666667,
          0.21697413152777778,
          2.012282825,
          2.9396378357142856,
          1.009892535851064,
          1.1835266449090909,
          0.7504478313043478,
          0.21065194333333334,
          0.1685528972,
          0.23305041404411764,
          0.3006000011428572,
          0.21755934142857142
         ],
         "xaxis": "x4",
         "y": [
          "autres produits à base de viande",
          "charcuteries",
          "mollusques et crustacés crus",
          "mollusques et crustacés cuits",
          "poissons crus",
          "poissons cuits",
          "produits à base de poissons et produits de la mer",
          "substituts de charcuterie",
          "substituts de viande",
          "viandes crues",
          "viandes cuites",
          "œufs"
         ],
         "yaxis": "y4"
        },
        {
         "name": "Supermarché et distribution",
         "orientation": "h",
         "type": "bar",
         "x": [
          0.040034747733333334,
          0.03618059280555555,
          0.09736378671428571,
          0.09968684971428572,
          0.03799301874468085,
          0.043236771036363635,
          0.03209650804347826,
          0.039200827333333334,
          0.02443381552,
          0.040732413801470586,
          0.05276872905714286,
          0.037714532761904764
         ],
         "xaxis": "x5",
         "y": [
          "autres produits à base de viande",
          "charcuteries",
          "mollusques et crustacés crus",
          "mollusques et crustacés cuits",
          "poissons crus",
          "poissons cuits",
          "produits à base de poissons et produits de la mer",
          "substituts de charcuterie",
          "substituts de viande",
          "viandes crues",
          "viandes cuites",
          "œufs"
         ],
         "yaxis": "y5"
        },
        {
         "name": "Consommation",
         "orientation": "h",
         "type": "bar",
         "x": [
          0.08120731190666668,
          0.04811895763472222,
          0.5162381961428572,
          0.8471101521428572,
          0.008213067382978724,
          0.07990288204000001,
          0.045616145556521735,
          0.05907438266666667,
          0.05254391039999999,
          0.039899668987500005,
          0.14674574957142858,
          0.12564082847619049
         ],
         "xaxis": "x6",
         "y": [
          "autres produits à base de viande",
          "charcuteries",
          "mollusques et crustacés crus",
          "mollusques et crustacés cuits",
          "poissons crus",
          "poissons cuits",
          "produits à base de poissons et produits de la mer",
          "substituts de charcuterie",
          "substituts de viande",
          "viandes crues",
          "viandes cuites",
          "œufs"
         ],
         "yaxis": "y6"
        }
       ],
       "layout": {
        "annotations": [
         {
          "font": {
           "size": 16
          },
          "showarrow": false,
          "text": "Agriculture",
          "x": 0.14444444444444446,
          "xanchor": "center",
          "xref": "paper",
          "y": 1,
          "yanchor": "bottom",
          "yref": "paper"
         },
         {
          "font": {
           "size": 16
          },
          "showarrow": false,
          "text": "Transformation",
          "x": 0.5,
          "xanchor": "center",
          "xref": "paper",
          "y": 1,
          "yanchor": "bottom",
          "yref": "paper"
         },
         {
          "font": {
           "size": 16
          },
          "showarrow": false,
          "text": "Emballage",
          "x": 0.8555555555555556,
          "xanchor": "center",
          "xref": "paper",
          "y": 1,
          "yanchor": "bottom",
          "yref": "paper"
         },
         {
          "font": {
           "size": 16
          },
          "showarrow": false,
          "text": "Transport",
          "x": 0.14444444444444446,
          "xanchor": "center",
          "xref": "paper",
          "y": 0.375,
          "yanchor": "bottom",
          "yref": "paper"
         },
         {
          "font": {
           "size": 16
          },
          "showarrow": false,
          "text": "Supermarché et distribution",
          "x": 0.5,
          "xanchor": "center",
          "xref": "paper",
          "y": 0.375,
          "yanchor": "bottom",
          "yref": "paper"
         },
         {
          "font": {
           "size": 16
          },
          "showarrow": false,
          "text": "Consommation",
          "x": 0.8555555555555556,
          "xanchor": "center",
          "xref": "paper",
          "y": 0.375,
          "yanchor": "bottom",
          "yref": "paper"
         }
        ],
        "font": {
         "size": 9
        },
        "height": 550,
        "showlegend": false,
        "template": {
         "data": {
          "bar": [
           {
            "error_x": {
             "color": "#2a3f5f"
            },
            "error_y": {
             "color": "#2a3f5f"
            },
            "marker": {
             "line": {
              "color": "#E5ECF6",
              "width": 0.5
             },
             "pattern": {
              "fillmode": "overlay",
              "size": 10,
              "solidity": 0.2
             }
            },
            "type": "bar"
           }
          ],
          "barpolar": [
           {
            "marker": {
             "line": {
              "color": "#E5ECF6",
              "width": 0.5
             },
             "pattern": {
              "fillmode": "overlay",
              "size": 10,
              "solidity": 0.2
             }
            },
            "type": "barpolar"
           }
          ],
          "carpet": [
           {
            "aaxis": {
             "endlinecolor": "#2a3f5f",
             "gridcolor": "white",
             "linecolor": "white",
             "minorgridcolor": "white",
             "startlinecolor": "#2a3f5f"
            },
            "baxis": {
             "endlinecolor": "#2a3f5f",
             "gridcolor": "white",
             "linecolor": "white",
             "minorgridcolor": "white",
             "startlinecolor": "#2a3f5f"
            },
            "type": "carpet"
           }
          ],
          "choropleth": [
           {
            "colorbar": {
             "outlinewidth": 0,
             "ticks": ""
            },
            "type": "choropleth"
           }
          ],
          "contour": [
           {
            "colorbar": {
             "outlinewidth": 0,
             "ticks": ""
            },
            "colorscale": [
             [
              0,
              "#0d0887"
             ],
             [
              0.1111111111111111,
              "#46039f"
             ],
             [
              0.2222222222222222,
              "#7201a8"
             ],
             [
              0.3333333333333333,
              "#9c179e"
             ],
             [
              0.4444444444444444,
              "#bd3786"
             ],
             [
              0.5555555555555556,
              "#d8576b"
             ],
             [
              0.6666666666666666,
              "#ed7953"
             ],
             [
              0.7777777777777778,
              "#fb9f3a"
             ],
             [
              0.8888888888888888,
              "#fdca26"
             ],
             [
              1,
              "#f0f921"
             ]
            ],
            "type": "contour"
           }
          ],
          "contourcarpet": [
           {
            "colorbar": {
             "outlinewidth": 0,
             "ticks": ""
            },
            "type": "contourcarpet"
           }
          ],
          "heatmap": [
           {
            "colorbar": {
             "outlinewidth": 0,
             "ticks": ""
            },
            "colorscale": [
             [
              0,
              "#0d0887"
             ],
             [
              0.1111111111111111,
              "#46039f"
             ],
             [
              0.2222222222222222,
              "#7201a8"
             ],
             [
              0.3333333333333333,
              "#9c179e"
             ],
             [
              0.4444444444444444,
              "#bd3786"
             ],
             [
              0.5555555555555556,
              "#d8576b"
             ],
             [
              0.6666666666666666,
              "#ed7953"
             ],
             [
              0.7777777777777778,
              "#fb9f3a"
             ],
             [
              0.8888888888888888,
              "#fdca26"
             ],
             [
              1,
              "#f0f921"
             ]
            ],
            "type": "heatmap"
           }
          ],
          "heatmapgl": [
           {
            "colorbar": {
             "outlinewidth": 0,
             "ticks": ""
            },
            "colorscale": [
             [
              0,
              "#0d0887"
             ],
             [
              0.1111111111111111,
              "#46039f"
             ],
             [
              0.2222222222222222,
              "#7201a8"
             ],
             [
              0.3333333333333333,
              "#9c179e"
             ],
             [
              0.4444444444444444,
              "#bd3786"
             ],
             [
              0.5555555555555556,
              "#d8576b"
             ],
             [
              0.6666666666666666,
              "#ed7953"
             ],
             [
              0.7777777777777778,
              "#fb9f3a"
             ],
             [
              0.8888888888888888,
              "#fdca26"
             ],
             [
              1,
              "#f0f921"
             ]
            ],
            "type": "heatmapgl"
           }
          ],
          "histogram": [
           {
            "marker": {
             "pattern": {
              "fillmode": "overlay",
              "size": 10,
              "solidity": 0.2
             }
            },
            "type": "histogram"
           }
          ],
          "histogram2d": [
           {
            "colorbar": {
             "outlinewidth": 0,
             "ticks": ""
            },
            "colorscale": [
             [
              0,
              "#0d0887"
             ],
             [
              0.1111111111111111,
              "#46039f"
             ],
             [
              0.2222222222222222,
              "#7201a8"
             ],
             [
              0.3333333333333333,
              "#9c179e"
             ],
             [
              0.4444444444444444,
              "#bd3786"
             ],
             [
              0.5555555555555556,
              "#d8576b"
             ],
             [
              0.6666666666666666,
              "#ed7953"
             ],
             [
              0.7777777777777778,
              "#fb9f3a"
             ],
             [
              0.8888888888888888,
              "#fdca26"
             ],
             [
              1,
              "#f0f921"
             ]
            ],
            "type": "histogram2d"
           }
          ],
          "histogram2dcontour": [
           {
            "colorbar": {
             "outlinewidth": 0,
             "ticks": ""
            },
            "colorscale": [
             [
              0,
              "#0d0887"
             ],
             [
              0.1111111111111111,
              "#46039f"
             ],
             [
              0.2222222222222222,
              "#7201a8"
             ],
             [
              0.3333333333333333,
              "#9c179e"
             ],
             [
              0.4444444444444444,
              "#bd3786"
             ],
             [
              0.5555555555555556,
              "#d8576b"
             ],
             [
              0.6666666666666666,
              "#ed7953"
             ],
             [
              0.7777777777777778,
              "#fb9f3a"
             ],
             [
              0.8888888888888888,
              "#fdca26"
             ],
             [
              1,
              "#f0f921"
             ]
            ],
            "type": "histogram2dcontour"
           }
          ],
          "mesh3d": [
           {
            "colorbar": {
             "outlinewidth": 0,
             "ticks": ""
            },
            "type": "mesh3d"
           }
          ],
          "parcoords": [
           {
            "line": {
             "colorbar": {
              "outlinewidth": 0,
              "ticks": ""
             }
            },
            "type": "parcoords"
           }
          ],
          "pie": [
           {
            "automargin": true,
            "type": "pie"
           }
          ],
          "scatter": [
           {
            "fillpattern": {
             "fillmode": "overlay",
             "size": 10,
             "solidity": 0.2
            },
            "type": "scatter"
           }
          ],
          "scatter3d": [
           {
            "line": {
             "colorbar": {
              "outlinewidth": 0,
              "ticks": ""
             }
            },
            "marker": {
             "colorbar": {
              "outlinewidth": 0,
              "ticks": ""
             }
            },
            "type": "scatter3d"
           }
          ],
          "scattercarpet": [
           {
            "marker": {
             "colorbar": {
              "outlinewidth": 0,
              "ticks": ""
             }
            },
            "type": "scattercarpet"
           }
          ],
          "scattergeo": [
           {
            "marker": {
             "colorbar": {
              "outlinewidth": 0,
              "ticks": ""
             }
            },
            "type": "scattergeo"
           }
          ],
          "scattergl": [
           {
            "marker": {
             "colorbar": {
              "outlinewidth": 0,
              "ticks": ""
             }
            },
            "type": "scattergl"
           }
          ],
          "scattermapbox": [
           {
            "marker": {
             "colorbar": {
              "outlinewidth": 0,
              "ticks": ""
             }
            },
            "type": "scattermapbox"
           }
          ],
          "scatterpolar": [
           {
            "marker": {
             "colorbar": {
              "outlinewidth": 0,
              "ticks": ""
             }
            },
            "type": "scatterpolar"
           }
          ],
          "scatterpolargl": [
           {
            "marker": {
             "colorbar": {
              "outlinewidth": 0,
              "ticks": ""
             }
            },
            "type": "scatterpolargl"
           }
          ],
          "scatterternary": [
           {
            "marker": {
             "colorbar": {
              "outlinewidth": 0,
              "ticks": ""
             }
            },
            "type": "scatterternary"
           }
          ],
          "surface": [
           {
            "colorbar": {
             "outlinewidth": 0,
             "ticks": ""
            },
            "colorscale": [
             [
              0,
              "#0d0887"
             ],
             [
              0.1111111111111111,
              "#46039f"
             ],
             [
              0.2222222222222222,
              "#7201a8"
             ],
             [
              0.3333333333333333,
              "#9c179e"
             ],
             [
              0.4444444444444444,
              "#bd3786"
             ],
             [
              0.5555555555555556,
              "#d8576b"
             ],
             [
              0.6666666666666666,
              "#ed7953"
             ],
             [
              0.7777777777777778,
              "#fb9f3a"
             ],
             [
              0.8888888888888888,
              "#fdca26"
             ],
             [
              1,
              "#f0f921"
             ]
            ],
            "type": "surface"
           }
          ],
          "table": [
           {
            "cells": {
             "fill": {
              "color": "#EBF0F8"
             },
             "line": {
              "color": "white"
             }
            },
            "header": {
             "fill": {
              "color": "#C8D4E3"
             },
             "line": {
              "color": "white"
             }
            },
            "type": "table"
           }
          ]
         },
         "layout": {
          "annotationdefaults": {
           "arrowcolor": "#2a3f5f",
           "arrowhead": 0,
           "arrowwidth": 1
          },
          "autotypenumbers": "strict",
          "coloraxis": {
           "colorbar": {
            "outlinewidth": 0,
            "ticks": ""
           }
          },
          "colorscale": {
           "diverging": [
            [
             0,
             "#8e0152"
            ],
            [
             0.1,
             "#c51b7d"
            ],
            [
             0.2,
             "#de77ae"
            ],
            [
             0.3,
             "#f1b6da"
            ],
            [
             0.4,
             "#fde0ef"
            ],
            [
             0.5,
             "#f7f7f7"
            ],
            [
             0.6,
             "#e6f5d0"
            ],
            [
             0.7,
             "#b8e186"
            ],
            [
             0.8,
             "#7fbc41"
            ],
            [
             0.9,
             "#4d9221"
            ],
            [
             1,
             "#276419"
            ]
           ],
           "sequential": [
            [
             0,
             "#0d0887"
            ],
            [
             0.1111111111111111,
             "#46039f"
            ],
            [
             0.2222222222222222,
             "#7201a8"
            ],
            [
             0.3333333333333333,
             "#9c179e"
            ],
            [
             0.4444444444444444,
             "#bd3786"
            ],
            [
             0.5555555555555556,
             "#d8576b"
            ],
            [
             0.6666666666666666,
             "#ed7953"
            ],
            [
             0.7777777777777778,
             "#fb9f3a"
            ],
            [
             0.8888888888888888,
             "#fdca26"
            ],
            [
             1,
             "#f0f921"
            ]
           ],
           "sequentialminus": [
            [
             0,
             "#0d0887"
            ],
            [
             0.1111111111111111,
             "#46039f"
            ],
            [
             0.2222222222222222,
             "#7201a8"
            ],
            [
             0.3333333333333333,
             "#9c179e"
            ],
            [
             0.4444444444444444,
             "#bd3786"
            ],
            [
             0.5555555555555556,
             "#d8576b"
            ],
            [
             0.6666666666666666,
             "#ed7953"
            ],
            [
             0.7777777777777778,
             "#fb9f3a"
            ],
            [
             0.8888888888888888,
             "#fdca26"
            ],
            [
             1,
             "#f0f921"
            ]
           ]
          },
          "colorway": [
           "#636efa",
           "#EF553B",
           "#00cc96",
           "#ab63fa",
           "#FFA15A",
           "#19d3f3",
           "#FF6692",
           "#B6E880",
           "#FF97FF",
           "#FECB52"
          ],
          "font": {
           "color": "#2a3f5f"
          },
          "geo": {
           "bgcolor": "white",
           "lakecolor": "white",
           "landcolor": "#E5ECF6",
           "showlakes": true,
           "showland": true,
           "subunitcolor": "white"
          },
          "hoverlabel": {
           "align": "left"
          },
          "hovermode": "closest",
          "mapbox": {
           "style": "light"
          },
          "paper_bgcolor": "white",
          "plot_bgcolor": "#E5ECF6",
          "polar": {
           "angularaxis": {
            "gridcolor": "white",
            "linecolor": "white",
            "ticks": ""
           },
           "bgcolor": "#E5ECF6",
           "radialaxis": {
            "gridcolor": "white",
            "linecolor": "white",
            "ticks": ""
           }
          },
          "scene": {
           "xaxis": {
            "backgroundcolor": "#E5ECF6",
            "gridcolor": "white",
            "gridwidth": 2,
            "linecolor": "white",
            "showbackground": true,
            "ticks": "",
            "zerolinecolor": "white"
           },
           "yaxis": {
            "backgroundcolor": "#E5ECF6",
            "gridcolor": "white",
            "gridwidth": 2,
            "linecolor": "white",
            "showbackground": true,
            "ticks": "",
            "zerolinecolor": "white"
           },
           "zaxis": {
            "backgroundcolor": "#E5ECF6",
            "gridcolor": "white",
            "gridwidth": 2,
            "linecolor": "white",
            "showbackground": true,
            "ticks": "",
            "zerolinecolor": "white"
           }
          },
          "shapedefaults": {
           "line": {
            "color": "#2a3f5f"
           }
          },
          "ternary": {
           "aaxis": {
            "gridcolor": "white",
            "linecolor": "white",
            "ticks": ""
           },
           "baxis": {
            "gridcolor": "white",
            "linecolor": "white",
            "ticks": ""
           },
           "bgcolor": "#E5ECF6",
           "caxis": {
            "gridcolor": "white",
            "linecolor": "white",
            "ticks": ""
           }
          },
          "title": {
           "x": 0.05
          },
          "xaxis": {
           "automargin": true,
           "gridcolor": "white",
           "linecolor": "white",
           "ticks": "",
           "title": {
            "standoff": 15
           },
           "zerolinecolor": "white",
           "zerolinewidth": 2
          },
          "yaxis": {
           "automargin": true,
           "gridcolor": "white",
           "linecolor": "white",
           "ticks": "",
           "title": {
            "standoff": 15
           },
           "zerolinecolor": "white",
           "zerolinewidth": 2
          }
         }
        },
        "title": {
         "text": "Impact sur le changement climatique des aliments viandes, oeufs et poisson selon le sous groupe d'aliment et l'étape de production"
        },
        "width": 1200,
        "xaxis": {
         "anchor": "y",
         "domain": [
          0,
          0.2
         ]
        },
        "xaxis2": {
         "anchor": "y2",
         "domain": [
          0.4,
          0.6
         ]
        },
        "xaxis3": {
         "anchor": "y3",
         "domain": [
          0.8,
          1
         ]
        },
        "xaxis4": {
         "anchor": "y4",
         "domain": [
          0,
          0.2
         ]
        },
        "xaxis5": {
         "anchor": "y5",
         "domain": [
          0.4,
          0.6
         ]
        },
        "xaxis6": {
         "anchor": "y6",
         "domain": [
          0.8,
          1
         ]
        },
        "yaxis": {
         "anchor": "x",
         "domain": [
          0.625,
          1
         ]
        },
        "yaxis2": {
         "anchor": "x2",
         "domain": [
          0.625,
          1
         ]
        },
        "yaxis3": {
         "anchor": "x3",
         "domain": [
          0.625,
          1
         ]
        },
        "yaxis4": {
         "anchor": "x4",
         "domain": [
          0,
          0.375
         ]
        },
        "yaxis5": {
         "anchor": "x5",
         "domain": [
          0,
          0.375
         ]
        },
        "yaxis6": {
         "anchor": "x6",
         "domain": [
          0,
          0.375
         ]
        }
       }
      }
     },
     "metadata": {},
     "output_type": "display_data"
    }
   ],
   "source": [
    "indicateurs = sous_groupe.columns[0:6]\n",
    "\n",
    "separation_graphique = subplots.make_subplots(rows=2, cols=3, subplot_titles=indicateurs)\n",
    "\n",
    "plot = 0\n",
    "\n",
    "for indi in indicateurs:\n",
    "    ligne = np.unravel_index(plot, (2, 3))[0] + 1\n",
    "    colonne = np.unravel_index(plot, (2, 3))[1] + 1\n",
    "    indi = go.Bar(y=sous_groupe.index, x=sous_groupe[indi], name=indi, orientation=\"h\")\n",
    "    separation_graphique.append_trace(indi, ligne, colonne)\n",
    "    plot += 1\n",
    "\n",
    "separation_graphique.update_layout(\n",
    "    height=550, width=1200,\n",
    "    title_text=\"Impact sur le changement climatique des aliments viandes, oeufs et poisson selon le sous groupe d'aliment et l'étape de production\",\n",
    "    showlegend=False,\n",
    "    font=dict(size=9)\n",
    ")\n",
    "\n",
    "# Ajuster la position horizontale des sous-graphiques\n",
    "separation_graphique.update_xaxes(domain=[0, 0.20], row=1, col=1)\n",
    "separation_graphique.update_xaxes(domain=[0.40, 0.60], row=1, col=2)\n",
    "separation_graphique.update_xaxes(domain=[0.80, 1], row=1, col=3)\n",
    "separation_graphique.update_xaxes(domain=[0, 0.20], row=2, col=1)\n",
    "separation_graphique.update_xaxes(domain=[0.40, 0.60], row=2, col=2)\n",
    "separation_graphique.update_xaxes(domain=[0.80, 1], row=2, col=3)\n",
    "\n",
    "iplot(separation_graphique)\n"
   ]
  },
  {
   "attachments": {},
   "cell_type": "markdown",
   "metadata": {},
   "source": [
    " ### Zoom sur la viande crue"
   ]
  },
  {
   "cell_type": "code",
   "execution_count": 151,
   "metadata": {},
   "outputs": [],
   "source": [
    "dfsous_categorie = dfdetail[dfdetail[\"Sous-groupe d\\'aliment\"]==\"viandes crues\"]"
   ]
  },
  {
   "cell_type": "code",
   "execution_count": 152,
   "metadata": {},
   "outputs": [
    {
     "data": {
      "text/html": [
       "<div>\n",
       "<style scoped>\n",
       "    .dataframe tbody tr th:only-of-type {\n",
       "        vertical-align: middle;\n",
       "    }\n",
       "\n",
       "    .dataframe tbody tr th {\n",
       "        vertical-align: top;\n",
       "    }\n",
       "\n",
       "    .dataframe thead th {\n",
       "        text-align: right;\n",
       "    }\n",
       "</style>\n",
       "<table border=\"1\" class=\"dataframe\">\n",
       "  <thead>\n",
       "    <tr style=\"text-align: right;\">\n",
       "      <th></th>\n",
       "      <th>Agriculture</th>\n",
       "      <th>Transformation</th>\n",
       "      <th>Emballage</th>\n",
       "      <th>Transport</th>\n",
       "      <th>Supermarché et distribution</th>\n",
       "      <th>Consommation</th>\n",
       "      <th>Total</th>\n",
       "    </tr>\n",
       "    <tr>\n",
       "      <th>Nom du Produit en Français</th>\n",
       "      <th></th>\n",
       "      <th></th>\n",
       "      <th></th>\n",
       "      <th></th>\n",
       "      <th></th>\n",
       "      <th></th>\n",
       "      <th></th>\n",
       "    </tr>\n",
       "  </thead>\n",
       "  <tbody>\n",
       "    <tr>\n",
       "      <th>Agneau, collier, cru</th>\n",
       "      <td>40.546904</td>\n",
       "      <td>0.066555</td>\n",
       "      <td>0.344553</td>\n",
       "      <td>0.253988</td>\n",
       "      <td>0.046218</td>\n",
       "      <td>0.088730</td>\n",
       "      <td>41.346947</td>\n",
       "    </tr>\n",
       "    <tr>\n",
       "      <th>Agneau, côte filet, crue</th>\n",
       "      <td>40.546904</td>\n",
       "      <td>0.066555</td>\n",
       "      <td>0.344553</td>\n",
       "      <td>0.253988</td>\n",
       "      <td>0.046218</td>\n",
       "      <td>0.088730</td>\n",
       "      <td>41.346947</td>\n",
       "    </tr>\n",
       "    <tr>\n",
       "      <th>Agneau, côte première, crue</th>\n",
       "      <td>40.546904</td>\n",
       "      <td>0.066555</td>\n",
       "      <td>0.344553</td>\n",
       "      <td>0.253988</td>\n",
       "      <td>0.046218</td>\n",
       "      <td>0.088730</td>\n",
       "      <td>41.346947</td>\n",
       "    </tr>\n",
       "    <tr>\n",
       "      <th>Agneau, côtelette, crue</th>\n",
       "      <td>40.546904</td>\n",
       "      <td>0.066555</td>\n",
       "      <td>0.322472</td>\n",
       "      <td>0.253951</td>\n",
       "      <td>0.046218</td>\n",
       "      <td>0.087058</td>\n",
       "      <td>41.323157</td>\n",
       "    </tr>\n",
       "    <tr>\n",
       "      <th>Agneau, gigot, cru</th>\n",
       "      <td>40.546904</td>\n",
       "      <td>0.066555</td>\n",
       "      <td>0.344553</td>\n",
       "      <td>0.253988</td>\n",
       "      <td>0.046218</td>\n",
       "      <td>0.088730</td>\n",
       "      <td>41.346947</td>\n",
       "    </tr>\n",
       "    <tr>\n",
       "      <th>...</th>\n",
       "      <td>...</td>\n",
       "      <td>...</td>\n",
       "      <td>...</td>\n",
       "      <td>...</td>\n",
       "      <td>...</td>\n",
       "      <td>...</td>\n",
       "      <td>...</td>\n",
       "    </tr>\n",
       "    <tr>\n",
       "      <th>Veau, poitrine, crue</th>\n",
       "      <td>14.139345</td>\n",
       "      <td>0.046963</td>\n",
       "      <td>0.275642</td>\n",
       "      <td>0.199570</td>\n",
       "      <td>0.036974</td>\n",
       "      <td>0.006688</td>\n",
       "      <td>14.705182</td>\n",
       "    </tr>\n",
       "    <tr>\n",
       "      <th>Veau, rôti, cru</th>\n",
       "      <td>22.092726</td>\n",
       "      <td>0.135427</td>\n",
       "      <td>0.344553</td>\n",
       "      <td>0.252702</td>\n",
       "      <td>0.046218</td>\n",
       "      <td>0.088730</td>\n",
       "      <td>22.960355</td>\n",
       "    </tr>\n",
       "    <tr>\n",
       "      <th>Veau, steak haché 15% MG, cru</th>\n",
       "      <td>21.683172</td>\n",
       "      <td>0.241985</td>\n",
       "      <td>0.275642</td>\n",
       "      <td>0.205100</td>\n",
       "      <td>0.036974</td>\n",
       "      <td>0.006688</td>\n",
       "      <td>22.449561</td>\n",
       "    </tr>\n",
       "    <tr>\n",
       "      <th>Veau, steak haché 20% MG, cru</th>\n",
       "      <td>21.683172</td>\n",
       "      <td>0.241985</td>\n",
       "      <td>0.275642</td>\n",
       "      <td>0.205100</td>\n",
       "      <td>0.036974</td>\n",
       "      <td>0.006688</td>\n",
       "      <td>22.449561</td>\n",
       "    </tr>\n",
       "    <tr>\n",
       "      <th>Veau, épaule, crue</th>\n",
       "      <td>14.139345</td>\n",
       "      <td>0.046963</td>\n",
       "      <td>0.275642</td>\n",
       "      <td>0.199570</td>\n",
       "      <td>0.036974</td>\n",
       "      <td>0.006688</td>\n",
       "      <td>14.705182</td>\n",
       "    </tr>\n",
       "  </tbody>\n",
       "</table>\n",
       "<p>136 rows × 7 columns</p>\n",
       "</div>"
      ],
      "text/plain": [
       "                               Agriculture  Transformation  Emballage  \\\n",
       "Nom du Produit en Français                                              \n",
       "Agneau, collier, cru             40.546904        0.066555   0.344553   \n",
       "Agneau, côte filet, crue         40.546904        0.066555   0.344553   \n",
       "Agneau, côte première, crue      40.546904        0.066555   0.344553   \n",
       "Agneau, côtelette, crue          40.546904        0.066555   0.322472   \n",
       "Agneau, gigot, cru               40.546904        0.066555   0.344553   \n",
       "...                                    ...             ...        ...   \n",
       "Veau, poitrine, crue             14.139345        0.046963   0.275642   \n",
       "Veau, rôti, cru                  22.092726        0.135427   0.344553   \n",
       "Veau, steak haché 15% MG, cru    21.683172        0.241985   0.275642   \n",
       "Veau, steak haché 20% MG, cru    21.683172        0.241985   0.275642   \n",
       "Veau, épaule, crue               14.139345        0.046963   0.275642   \n",
       "\n",
       "                               Transport  Supermarché et distribution  \\\n",
       "Nom du Produit en Français                                              \n",
       "Agneau, collier, cru            0.253988                     0.046218   \n",
       "Agneau, côte filet, crue        0.253988                     0.046218   \n",
       "Agneau, côte première, crue     0.253988                     0.046218   \n",
       "Agneau, côtelette, crue         0.253951                     0.046218   \n",
       "Agneau, gigot, cru              0.253988                     0.046218   \n",
       "...                                  ...                          ...   \n",
       "Veau, poitrine, crue            0.199570                     0.036974   \n",
       "Veau, rôti, cru                 0.252702                     0.046218   \n",
       "Veau, steak haché 15% MG, cru   0.205100                     0.036974   \n",
       "Veau, steak haché 20% MG, cru   0.205100                     0.036974   \n",
       "Veau, épaule, crue              0.199570                     0.036974   \n",
       "\n",
       "                               Consommation      Total  \n",
       "Nom du Produit en Français                              \n",
       "Agneau, collier, cru               0.088730  41.346947  \n",
       "Agneau, côte filet, crue           0.088730  41.346947  \n",
       "Agneau, côte première, crue        0.088730  41.346947  \n",
       "Agneau, côtelette, crue            0.087058  41.323157  \n",
       "Agneau, gigot, cru                 0.088730  41.346947  \n",
       "...                                     ...        ...  \n",
       "Veau, poitrine, crue               0.006688  14.705182  \n",
       "Veau, rôti, cru                    0.088730  22.960355  \n",
       "Veau, steak haché 15% MG, cru      0.006688  22.449561  \n",
       "Veau, steak haché 20% MG, cru      0.006688  22.449561  \n",
       "Veau, épaule, crue                 0.006688  14.705182  \n",
       "\n",
       "[136 rows x 7 columns]"
      ]
     },
     "execution_count": 152,
     "metadata": {},
     "output_type": "execute_result"
    }
   ],
   "source": [
    "dfsous_categorie.groupby(\"Nom du Produit en Français\")[[\"Agriculture\", \"Transformation\", \"Emballage\", \"Transport\", \"Supermarché et distribution\", \"Consommation\", \"Total\"]].mean()"
   ]
  },
  {
   "attachments": {},
   "cell_type": "markdown",
   "metadata": {},
   "source": [
    "### Regrouper par espèce animale"
   ]
  },
  {
   "attachments": {},
   "cell_type": "markdown",
   "metadata": {},
   "source": [
    "#### Création d'une colonne espèce animale"
   ]
  },
  {
   "cell_type": "code",
   "execution_count": 153,
   "metadata": {},
   "outputs": [],
   "source": [
    "liste_espece = [\"veau\", \"agneau\", \"Bœuf\", \"canard\", \"porc\", \"chevreau\", \"chapon\", \"dinde\", \"poulet\", \"oie\", \"mouton\", \"lapin\", \"dinde\", \"génisse\"]"
   ]
  },
  {
   "cell_type": "code",
   "execution_count": 154,
   "metadata": {},
   "outputs": [
    {
     "name": "stderr",
     "output_type": "stream",
     "text": [
      "C:\\Users\\cefim\\AppData\\Local\\Temp\\ipykernel_31776\\3791976665.py:3: SettingWithCopyWarning:\n",
      "\n",
      "\n",
      "A value is trying to be set on a copy of a slice from a DataFrame.\n",
      "Try using .loc[row_indexer,col_indexer] = value instead\n",
      "\n",
      "See the caveats in the documentation: https://pandas.pydata.org/pandas-docs/stable/user_guide/indexing.html#returning-a-view-versus-a-copy\n",
      "\n",
      "C:\\Users\\cefim\\AppData\\Local\\Temp\\ipykernel_31776\\3791976665.py:4: SettingWithCopyWarning:\n",
      "\n",
      "\n",
      "A value is trying to be set on a copy of a slice from a DataFrame.\n",
      "Try using .loc[row_indexer,col_indexer] = value instead\n",
      "\n",
      "See the caveats in the documentation: https://pandas.pydata.org/pandas-docs/stable/user_guide/indexing.html#returning-a-view-versus-a-copy\n",
      "\n"
     ]
    },
    {
     "data": {
      "text/html": [
       "<div>\n",
       "<style scoped>\n",
       "    .dataframe tbody tr th:only-of-type {\n",
       "        vertical-align: middle;\n",
       "    }\n",
       "\n",
       "    .dataframe tbody tr th {\n",
       "        vertical-align: top;\n",
       "    }\n",
       "\n",
       "    .dataframe thead th {\n",
       "        text-align: right;\n",
       "    }\n",
       "</style>\n",
       "<table border=\"1\" class=\"dataframe\">\n",
       "  <thead>\n",
       "    <tr style=\"text-align: right;\">\n",
       "      <th></th>\n",
       "      <th>Code AGB</th>\n",
       "      <th>Code CIQUAL</th>\n",
       "      <th>Groupe d'aliment</th>\n",
       "      <th>Sous-groupe d'aliment</th>\n",
       "      <th>Nom du Produit en Français</th>\n",
       "      <th>LCI Name</th>\n",
       "      <th>Agriculture</th>\n",
       "      <th>Transformation</th>\n",
       "      <th>Emballage</th>\n",
       "      <th>Transport</th>\n",
       "      <th>Supermarché et distribution</th>\n",
       "      <th>Consommation</th>\n",
       "      <th>Total</th>\n",
       "      <th>Espece</th>\n",
       "    </tr>\n",
       "  </thead>\n",
       "  <tbody>\n",
       "    <tr>\n",
       "      <th>1874</th>\n",
       "      <td>21514</td>\n",
       "      <td>21514</td>\n",
       "      <td>viandes, œufs, poissons</td>\n",
       "      <td>viandes crues</td>\n",
       "      <td>Agneau, collier, cru</td>\n",
       "      <td>Lamb, neck, raw</td>\n",
       "      <td>40.546904</td>\n",
       "      <td>0.066555</td>\n",
       "      <td>0.344553</td>\n",
       "      <td>0.253988</td>\n",
       "      <td>0.046218</td>\n",
       "      <td>0.088730</td>\n",
       "      <td>41.346947</td>\n",
       "      <td>agneau</td>\n",
       "    </tr>\n",
       "    <tr>\n",
       "      <th>1875</th>\n",
       "      <td>21516</td>\n",
       "      <td>21516</td>\n",
       "      <td>viandes, œufs, poissons</td>\n",
       "      <td>viandes crues</td>\n",
       "      <td>Agneau, côte filet, crue</td>\n",
       "      <td>Lamb, chop fillet, raw</td>\n",
       "      <td>40.546904</td>\n",
       "      <td>0.066555</td>\n",
       "      <td>0.344553</td>\n",
       "      <td>0.253988</td>\n",
       "      <td>0.046218</td>\n",
       "      <td>0.088730</td>\n",
       "      <td>41.346947</td>\n",
       "      <td>agneau</td>\n",
       "    </tr>\n",
       "    <tr>\n",
       "      <th>1877</th>\n",
       "      <td>21517</td>\n",
       "      <td>21517</td>\n",
       "      <td>viandes, œufs, poissons</td>\n",
       "      <td>viandes crues</td>\n",
       "      <td>Agneau, côte première, crue</td>\n",
       "      <td>Lamb, rib chop, raw</td>\n",
       "      <td>40.546904</td>\n",
       "      <td>0.066555</td>\n",
       "      <td>0.344553</td>\n",
       "      <td>0.253988</td>\n",
       "      <td>0.046218</td>\n",
       "      <td>0.088730</td>\n",
       "      <td>41.346947</td>\n",
       "      <td>agneau</td>\n",
       "    </tr>\n",
       "    <tr>\n",
       "      <th>1879</th>\n",
       "      <td>21500</td>\n",
       "      <td>21500</td>\n",
       "      <td>viandes, œufs, poissons</td>\n",
       "      <td>viandes crues</td>\n",
       "      <td>Agneau, côtelette, crue</td>\n",
       "      <td>Lamb, cutlet, raw</td>\n",
       "      <td>40.546904</td>\n",
       "      <td>0.066555</td>\n",
       "      <td>0.322472</td>\n",
       "      <td>0.253951</td>\n",
       "      <td>0.046218</td>\n",
       "      <td>0.087058</td>\n",
       "      <td>41.323157</td>\n",
       "      <td>agneau</td>\n",
       "    </tr>\n",
       "    <tr>\n",
       "      <th>1881</th>\n",
       "      <td>21504</td>\n",
       "      <td>21504</td>\n",
       "      <td>viandes, œufs, poissons</td>\n",
       "      <td>viandes crues</td>\n",
       "      <td>Agneau, épaule, crue</td>\n",
       "      <td>Lamb, shoulder, raw</td>\n",
       "      <td>32.437523</td>\n",
       "      <td>0.053244</td>\n",
       "      <td>0.275642</td>\n",
       "      <td>0.203190</td>\n",
       "      <td>0.036974</td>\n",
       "      <td>0.006688</td>\n",
       "      <td>33.013261</td>\n",
       "      <td>agneau</td>\n",
       "    </tr>\n",
       "    <tr>\n",
       "      <th>...</th>\n",
       "      <td>...</td>\n",
       "      <td>...</td>\n",
       "      <td>...</td>\n",
       "      <td>...</td>\n",
       "      <td>...</td>\n",
       "      <td>...</td>\n",
       "      <td>...</td>\n",
       "      <td>...</td>\n",
       "      <td>...</td>\n",
       "      <td>...</td>\n",
       "      <td>...</td>\n",
       "      <td>...</td>\n",
       "      <td>...</td>\n",
       "      <td>...</td>\n",
       "    </tr>\n",
       "    <tr>\n",
       "      <th>2507</th>\n",
       "      <td>6580</td>\n",
       "      <td>6580</td>\n",
       "      <td>viandes, œufs, poissons</td>\n",
       "      <td>viandes crues</td>\n",
       "      <td>Veau, pied, cru</td>\n",
       "      <td>Calf, foot, raw</td>\n",
       "      <td>17.674181</td>\n",
       "      <td>0.058703</td>\n",
       "      <td>0.344553</td>\n",
       "      <td>0.249463</td>\n",
       "      <td>0.046218</td>\n",
       "      <td>0.088730</td>\n",
       "      <td>18.461848</td>\n",
       "      <td>veau</td>\n",
       "    </tr>\n",
       "    <tr>\n",
       "      <th>2508</th>\n",
       "      <td>6540</td>\n",
       "      <td>6540</td>\n",
       "      <td>viandes, œufs, poissons</td>\n",
       "      <td>viandes crues</td>\n",
       "      <td>Veau, poitrine, crue</td>\n",
       "      <td>Veal, breast, raw</td>\n",
       "      <td>14.139345</td>\n",
       "      <td>0.046963</td>\n",
       "      <td>0.275642</td>\n",
       "      <td>0.199570</td>\n",
       "      <td>0.036974</td>\n",
       "      <td>0.006688</td>\n",
       "      <td>14.705182</td>\n",
       "      <td>veau</td>\n",
       "    </tr>\n",
       "    <tr>\n",
       "      <th>2509</th>\n",
       "      <td>6550</td>\n",
       "      <td>6550</td>\n",
       "      <td>viandes, œufs, poissons</td>\n",
       "      <td>viandes crues</td>\n",
       "      <td>Veau, rôti, cru</td>\n",
       "      <td>Veal, roast, raw</td>\n",
       "      <td>22.092726</td>\n",
       "      <td>0.135427</td>\n",
       "      <td>0.344553</td>\n",
       "      <td>0.252702</td>\n",
       "      <td>0.046218</td>\n",
       "      <td>0.088730</td>\n",
       "      <td>22.960355</td>\n",
       "      <td>veau</td>\n",
       "    </tr>\n",
       "    <tr>\n",
       "      <th>2511</th>\n",
       "      <td>6536</td>\n",
       "      <td>6536</td>\n",
       "      <td>viandes, œufs, poissons</td>\n",
       "      <td>viandes crues</td>\n",
       "      <td>Veau, steak haché 15% MG, cru</td>\n",
       "      <td>Veal, minced steak, 15% fat, raw</td>\n",
       "      <td>21.683172</td>\n",
       "      <td>0.241985</td>\n",
       "      <td>0.275642</td>\n",
       "      <td>0.205100</td>\n",
       "      <td>0.036974</td>\n",
       "      <td>0.006688</td>\n",
       "      <td>22.449561</td>\n",
       "      <td>veau</td>\n",
       "    </tr>\n",
       "    <tr>\n",
       "      <th>2512</th>\n",
       "      <td>6535</td>\n",
       "      <td>6535</td>\n",
       "      <td>viandes, œufs, poissons</td>\n",
       "      <td>viandes crues</td>\n",
       "      <td>Veau, steak haché 20% MG, cru</td>\n",
       "      <td>Veal, minced steak, 20% fat, raw</td>\n",
       "      <td>21.683172</td>\n",
       "      <td>0.241985</td>\n",
       "      <td>0.275642</td>\n",
       "      <td>0.205100</td>\n",
       "      <td>0.036974</td>\n",
       "      <td>0.006688</td>\n",
       "      <td>22.449561</td>\n",
       "      <td>veau</td>\n",
       "    </tr>\n",
       "  </tbody>\n",
       "</table>\n",
       "<p>136 rows × 14 columns</p>\n",
       "</div>"
      ],
      "text/plain": [
       "     Code AGB  Code CIQUAL         Groupe d'aliment Sous-groupe d'aliment  \\\n",
       "1874    21514        21514  viandes, œufs, poissons         viandes crues   \n",
       "1875    21516        21516  viandes, œufs, poissons         viandes crues   \n",
       "1877    21517        21517  viandes, œufs, poissons         viandes crues   \n",
       "1879    21500        21500  viandes, œufs, poissons         viandes crues   \n",
       "1881    21504        21504  viandes, œufs, poissons         viandes crues   \n",
       "...       ...          ...                      ...                   ...   \n",
       "2507     6580         6580  viandes, œufs, poissons         viandes crues   \n",
       "2508     6540         6540  viandes, œufs, poissons         viandes crues   \n",
       "2509     6550         6550  viandes, œufs, poissons         viandes crues   \n",
       "2511     6536         6536  viandes, œufs, poissons         viandes crues   \n",
       "2512     6535         6535  viandes, œufs, poissons         viandes crues   \n",
       "\n",
       "         Nom du Produit en Français                          LCI Name  \\\n",
       "1874           Agneau, collier, cru                   Lamb, neck, raw   \n",
       "1875       Agneau, côte filet, crue            Lamb, chop fillet, raw   \n",
       "1877    Agneau, côte première, crue               Lamb, rib chop, raw   \n",
       "1879        Agneau, côtelette, crue                 Lamb, cutlet, raw   \n",
       "1881           Agneau, épaule, crue               Lamb, shoulder, raw   \n",
       "...                             ...                               ...   \n",
       "2507                Veau, pied, cru                   Calf, foot, raw   \n",
       "2508           Veau, poitrine, crue                 Veal, breast, raw   \n",
       "2509                Veau, rôti, cru                  Veal, roast, raw   \n",
       "2511  Veau, steak haché 15% MG, cru  Veal, minced steak, 15% fat, raw   \n",
       "2512  Veau, steak haché 20% MG, cru  Veal, minced steak, 20% fat, raw   \n",
       "\n",
       "      Agriculture  Transformation  Emballage  Transport  \\\n",
       "1874    40.546904        0.066555   0.344553   0.253988   \n",
       "1875    40.546904        0.066555   0.344553   0.253988   \n",
       "1877    40.546904        0.066555   0.344553   0.253988   \n",
       "1879    40.546904        0.066555   0.322472   0.253951   \n",
       "1881    32.437523        0.053244   0.275642   0.203190   \n",
       "...           ...             ...        ...        ...   \n",
       "2507    17.674181        0.058703   0.344553   0.249463   \n",
       "2508    14.139345        0.046963   0.275642   0.199570   \n",
       "2509    22.092726        0.135427   0.344553   0.252702   \n",
       "2511    21.683172        0.241985   0.275642   0.205100   \n",
       "2512    21.683172        0.241985   0.275642   0.205100   \n",
       "\n",
       "      Supermarché et distribution  Consommation      Total  Espece  \n",
       "1874                     0.046218      0.088730  41.346947  agneau  \n",
       "1875                     0.046218      0.088730  41.346947  agneau  \n",
       "1877                     0.046218      0.088730  41.346947  agneau  \n",
       "1879                     0.046218      0.087058  41.323157  agneau  \n",
       "1881                     0.036974      0.006688  33.013261  agneau  \n",
       "...                           ...           ...        ...     ...  \n",
       "2507                     0.046218      0.088730  18.461848    veau  \n",
       "2508                     0.036974      0.006688  14.705182    veau  \n",
       "2509                     0.046218      0.088730  22.960355    veau  \n",
       "2511                     0.036974      0.006688  22.449561    veau  \n",
       "2512                     0.036974      0.006688  22.449561    veau  \n",
       "\n",
       "[136 rows x 14 columns]"
      ]
     },
     "execution_count": 154,
     "metadata": {},
     "output_type": "execute_result"
    }
   ],
   "source": [
    "\n",
    "# Création de la colonne contenant l'espèce animale du produit\n",
    "pattern = r'\\b(' + '|'.join(liste_espece) + r')\\b'\n",
    "dfsous_categorie[\"Espece\"]= dfsous_categorie[\"Nom du Produit en Français\"].str.extract(pattern, flags=re.IGNORECASE)\n",
    "dfsous_categorie[\"Espece\"] = dfsous_categorie[\"Espece\"].str.lower()\n",
    "\n",
    "dfsous_categorie\n"
   ]
  },
  {
   "attachments": {},
   "cell_type": "markdown",
   "metadata": {},
   "source": [
    "#### Comparaison de l'impact moyen des espèce"
   ]
  },
  {
   "cell_type": "code",
   "execution_count": 155,
   "metadata": {},
   "outputs": [
    {
     "data": {
      "text/html": [
       "<div>\n",
       "<style scoped>\n",
       "    .dataframe tbody tr th:only-of-type {\n",
       "        vertical-align: middle;\n",
       "    }\n",
       "\n",
       "    .dataframe tbody tr th {\n",
       "        vertical-align: top;\n",
       "    }\n",
       "\n",
       "    .dataframe thead th {\n",
       "        text-align: right;\n",
       "    }\n",
       "</style>\n",
       "<table border=\"1\" class=\"dataframe\">\n",
       "  <thead>\n",
       "    <tr style=\"text-align: right;\">\n",
       "      <th></th>\n",
       "      <th>Agriculture</th>\n",
       "      <th>Transformation</th>\n",
       "      <th>Emballage</th>\n",
       "      <th>Transport</th>\n",
       "      <th>Supermarché et distribution</th>\n",
       "      <th>Consommation</th>\n",
       "      <th>Total</th>\n",
       "    </tr>\n",
       "    <tr>\n",
       "      <th>Espece</th>\n",
       "      <th></th>\n",
       "      <th></th>\n",
       "      <th></th>\n",
       "      <th></th>\n",
       "      <th></th>\n",
       "      <th></th>\n",
       "      <th></th>\n",
       "    </tr>\n",
       "  </thead>\n",
       "  <tbody>\n",
       "    <tr>\n",
       "      <th>agneau</th>\n",
       "      <td>32.210616</td>\n",
       "      <td>0.052872</td>\n",
       "      <td>0.311049</td>\n",
       "      <td>0.228560</td>\n",
       "      <td>0.041951</td>\n",
       "      <td>0.050736</td>\n",
       "      <td>32.895784</td>\n",
       "    </tr>\n",
       "    <tr>\n",
       "      <th>bœuf</th>\n",
       "      <td>33.395913</td>\n",
       "      <td>0.251010</td>\n",
       "      <td>0.269183</td>\n",
       "      <td>0.206721</td>\n",
       "      <td>0.036974</td>\n",
       "      <td>0.006688</td>\n",
       "      <td>34.166489</td>\n",
       "    </tr>\n",
       "    <tr>\n",
       "      <th>canard</th>\n",
       "      <td>4.698905</td>\n",
       "      <td>0.947986</td>\n",
       "      <td>0.334843</td>\n",
       "      <td>0.279562</td>\n",
       "      <td>0.044915</td>\n",
       "      <td>0.073560</td>\n",
       "      <td>6.379770</td>\n",
       "    </tr>\n",
       "    <tr>\n",
       "      <th>chapon</th>\n",
       "      <td>5.178230</td>\n",
       "      <td>1.030204</td>\n",
       "      <td>0.336479</td>\n",
       "      <td>0.291298</td>\n",
       "      <td>0.046218</td>\n",
       "      <td>0.088730</td>\n",
       "      <td>6.971159</td>\n",
       "    </tr>\n",
       "    <tr>\n",
       "      <th>chevreau</th>\n",
       "      <td>40.546904</td>\n",
       "      <td>0.066555</td>\n",
       "      <td>0.344553</td>\n",
       "      <td>0.253988</td>\n",
       "      <td>0.046218</td>\n",
       "      <td>0.088730</td>\n",
       "      <td>41.346947</td>\n",
       "    </tr>\n",
       "    <tr>\n",
       "      <th>dinde</th>\n",
       "      <td>3.900894</td>\n",
       "      <td>0.782284</td>\n",
       "      <td>0.298724</td>\n",
       "      <td>0.248215</td>\n",
       "      <td>0.040440</td>\n",
       "      <td>0.037244</td>\n",
       "      <td>5.307801</td>\n",
       "    </tr>\n",
       "    <tr>\n",
       "      <th>génisse</th>\n",
       "      <td>21.517062</td>\n",
       "      <td>0.052216</td>\n",
       "      <td>0.275642</td>\n",
       "      <td>0.200491</td>\n",
       "      <td>0.036974</td>\n",
       "      <td>0.006688</td>\n",
       "      <td>22.089073</td>\n",
       "    </tr>\n",
       "    <tr>\n",
       "      <th>lapin</th>\n",
       "      <td>3.820330</td>\n",
       "      <td>0.760051</td>\n",
       "      <td>0.321583</td>\n",
       "      <td>0.261163</td>\n",
       "      <td>0.043136</td>\n",
       "      <td>0.061382</td>\n",
       "      <td>5.267646</td>\n",
       "    </tr>\n",
       "    <tr>\n",
       "      <th>mouton</th>\n",
       "      <td>31.615965</td>\n",
       "      <td>0.051896</td>\n",
       "      <td>0.316989</td>\n",
       "      <td>0.231217</td>\n",
       "      <td>0.042520</td>\n",
       "      <td>0.055913</td>\n",
       "      <td>32.314499</td>\n",
       "    </tr>\n",
       "    <tr>\n",
       "      <th>oie</th>\n",
       "      <td>3.820330</td>\n",
       "      <td>0.760051</td>\n",
       "      <td>0.321583</td>\n",
       "      <td>0.261163</td>\n",
       "      <td>0.043136</td>\n",
       "      <td>0.061382</td>\n",
       "      <td>5.267646</td>\n",
       "    </tr>\n",
       "    <tr>\n",
       "      <th>porc</th>\n",
       "      <td>6.978054</td>\n",
       "      <td>0.688050</td>\n",
       "      <td>0.413270</td>\n",
       "      <td>0.218673</td>\n",
       "      <td>0.038955</td>\n",
       "      <td>0.024268</td>\n",
       "      <td>8.361271</td>\n",
       "    </tr>\n",
       "    <tr>\n",
       "      <th>poulet</th>\n",
       "      <td>4.225404</td>\n",
       "      <td>0.847259</td>\n",
       "      <td>0.312395</td>\n",
       "      <td>0.259142</td>\n",
       "      <td>0.041904</td>\n",
       "      <td>0.050443</td>\n",
       "      <td>5.736547</td>\n",
       "    </tr>\n",
       "    <tr>\n",
       "      <th>veau</th>\n",
       "      <td>17.859709</td>\n",
       "      <td>0.088314</td>\n",
       "      <td>0.297403</td>\n",
       "      <td>0.217235</td>\n",
       "      <td>0.039893</td>\n",
       "      <td>0.032596</td>\n",
       "      <td>18.535150</td>\n",
       "    </tr>\n",
       "  </tbody>\n",
       "</table>\n",
       "</div>"
      ],
      "text/plain": [
       "          Agriculture  Transformation  Emballage  Transport  \\\n",
       "Espece                                                        \n",
       "agneau      32.210616        0.052872   0.311049   0.228560   \n",
       "bœuf        33.395913        0.251010   0.269183   0.206721   \n",
       "canard       4.698905        0.947986   0.334843   0.279562   \n",
       "chapon       5.178230        1.030204   0.336479   0.291298   \n",
       "chevreau    40.546904        0.066555   0.344553   0.253988   \n",
       "dinde        3.900894        0.782284   0.298724   0.248215   \n",
       "génisse     21.517062        0.052216   0.275642   0.200491   \n",
       "lapin        3.820330        0.760051   0.321583   0.261163   \n",
       "mouton      31.615965        0.051896   0.316989   0.231217   \n",
       "oie          3.820330        0.760051   0.321583   0.261163   \n",
       "porc         6.978054        0.688050   0.413270   0.218673   \n",
       "poulet       4.225404        0.847259   0.312395   0.259142   \n",
       "veau        17.859709        0.088314   0.297403   0.217235   \n",
       "\n",
       "          Supermarché et distribution  Consommation      Total  \n",
       "Espece                                                          \n",
       "agneau                       0.041951      0.050736  32.895784  \n",
       "bœuf                         0.036974      0.006688  34.166489  \n",
       "canard                       0.044915      0.073560   6.379770  \n",
       "chapon                       0.046218      0.088730   6.971159  \n",
       "chevreau                     0.046218      0.088730  41.346947  \n",
       "dinde                        0.040440      0.037244   5.307801  \n",
       "génisse                      0.036974      0.006688  22.089073  \n",
       "lapin                        0.043136      0.061382   5.267646  \n",
       "mouton                       0.042520      0.055913  32.314499  \n",
       "oie                          0.043136      0.061382   5.267646  \n",
       "porc                         0.038955      0.024268   8.361271  \n",
       "poulet                       0.041904      0.050443   5.736547  \n",
       "veau                         0.039893      0.032596  18.535150  "
      ]
     },
     "execution_count": 155,
     "metadata": {},
     "output_type": "execute_result"
    }
   ],
   "source": [
    "impact_espece = dfsous_categorie.groupby(\"Espece\")[[\"Agriculture\", \"Transformation\", \"Emballage\", \"Transport\", \"Supermarché et distribution\", \"Consommation\", \"Total\"]].mean()\n",
    "impact_espece"
   ]
  },
  {
   "attachments": {},
   "cell_type": "markdown",
   "metadata": {},
   "source": [
    "#### Visualisation"
   ]
  },
  {
   "cell_type": "code",
   "execution_count": 178,
   "metadata": {},
   "outputs": [
    {
     "data": {
      "application/vnd.plotly.v1+json": {
       "config": {
        "linkText": "Export to plot.ly",
        "plotlyServerURL": "https://plot.ly",
        "showLink": false
       },
       "data": [
        {
         "name": "Agriculture",
         "orientation": "h",
         "type": "bar",
         "x": [
          32.21061592307692,
          33.395913,
          4.69890458,
          5.1782299,
          40.546904,
          3.9008936,
          21.517062,
          3.8203301666666665,
          31.6159648,
          3.8203301666666665,
          6.9780543999999995,
          4.2254038666666665,
          17.85970936842105
         ],
         "xaxis": "x",
         "y": [
          "agneau",
          "bœuf",
          "canard",
          "chapon",
          "chevreau",
          "dinde",
          "génisse",
          "lapin",
          "mouton",
          "oie",
          "porc",
          "poulet",
          "veau"
         ],
         "yaxis": "y"
        },
        {
         "name": "Transformation",
         "orientation": "h",
         "type": "bar",
         "x": [
          0.052871691692307696,
          0.25100959,
          0.947985862,
          1.0302043,
          0.066555182,
          0.7822841500000001,
          0.052216317,
          0.7600513366666668,
          0.05189561,
          0.7600513366666668,
          0.68805046175,
          0.8472588473333335,
          0.08831405784210526
         ],
         "xaxis": "x2",
         "y": [
          "agneau",
          "bœuf",
          "canard",
          "chapon",
          "chevreau",
          "dinde",
          "génisse",
          "lapin",
          "mouton",
          "oie",
          "porc",
          "poulet",
          "veau"
         ],
         "yaxis": "y2"
        },
        {
         "name": "Emballage",
         "orientation": "h",
         "type": "bar",
         "x": [
          0.3110493915384615,
          0.26918334,
          0.334843028,
          0.33647917,
          0.34455281,
          0.29872357499999996,
          0.27564225,
          0.3215826233333333,
          0.316988586,
          0.3215826233333333,
          0.41327027392857146,
          0.31239454866666666,
          0.2974034794736842
         ],
         "xaxis": "x3",
         "y": [
          "agneau",
          "bœuf",
          "canard",
          "chapon",
          "chevreau",
          "dinde",
          "génisse",
          "lapin",
          "mouton",
          "oie",
          "porc",
          "poulet",
          "veau"
         ],
         "yaxis": "y3"
        },
        {
         "name": "Transport",
         "orientation": "h",
         "type": "bar",
         "x": [
          0.22855969076923077,
          0.20672094,
          0.27956164,
          0.29129833,
          0.25398787,
          0.24821479375,
          0.20049102,
          0.2611633033333333,
          0.23121706199999997,
          0.2611633033333333,
          0.21867316071428572,
          0.259142482,
          0.21723461210526318
         ],
         "xaxis": "x4",
         "y": [
          "agneau",
          "bœuf",
          "canard",
          "chapon",
          "chevreau",
          "dinde",
          "génisse",
          "lapin",
          "mouton",
          "oie",
          "porc",
          "poulet",
          "veau"
         ],
         "yaxis": "y4"
        },
        {
         "name": "Supermarché et distribution",
         "orientation": "h",
         "type": "bar",
         "x": [
          0.04195142453846153,
          0.036974137,
          0.0449152192,
          0.046217671,
          0.046217671,
          0.040440462249999996,
          0.036974137,
          0.043136493,
          0.0425202574,
          0.043136493,
          0.03895489428571429,
          0.041904021799999996,
          0.039893147736842105
         ],
         "xaxis": "x5",
         "y": [
          "agneau",
          "bœuf",
          "canard",
          "chapon",
          "chevreau",
          "dinde",
          "génisse",
          "lapin",
          "mouton",
          "oie",
          "porc",
          "poulet",
          "veau"
         ],
         "yaxis": "y5"
        },
        {
         "name": "Consommation",
         "orientation": "h",
         "type": "bar",
         "x": [
          0.05073557152307692,
          0.0066875618,
          0.07355991596,
          0.08872985,
          0.08872985,
          0.0372444335,
          0.0066875618,
          0.06138242060000001,
          0.055912934719999995,
          0.06138242060000001,
          0.024268052128571426,
          0.050443448839999995,
          0.032595652810526315
         ],
         "xaxis": "x6",
         "y": [
          "agneau",
          "bœuf",
          "canard",
          "chapon",
          "chevreau",
          "dinde",
          "génisse",
          "lapin",
          "mouton",
          "oie",
          "porc",
          "poulet",
          "veau"
         ],
         "yaxis": "y6"
        }
       ],
       "layout": {
        "annotations": [
         {
          "font": {
           "size": 16
          },
          "showarrow": false,
          "text": "Agriculture",
          "x": 0.14444444444444446,
          "xanchor": "center",
          "xref": "paper",
          "y": 1,
          "yanchor": "bottom",
          "yref": "paper"
         },
         {
          "font": {
           "size": 16
          },
          "showarrow": false,
          "text": "Transformation",
          "x": 0.5,
          "xanchor": "center",
          "xref": "paper",
          "y": 1,
          "yanchor": "bottom",
          "yref": "paper"
         },
         {
          "font": {
           "size": 16
          },
          "showarrow": false,
          "text": "Emballage",
          "x": 0.8555555555555556,
          "xanchor": "center",
          "xref": "paper",
          "y": 1,
          "yanchor": "bottom",
          "yref": "paper"
         },
         {
          "font": {
           "size": 16
          },
          "showarrow": false,
          "text": "Transport",
          "x": 0.14444444444444446,
          "xanchor": "center",
          "xref": "paper",
          "y": 0.375,
          "yanchor": "bottom",
          "yref": "paper"
         },
         {
          "font": {
           "size": 16
          },
          "showarrow": false,
          "text": "Supermarché et distribution",
          "x": 0.5,
          "xanchor": "center",
          "xref": "paper",
          "y": 0.375,
          "yanchor": "bottom",
          "yref": "paper"
         },
         {
          "font": {
           "size": 16
          },
          "showarrow": false,
          "text": "Consommation",
          "x": 0.8555555555555556,
          "xanchor": "center",
          "xref": "paper",
          "y": 0.375,
          "yanchor": "bottom",
          "yref": "paper"
         }
        ],
        "height": 800,
        "showlegend": false,
        "template": {
         "data": {
          "bar": [
           {
            "error_x": {
             "color": "#2a3f5f"
            },
            "error_y": {
             "color": "#2a3f5f"
            },
            "marker": {
             "line": {
              "color": "#E5ECF6",
              "width": 0.5
             },
             "pattern": {
              "fillmode": "overlay",
              "size": 10,
              "solidity": 0.2
             }
            },
            "type": "bar"
           }
          ],
          "barpolar": [
           {
            "marker": {
             "line": {
              "color": "#E5ECF6",
              "width": 0.5
             },
             "pattern": {
              "fillmode": "overlay",
              "size": 10,
              "solidity": 0.2
             }
            },
            "type": "barpolar"
           }
          ],
          "carpet": [
           {
            "aaxis": {
             "endlinecolor": "#2a3f5f",
             "gridcolor": "white",
             "linecolor": "white",
             "minorgridcolor": "white",
             "startlinecolor": "#2a3f5f"
            },
            "baxis": {
             "endlinecolor": "#2a3f5f",
             "gridcolor": "white",
             "linecolor": "white",
             "minorgridcolor": "white",
             "startlinecolor": "#2a3f5f"
            },
            "type": "carpet"
           }
          ],
          "choropleth": [
           {
            "colorbar": {
             "outlinewidth": 0,
             "ticks": ""
            },
            "type": "choropleth"
           }
          ],
          "contour": [
           {
            "colorbar": {
             "outlinewidth": 0,
             "ticks": ""
            },
            "colorscale": [
             [
              0,
              "#0d0887"
             ],
             [
              0.1111111111111111,
              "#46039f"
             ],
             [
              0.2222222222222222,
              "#7201a8"
             ],
             [
              0.3333333333333333,
              "#9c179e"
             ],
             [
              0.4444444444444444,
              "#bd3786"
             ],
             [
              0.5555555555555556,
              "#d8576b"
             ],
             [
              0.6666666666666666,
              "#ed7953"
             ],
             [
              0.7777777777777778,
              "#fb9f3a"
             ],
             [
              0.8888888888888888,
              "#fdca26"
             ],
             [
              1,
              "#f0f921"
             ]
            ],
            "type": "contour"
           }
          ],
          "contourcarpet": [
           {
            "colorbar": {
             "outlinewidth": 0,
             "ticks": ""
            },
            "type": "contourcarpet"
           }
          ],
          "heatmap": [
           {
            "colorbar": {
             "outlinewidth": 0,
             "ticks": ""
            },
            "colorscale": [
             [
              0,
              "#0d0887"
             ],
             [
              0.1111111111111111,
              "#46039f"
             ],
             [
              0.2222222222222222,
              "#7201a8"
             ],
             [
              0.3333333333333333,
              "#9c179e"
             ],
             [
              0.4444444444444444,
              "#bd3786"
             ],
             [
              0.5555555555555556,
              "#d8576b"
             ],
             [
              0.6666666666666666,
              "#ed7953"
             ],
             [
              0.7777777777777778,
              "#fb9f3a"
             ],
             [
              0.8888888888888888,
              "#fdca26"
             ],
             [
              1,
              "#f0f921"
             ]
            ],
            "type": "heatmap"
           }
          ],
          "heatmapgl": [
           {
            "colorbar": {
             "outlinewidth": 0,
             "ticks": ""
            },
            "colorscale": [
             [
              0,
              "#0d0887"
             ],
             [
              0.1111111111111111,
              "#46039f"
             ],
             [
              0.2222222222222222,
              "#7201a8"
             ],
             [
              0.3333333333333333,
              "#9c179e"
             ],
             [
              0.4444444444444444,
              "#bd3786"
             ],
             [
              0.5555555555555556,
              "#d8576b"
             ],
             [
              0.6666666666666666,
              "#ed7953"
             ],
             [
              0.7777777777777778,
              "#fb9f3a"
             ],
             [
              0.8888888888888888,
              "#fdca26"
             ],
             [
              1,
              "#f0f921"
             ]
            ],
            "type": "heatmapgl"
           }
          ],
          "histogram": [
           {
            "marker": {
             "pattern": {
              "fillmode": "overlay",
              "size": 10,
              "solidity": 0.2
             }
            },
            "type": "histogram"
           }
          ],
          "histogram2d": [
           {
            "colorbar": {
             "outlinewidth": 0,
             "ticks": ""
            },
            "colorscale": [
             [
              0,
              "#0d0887"
             ],
             [
              0.1111111111111111,
              "#46039f"
             ],
             [
              0.2222222222222222,
              "#7201a8"
             ],
             [
              0.3333333333333333,
              "#9c179e"
             ],
             [
              0.4444444444444444,
              "#bd3786"
             ],
             [
              0.5555555555555556,
              "#d8576b"
             ],
             [
              0.6666666666666666,
              "#ed7953"
             ],
             [
              0.7777777777777778,
              "#fb9f3a"
             ],
             [
              0.8888888888888888,
              "#fdca26"
             ],
             [
              1,
              "#f0f921"
             ]
            ],
            "type": "histogram2d"
           }
          ],
          "histogram2dcontour": [
           {
            "colorbar": {
             "outlinewidth": 0,
             "ticks": ""
            },
            "colorscale": [
             [
              0,
              "#0d0887"
             ],
             [
              0.1111111111111111,
              "#46039f"
             ],
             [
              0.2222222222222222,
              "#7201a8"
             ],
             [
              0.3333333333333333,
              "#9c179e"
             ],
             [
              0.4444444444444444,
              "#bd3786"
             ],
             [
              0.5555555555555556,
              "#d8576b"
             ],
             [
              0.6666666666666666,
              "#ed7953"
             ],
             [
              0.7777777777777778,
              "#fb9f3a"
             ],
             [
              0.8888888888888888,
              "#fdca26"
             ],
             [
              1,
              "#f0f921"
             ]
            ],
            "type": "histogram2dcontour"
           }
          ],
          "mesh3d": [
           {
            "colorbar": {
             "outlinewidth": 0,
             "ticks": ""
            },
            "type": "mesh3d"
           }
          ],
          "parcoords": [
           {
            "line": {
             "colorbar": {
              "outlinewidth": 0,
              "ticks": ""
             }
            },
            "type": "parcoords"
           }
          ],
          "pie": [
           {
            "automargin": true,
            "type": "pie"
           }
          ],
          "scatter": [
           {
            "fillpattern": {
             "fillmode": "overlay",
             "size": 10,
             "solidity": 0.2
            },
            "type": "scatter"
           }
          ],
          "scatter3d": [
           {
            "line": {
             "colorbar": {
              "outlinewidth": 0,
              "ticks": ""
             }
            },
            "marker": {
             "colorbar": {
              "outlinewidth": 0,
              "ticks": ""
             }
            },
            "type": "scatter3d"
           }
          ],
          "scattercarpet": [
           {
            "marker": {
             "colorbar": {
              "outlinewidth": 0,
              "ticks": ""
             }
            },
            "type": "scattercarpet"
           }
          ],
          "scattergeo": [
           {
            "marker": {
             "colorbar": {
              "outlinewidth": 0,
              "ticks": ""
             }
            },
            "type": "scattergeo"
           }
          ],
          "scattergl": [
           {
            "marker": {
             "colorbar": {
              "outlinewidth": 0,
              "ticks": ""
             }
            },
            "type": "scattergl"
           }
          ],
          "scattermapbox": [
           {
            "marker": {
             "colorbar": {
              "outlinewidth": 0,
              "ticks": ""
             }
            },
            "type": "scattermapbox"
           }
          ],
          "scatterpolar": [
           {
            "marker": {
             "colorbar": {
              "outlinewidth": 0,
              "ticks": ""
             }
            },
            "type": "scatterpolar"
           }
          ],
          "scatterpolargl": [
           {
            "marker": {
             "colorbar": {
              "outlinewidth": 0,
              "ticks": ""
             }
            },
            "type": "scatterpolargl"
           }
          ],
          "scatterternary": [
           {
            "marker": {
             "colorbar": {
              "outlinewidth": 0,
              "ticks": ""
             }
            },
            "type": "scatterternary"
           }
          ],
          "surface": [
           {
            "colorbar": {
             "outlinewidth": 0,
             "ticks": ""
            },
            "colorscale": [
             [
              0,
              "#0d0887"
             ],
             [
              0.1111111111111111,
              "#46039f"
             ],
             [
              0.2222222222222222,
              "#7201a8"
             ],
             [
              0.3333333333333333,
              "#9c179e"
             ],
             [
              0.4444444444444444,
              "#bd3786"
             ],
             [
              0.5555555555555556,
              "#d8576b"
             ],
             [
              0.6666666666666666,
              "#ed7953"
             ],
             [
              0.7777777777777778,
              "#fb9f3a"
             ],
             [
              0.8888888888888888,
              "#fdca26"
             ],
             [
              1,
              "#f0f921"
             ]
            ],
            "type": "surface"
           }
          ],
          "table": [
           {
            "cells": {
             "fill": {
              "color": "#EBF0F8"
             },
             "line": {
              "color": "white"
             }
            },
            "header": {
             "fill": {
              "color": "#C8D4E3"
             },
             "line": {
              "color": "white"
             }
            },
            "type": "table"
           }
          ]
         },
         "layout": {
          "annotationdefaults": {
           "arrowcolor": "#2a3f5f",
           "arrowhead": 0,
           "arrowwidth": 1
          },
          "autotypenumbers": "strict",
          "coloraxis": {
           "colorbar": {
            "outlinewidth": 0,
            "ticks": ""
           }
          },
          "colorscale": {
           "diverging": [
            [
             0,
             "#8e0152"
            ],
            [
             0.1,
             "#c51b7d"
            ],
            [
             0.2,
             "#de77ae"
            ],
            [
             0.3,
             "#f1b6da"
            ],
            [
             0.4,
             "#fde0ef"
            ],
            [
             0.5,
             "#f7f7f7"
            ],
            [
             0.6,
             "#e6f5d0"
            ],
            [
             0.7,
             "#b8e186"
            ],
            [
             0.8,
             "#7fbc41"
            ],
            [
             0.9,
             "#4d9221"
            ],
            [
             1,
             "#276419"
            ]
           ],
           "sequential": [
            [
             0,
             "#0d0887"
            ],
            [
             0.1111111111111111,
             "#46039f"
            ],
            [
             0.2222222222222222,
             "#7201a8"
            ],
            [
             0.3333333333333333,
             "#9c179e"
            ],
            [
             0.4444444444444444,
             "#bd3786"
            ],
            [
             0.5555555555555556,
             "#d8576b"
            ],
            [
             0.6666666666666666,
             "#ed7953"
            ],
            [
             0.7777777777777778,
             "#fb9f3a"
            ],
            [
             0.8888888888888888,
             "#fdca26"
            ],
            [
             1,
             "#f0f921"
            ]
           ],
           "sequentialminus": [
            [
             0,
             "#0d0887"
            ],
            [
             0.1111111111111111,
             "#46039f"
            ],
            [
             0.2222222222222222,
             "#7201a8"
            ],
            [
             0.3333333333333333,
             "#9c179e"
            ],
            [
             0.4444444444444444,
             "#bd3786"
            ],
            [
             0.5555555555555556,
             "#d8576b"
            ],
            [
             0.6666666666666666,
             "#ed7953"
            ],
            [
             0.7777777777777778,
             "#fb9f3a"
            ],
            [
             0.8888888888888888,
             "#fdca26"
            ],
            [
             1,
             "#f0f921"
            ]
           ]
          },
          "colorway": [
           "#636efa",
           "#EF553B",
           "#00cc96",
           "#ab63fa",
           "#FFA15A",
           "#19d3f3",
           "#FF6692",
           "#B6E880",
           "#FF97FF",
           "#FECB52"
          ],
          "font": {
           "color": "#2a3f5f"
          },
          "geo": {
           "bgcolor": "white",
           "lakecolor": "white",
           "landcolor": "#E5ECF6",
           "showlakes": true,
           "showland": true,
           "subunitcolor": "white"
          },
          "hoverlabel": {
           "align": "left"
          },
          "hovermode": "closest",
          "mapbox": {
           "style": "light"
          },
          "paper_bgcolor": "white",
          "plot_bgcolor": "#E5ECF6",
          "polar": {
           "angularaxis": {
            "gridcolor": "white",
            "linecolor": "white",
            "ticks": ""
           },
           "bgcolor": "#E5ECF6",
           "radialaxis": {
            "gridcolor": "white",
            "linecolor": "white",
            "ticks": ""
           }
          },
          "scene": {
           "xaxis": {
            "backgroundcolor": "#E5ECF6",
            "gridcolor": "white",
            "gridwidth": 2,
            "linecolor": "white",
            "showbackground": true,
            "ticks": "",
            "zerolinecolor": "white"
           },
           "yaxis": {
            "backgroundcolor": "#E5ECF6",
            "gridcolor": "white",
            "gridwidth": 2,
            "linecolor": "white",
            "showbackground": true,
            "ticks": "",
            "zerolinecolor": "white"
           },
           "zaxis": {
            "backgroundcolor": "#E5ECF6",
            "gridcolor": "white",
            "gridwidth": 2,
            "linecolor": "white",
            "showbackground": true,
            "ticks": "",
            "zerolinecolor": "white"
           }
          },
          "shapedefaults": {
           "line": {
            "color": "#2a3f5f"
           }
          },
          "ternary": {
           "aaxis": {
            "gridcolor": "white",
            "linecolor": "white",
            "ticks": ""
           },
           "baxis": {
            "gridcolor": "white",
            "linecolor": "white",
            "ticks": ""
           },
           "bgcolor": "#E5ECF6",
           "caxis": {
            "gridcolor": "white",
            "linecolor": "white",
            "ticks": ""
           }
          },
          "title": {
           "x": 0.05
          },
          "xaxis": {
           "automargin": true,
           "gridcolor": "white",
           "linecolor": "white",
           "ticks": "",
           "title": {
            "standoff": 15
           },
           "zerolinecolor": "white",
           "zerolinewidth": 2
          },
          "yaxis": {
           "automargin": true,
           "gridcolor": "white",
           "linecolor": "white",
           "ticks": "",
           "title": {
            "standoff": 15
           },
           "zerolinecolor": "white",
           "zerolinewidth": 2
          }
         }
        },
        "title": {
         "text": "Impact sur le changement climatique des aliments selon l'espèce animale et l'étape de production"
        },
        "width": 1200,
        "xaxis": {
         "anchor": "y",
         "domain": [
          0,
          0.2888888888888889
         ]
        },
        "xaxis2": {
         "anchor": "y2",
         "domain": [
          0.35555555555555557,
          0.6444444444444445
         ]
        },
        "xaxis3": {
         "anchor": "y3",
         "domain": [
          0.7111111111111111,
          1
         ]
        },
        "xaxis4": {
         "anchor": "y4",
         "domain": [
          0,
          0.2888888888888889
         ]
        },
        "xaxis5": {
         "anchor": "y5",
         "domain": [
          0.35555555555555557,
          0.6444444444444445
         ]
        },
        "xaxis6": {
         "anchor": "y6",
         "domain": [
          0.7111111111111111,
          1
         ]
        },
        "yaxis": {
         "anchor": "x",
         "domain": [
          0.625,
          1
         ]
        },
        "yaxis2": {
         "anchor": "x2",
         "domain": [
          0.625,
          1
         ]
        },
        "yaxis3": {
         "anchor": "x3",
         "domain": [
          0.625,
          1
         ]
        },
        "yaxis4": {
         "anchor": "x4",
         "domain": [
          0,
          0.375
         ]
        },
        "yaxis5": {
         "anchor": "x5",
         "domain": [
          0,
          0.375
         ]
        },
        "yaxis6": {
         "anchor": "x6",
         "domain": [
          0,
          0.375
         ]
        }
       }
      }
     },
     "metadata": {},
     "output_type": "display_data"
    }
   ],
   "source": [
    "indicateurs = dfsous_categorie.columns[6:12]\n",
    "indicateurs\n",
    "\n",
    "separation_graphique = subplots.make_subplots(rows = 2, cols = 3, subplot_titles = (indicateurs))\n",
    "\n",
    "plot = 0\n",
    "\n",
    "for indi in indicateurs:\n",
    "    ligne = np.unravel_index(plot, (2, 3))[0]+1\n",
    "    colonne = np.unravel_index(plot, (2, 3))[1]+1\n",
    "    indi = go.Bar(y=impact_espece.index, x=impact_espece[indi], name=indi, orientation=\"h\")\n",
    "    representation = go.Figure(data=indi, layout=legende)\n",
    "    separation_graphique.append_trace(indi, ligne, colonne)\n",
    "    plot += 1\n",
    "   \n",
    "    \n",
    "\n",
    "separation_graphique.update_layout(height=800, width=1200, title_text=\"Impact sur le changement climatique des aliments selon l'espèce animale et l'étape de production\", showlegend = False)\n",
    "iplot({\"data\" : separation_graphique})"
   ]
  },
  {
   "attachments": {},
   "cell_type": "markdown",
   "metadata": {},
   "source": [
    "## Comparaison enchiladas / fondue savoyarde"
   ]
  },
  {
   "attachments": {},
   "cell_type": "markdown",
   "metadata": {},
   "source": [
    "### Enchiladas"
   ]
  },
  {
   "cell_type": "code",
   "execution_count": 157,
   "metadata": {},
   "outputs": [
    {
     "name": "stderr",
     "output_type": "stream",
     "text": [
      "C:\\Users\\cefim\\AppData\\Local\\Temp\\ipykernel_31776\\2324446304.py:1: FutureWarning:\n",
      "\n",
      "Calling int on a single element Series is deprecated and will raise a TypeError in the future. Use int(ser.iloc[0]) instead\n",
      "\n"
     ]
    }
   ],
   "source": [
    "poulet = int(dfdetail[dfdetail[\"Nom du Produit en Français\"].str.contains(\"Poulet, filet, sans peau, cru\")][\"Total\"])*0.178"
   ]
  },
  {
   "cell_type": "code",
   "execution_count": 158,
   "metadata": {},
   "outputs": [
    {
     "name": "stderr",
     "output_type": "stream",
     "text": [
      "C:\\Users\\cefim\\AppData\\Local\\Temp\\ipykernel_31776\\4029933140.py:1: FutureWarning:\n",
      "\n",
      "Calling int on a single element Series is deprecated and will raise a TypeError in the future. Use int(ser.iloc[0]) instead\n",
      "\n"
     ]
    }
   ],
   "source": [
    "sauce = int(dfdetail[dfdetail[\"Nom du Produit en Français\"].str.contains(\"Sauce tomate aux oignons, préemballée\")][\"Total\"])*0.35"
   ]
  },
  {
   "cell_type": "code",
   "execution_count": 159,
   "metadata": {},
   "outputs": [
    {
     "name": "stderr",
     "output_type": "stream",
     "text": [
      "C:\\Users\\cefim\\AppData\\Local\\Temp\\ipykernel_31776\\1639935297.py:1: FutureWarning:\n",
      "\n",
      "Calling int on a single element Series is deprecated and will raise a TypeError in the future. Use int(ser.iloc[0]) instead\n",
      "\n"
     ]
    }
   ],
   "source": [
    "cheddar = int(dfdetail[dfdetail[\"Nom du Produit en Français\"].str.contains(\"Cheddar\")][\"Total\"])*0.4"
   ]
  },
  {
   "cell_type": "code",
   "execution_count": 160,
   "metadata": {},
   "outputs": [
    {
     "name": "stderr",
     "output_type": "stream",
     "text": [
      "C:\\Users\\cefim\\AppData\\Local\\Temp\\ipykernel_31776\\185817436.py:1: FutureWarning:\n",
      "\n",
      "Calling int on a single element Series is deprecated and will raise a TypeError in the future. Use int(ser.iloc[0]) instead\n",
      "\n"
     ]
    }
   ],
   "source": [
    "mais = int(dfdetail[dfdetail[\"Nom du Produit en Français\"].str.contains(\"Maïs doux, appertisé, égoutté\")][\"Total\"])*0.12"
   ]
  },
  {
   "cell_type": "code",
   "execution_count": 161,
   "metadata": {},
   "outputs": [
    {
     "name": "stderr",
     "output_type": "stream",
     "text": [
      "C:\\Users\\cefim\\AppData\\Local\\Temp\\ipykernel_31776\\1372764531.py:1: FutureWarning:\n",
      "\n",
      "Calling int on a single element Series is deprecated and will raise a TypeError in the future. Use int(ser.iloc[0]) instead\n",
      "\n"
     ]
    }
   ],
   "source": [
    "haricot = int(dfdetail[dfdetail[\"Nom du Produit en Français\"].str.contains(\"Haricot rouge, appertisé, égoutté\")][\"Total\"])*0.12"
   ]
  },
  {
   "cell_type": "code",
   "execution_count": 162,
   "metadata": {},
   "outputs": [
    {
     "name": "stderr",
     "output_type": "stream",
     "text": [
      "C:\\Users\\cefim\\AppData\\Local\\Temp\\ipykernel_31776\\4242273454.py:1: FutureWarning:\n",
      "\n",
      "Calling int on a single element Series is deprecated and will raise a TypeError in the future. Use int(ser.iloc[0]) instead\n",
      "\n"
     ]
    }
   ],
   "source": [
    "poivron = int(dfdetail[dfdetail[\"Nom du Produit en Français\"].str.contains(\"Poivron, vert, jaune ou rouge, cru\")][\"Total\"])*0.1"
   ]
  },
  {
   "cell_type": "code",
   "execution_count": 163,
   "metadata": {},
   "outputs": [],
   "source": [
    "tortilla = 1.201018*0.2\n"
   ]
  },
  {
   "cell_type": "code",
   "execution_count": 164,
   "metadata": {},
   "outputs": [
    {
     "data": {
      "text/plain": [
       "4.048203600000001"
      ]
     },
     "execution_count": 164,
     "metadata": {},
     "output_type": "execute_result"
    }
   ],
   "source": [
    "poulet + sauce + cheddar + mais + haricot + poivron + tortilla"
   ]
  },
  {
   "attachments": {},
   "cell_type": "markdown",
   "metadata": {},
   "source": [
    "## Fondue savoyarde"
   ]
  },
  {
   "cell_type": "code",
   "execution_count": 165,
   "metadata": {},
   "outputs": [
    {
     "name": "stderr",
     "output_type": "stream",
     "text": [
      "C:\\Users\\cefim\\AppData\\Local\\Temp\\ipykernel_31776\\702732125.py:1: FutureWarning:\n",
      "\n",
      "Calling int on a single element Series is deprecated and will raise a TypeError in the future. Use int(ser.iloc[0]) instead\n",
      "\n"
     ]
    }
   ],
   "source": [
    "comté = int(dfdetail[dfdetail[\"Nom du Produit en Français\"].str.contains(\"Comté\")][\"Total\"])*0.25"
   ]
  },
  {
   "cell_type": "code",
   "execution_count": 166,
   "metadata": {},
   "outputs": [
    {
     "name": "stderr",
     "output_type": "stream",
     "text": [
      "C:\\Users\\cefim\\AppData\\Local\\Temp\\ipykernel_31776\\1013270102.py:1: FutureWarning:\n",
      "\n",
      "Calling int on a single element Series is deprecated and will raise a TypeError in the future. Use int(ser.iloc[0]) instead\n",
      "\n"
     ]
    }
   ],
   "source": [
    "beaufort = int(dfdetail[dfdetail[\"Nom du Produit en Français\"].str.contains(\"Beaufort\")][\"Total\"])*0.25"
   ]
  },
  {
   "cell_type": "code",
   "execution_count": 167,
   "metadata": {},
   "outputs": [
    {
     "name": "stderr",
     "output_type": "stream",
     "text": [
      "C:\\Users\\cefim\\AppData\\Local\\Temp\\ipykernel_31776\\2187314585.py:1: FutureWarning:\n",
      "\n",
      "Calling int on a single element Series is deprecated and will raise a TypeError in the future. Use int(ser.iloc[0]) instead\n",
      "\n"
     ]
    }
   ],
   "source": [
    "emmental = int(dfdetail[dfdetail[\"Nom du Produit en Français\"]==\"Emmental ou emmenthal\"][\"Total\"])*0.3"
   ]
  },
  {
   "cell_type": "code",
   "execution_count": 168,
   "metadata": {},
   "outputs": [
    {
     "name": "stderr",
     "output_type": "stream",
     "text": [
      "C:\\Users\\cefim\\AppData\\Local\\Temp\\ipykernel_31776\\554226356.py:1: FutureWarning:\n",
      "\n",
      "Calling int on a single element Series is deprecated and will raise a TypeError in the future. Use int(ser.iloc[0]) instead\n",
      "\n"
     ]
    }
   ],
   "source": [
    "abondance = int(dfdetail[dfdetail[\"Nom du Produit en Français\"].str.contains(\"Abondance\")][\"Total\"])*0.2"
   ]
  },
  {
   "cell_type": "code",
   "execution_count": 169,
   "metadata": {},
   "outputs": [
    {
     "name": "stderr",
     "output_type": "stream",
     "text": [
      "C:\\Users\\cefim\\AppData\\Local\\Temp\\ipykernel_31776\\1895220938.py:1: FutureWarning:\n",
      "\n",
      "Calling int on a single element Series is deprecated and will raise a TypeError in the future. Use int(ser.iloc[0]) instead\n",
      "\n"
     ]
    }
   ],
   "source": [
    "vin_blanc = int(dfdetail[dfdetail[\"Nom du Produit en Français\"].str.contains(\"Vin blanc sec\")][\"Total\"])*0.1"
   ]
  },
  {
   "cell_type": "code",
   "execution_count": 170,
   "metadata": {},
   "outputs": [
    {
     "name": "stderr",
     "output_type": "stream",
     "text": [
      "C:\\Users\\cefim\\AppData\\Local\\Temp\\ipykernel_31776\\3476531841.py:1: FutureWarning:\n",
      "\n",
      "Calling int on a single element Series is deprecated and will raise a TypeError in the future. Use int(ser.iloc[0]) instead\n",
      "\n"
     ]
    }
   ],
   "source": [
    "ail = int(dfdetail[dfdetail[\"Nom du Produit en Français\"].str.contains(\"Ail, cru\")][\"Total\"])*0.05"
   ]
  },
  {
   "cell_type": "code",
   "execution_count": 171,
   "metadata": {},
   "outputs": [
    {
     "data": {
      "text/plain": [
       "6.1"
      ]
     },
     "execution_count": 171,
     "metadata": {},
     "output_type": "execute_result"
    }
   ],
   "source": [
    "comté + beaufort + emmental + abondance + vin_blanc + ail"
   ]
  }
 ],
 "metadata": {
  "kernelspec": {
   "display_name": "venvprojetpython",
   "language": "python",
   "name": "python3"
  },
  "language_info": {
   "codemirror_mode": {
    "name": "ipython",
    "version": 3
   },
   "file_extension": ".py",
   "mimetype": "text/x-python",
   "name": "python",
   "nbconvert_exporter": "python",
   "pygments_lexer": "ipython3",
   "version": "3.10.11"
  },
  "orig_nbformat": 4
 },
 "nbformat": 4,
 "nbformat_minor": 2
}
